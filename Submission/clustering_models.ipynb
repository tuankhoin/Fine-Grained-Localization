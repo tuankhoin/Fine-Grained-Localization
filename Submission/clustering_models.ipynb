{
 "cells": [
  {
   "cell_type": "markdown",
   "metadata": {},
   "source": [
    "# Basic implmentation of Clustered Online Cumulative K-Means (CLOCK)"
   ]
  },
  {
   "cell_type": "code",
   "execution_count": 16,
   "metadata": {},
   "outputs": [],
   "source": [
    "import numpy as np\n",
    "import pandas as pd\n",
    "import matplotlib.pyplot as plt\n",
    "import pickle\n",
    "from tqdm import tqdm"
   ]
  },
  {
   "cell_type": "markdown",
   "metadata": {},
   "source": [
    "## Importing data"
   ]
  },
  {
   "cell_type": "code",
   "execution_count": 17,
   "metadata": {},
   "outputs": [],
   "source": [
    "# CNN feature matches\n",
    "dist = pd.read_csv('./resnet101_matches_distance.csv').values\n",
    "fname = pd.read_csv('./resnet101_matches_filename.csv').values\n",
    "# SIFT matches\n",
    "good = pd.read_csv('./sift_matches_distance.csv').values\n",
    "fgood = pd.read_csv('./sift_matches_filename.csv').values"
   ]
  },
  {
   "cell_type": "code",
   "execution_count": 38,
   "metadata": {},
   "outputs": [],
   "source": [
    "# Train dataset\n",
    "train_xy = pd.read_csv('train.csv', index_col=0)\n",
    "test_path = pd.read_csv('imagenames.csv')['id'].values"
   ]
  },
  {
   "cell_type": "markdown",
   "metadata": {},
   "source": [
    "# Running the models"
   ]
  },
  {
   "cell_type": "markdown",
   "metadata": {},
   "source": [
    "## Main functions"
   ]
  },
  {
   "cell_type": "code",
   "execution_count": 19,
   "metadata": {},
   "outputs": [],
   "source": [
    "# Limit the candidate pictures to a limited decrease only, comparing to the top one\n",
    "extract_match = lambda i, thresh: fname[i,np.argwhere(dist[i] < dist[i,0] + thresh)]"
   ]
  },
  {
   "cell_type": "markdown",
   "metadata": {},
   "source": [
    "## Choosing the biggest cluster for each image, starting from best CNN matches onwards"
   ]
  },
  {
   "cell_type": "code",
   "execution_count": 31,
   "metadata": {},
   "outputs": [],
   "source": [
    "# Clustered Online Cumulative K-Means (CLOCK) \n",
    "from kmeans import onl_kmeans"
   ]
  },
  {
   "cell_type": "markdown",
   "metadata": {},
   "source": [
    "## Running the algorithm, and export the results"
   ]
  },
  {
   "cell_type": "code",
   "execution_count": 42,
   "metadata": {},
   "outputs": [
    {
     "name": "stderr",
     "output_type": "stream",
     "text": [
      "100%|██████████| 1200/1200 [00:01<00:00, 1042.02it/s]\n"
     ]
    }
   ],
   "source": [
    "# Processing parameters\n",
    "threshold = 5\n",
    "max_clusters = 5\n",
    "max_radius = 8\n",
    "min_size = 2\n",
    "\n",
    "locs = []\n",
    "fnames = []\n",
    "centroids = []\n",
    "for i,_ in enumerate(tqdm(test_path)):\n",
    "    img_idx = extract_match(i,threshold).flatten()\n",
    "    coords = train_xy.loc[img_idx].values\n",
    "    loc, f, centroid = onl_kmeans(coords, img_idx, max_clusters, max_radius, min_size)\n",
    "    locs.append(loc)\n",
    "    fnames.append(f)\n",
    "    centroids.append(centroid)"
   ]
  },
  {
   "cell_type": "code",
   "execution_count": 15,
   "metadata": {},
   "outputs": [],
   "source": [
    "# If export cluster image specs for SIFT, run this\n",
    "f = open(f'./kmeans_coords.pckl','wb')\n",
    "pickle.dump(locs,f)\n",
    "f.close()\n",
    "\n",
    "f = open(f'./fnames_coords.pckl','wb')\n",
    "pickle.dump(fnames,f)\n",
    "f.close()"
   ]
  },
  {
   "cell_type": "code",
   "execution_count": 43,
   "metadata": {},
   "outputs": [],
   "source": [
    "# If taking centroid as output, run this\n",
    "out = pd.DataFrame(centroids,index=test_path)\n",
    "out.to_csv('CLOCK_5_5_8_2.csv',index_label='id',header=['x','y'])"
   ]
  },
  {
   "cell_type": "markdown",
   "metadata": {},
   "source": [
    "## Partial SIFT Implementation: Only match on large enough clusters"
   ]
  },
  {
   "cell_type": "code",
   "execution_count": null,
   "metadata": {},
   "outputs": [
    {
     "name": "stderr",
     "output_type": "stream",
     "text": [
      "100%|██████████| 1200/1200 [07:46<00:00,  2.57it/s]\n"
     ]
    }
   ],
   "source": [
    "# Processing\n",
    "threshold = 5\n",
    "max_clusters = 5\n",
    "max_radius = 7\n",
    "min_size = 3\n",
    "\n",
    "# FLANN specs\n",
    "FLANN_INDEX_KDTREE = 1\n",
    "index_params = dict(algorithm = FLANN_INDEX_KDTREE, trees = 5)\n",
    "search_params = dict(checks=50)\n",
    "flann = cv2.FlannBasedMatcher(index_params,search_params)\n",
    "\n",
    "centroids = []\n",
    "for i,test in enumerate(tqdm(test_path)):\n",
    "    img_idx = extract_match(i,threshold).flatten()\n",
    "    coords = train_xy.loc[img_idx].values\n",
    "    _, _, centroid = onl_kmeans(coords, img_idx, max_clusters, max_radius, min_size)\n",
    "    if centroid is None:\n",
    "        with open(f'./test_kp/test_kp{test}.pckl', 'rb') as test_sift_file:\n",
    "            des_test = pickle.load(test_sift_file)\n",
    "        goods = []\n",
    "\n",
    "        for train in img_idx:\n",
    "            with open(f'./train_kp/train_kp{train}.pckl', 'rb') as train_sift_file:\n",
    "                des_train = pickle.load(train_sift_file)\n",
    "\n",
    "            # Matching descriptor using KNN algorithm\n",
    "            if des_train is None or len(des_train) < 2:\n",
    "                goods.append(-1)\n",
    "                continue\n",
    "            matches = flann.knnMatch(des_test,des_train,k=2)\n",
    "\n",
    "            # Store all good matches as per Lowe's Ratio test.\n",
    "            good = len([m for m,n in matches if m.distance < 0.7*n.distance])\n",
    "            goods.append(good)\n",
    "        \n",
    "        max_idx = np.argmax(goods)\n",
    "        centroids.append(train_xy.loc[img_idx[max_idx]].values)\n",
    "    else:\n",
    "        centroids.append(centroid)"
   ]
  },
  {
   "cell_type": "code",
   "execution_count": null,
   "metadata": {},
   "outputs": [],
   "source": [
    "out = pd.DataFrame(centroids,index=test_path)\n",
    "out.to_csv('CLOCK_bigger_cluster.csv',index_label='id',header=['x','y'])"
   ]
  },
  {
   "cell_type": "markdown",
   "metadata": {},
   "source": [
    "## SIFT implementation: Do feature matching on all CNN candidated pools, choose best matching image"
   ]
  },
  {
   "cell_type": "code",
   "execution_count": null,
   "metadata": {},
   "outputs": [
    {
     "name": "stderr",
     "output_type": "stream",
     "text": [
      "100%|██████████| 1200/1200 [20:45<00:00,  1.04s/it]\n"
     ]
    }
   ],
   "source": [
    "# CLOCK params for images with few features\n",
    "MIN_MATCHES = 5\n",
    "threshold = 5\n",
    "max_clusters = 5\n",
    "max_radius = 7\n",
    "min_size = 1\n",
    "\n",
    "# FLANN specs\n",
    "FLANN_INDEX_KDTREE = 1\n",
    "index_params = dict(algorithm = FLANN_INDEX_KDTREE, trees = 5)\n",
    "search_params = dict(checks=50)\n",
    "flann = cv2.FlannBasedMatcher(index_params,search_params)\n",
    "\n",
    "centroids = []\n",
    "for i,test in enumerate(tqdm(test_path)):\n",
    "    img_idx = extract_match(i,threshold).flatten()\n",
    "    \n",
    "    with open(f'./test_kp/test_kp{test}.pckl', 'rb') as test_sift_file:\n",
    "        des_test = pickle.load(test_sift_file)\n",
    "    goods = []\n",
    "\n",
    "    # Weak finding: Do CLOCK instead\n",
    "    if des_test is None or len(des_test) < MIN_MATCHES:\n",
    "        coords = train_xy.loc[img_idx].values\n",
    "        _, _, centroid = onl_kmeans(coords, img_idx, max_clusters, max_radius, min_size)\n",
    "        centroids.append(centroid)\n",
    "        continue\n",
    "\n",
    "    for train in img_idx:\n",
    "        with open(f'./train_kp/train_kp{train}.pckl', 'rb') as train_sift_file:\n",
    "            des_train = pickle.load(train_sift_file)\n",
    "\n",
    "        # Matching descriptor using KNN algorithm\n",
    "        if des_train is None or len(des_train) < 2:\n",
    "            goods.append(-1)\n",
    "            continue\n",
    "        matches = flann.knnMatch(des_test,des_train,k=2)\n",
    "\n",
    "        # Store all good matches as per Lowe's Ratio test.\n",
    "        good = len([m for m,n in matches if m.distance < 0.7*n.distance])\n",
    "        goods.append(good)\n",
    "    \n",
    "    max_idx = np.argmax(goods)\n",
    "    centroids.append(train_xy.loc[img_idx[max_idx]].values)"
   ]
  },
  {
   "cell_type": "code",
   "execution_count": null,
   "metadata": {},
   "outputs": [],
   "source": [
    "out = pd.DataFrame(centroids,index=test_path)\n",
    "out.to_csv('CLOCK_CNN_SIFT.csv',index_label='id',header=['x','y'])"
   ]
  },
  {
   "cell_type": "markdown",
   "metadata": {},
   "source": [
    "# Adding histogram matching as a new criteria"
   ]
  },
  {
   "cell_type": "code",
   "execution_count": null,
   "metadata": {},
   "outputs": [],
   "source": [
    "from kmeans import hist_onl_kmeans"
   ]
  },
  {
   "cell_type": "markdown",
   "metadata": {},
   "source": [
    "## Exhaustive SIFT implmentation: Do feature matching on CNN candidate pool, then do clustering to odd out outliers"
   ]
  },
  {
   "cell_type": "code",
   "execution_count": null,
   "metadata": {},
   "outputs": [
    {
     "name": "stderr",
     "output_type": "stream",
     "text": [
      "100%|██████████| 1200/1200 [01:29<00:00, 13.42it/s]\n"
     ]
    }
   ],
   "source": [
    "# CLOCK params for images with few features\n",
    "MIN_MATCHES = 5\n",
    "threshold = 5\n",
    "max_clusters = 3\n",
    "max_radius = 12\n",
    "min_size = 1\n",
    "max_match_keep = 0.3\n",
    "\n",
    "# FLANN specs\n",
    "FLANN_INDEX_KDTREE = 1\n",
    "index_params = dict(algorithm = FLANN_INDEX_KDTREE, trees = 5)\n",
    "search_params = dict(checks=50)\n",
    "flann = cv2.FlannBasedMatcher(index_params,search_params)\n",
    "\n",
    "centroids = []\n",
    "for i,test in enumerate(tqdm(test_path)):\n",
    "    # Histogram calculation\n",
    "    test_img = cv2.imread('./test/' + test + '.jpg')\n",
    "    t_hist = cv2.calcHist([test_img],[0],None,[256],[0,256])\n",
    "\n",
    "    img_idx = extract_match(i,threshold).flatten()\n",
    "    \n",
    "    sift_fname = fgood[i,:]\n",
    "    sift_match = good[i,:]\n",
    "\n",
    "    # Weak finding: Do CLOCK instead\n",
    "    if sift_fname[0] is np.nan:\n",
    "        coords = train_xy.loc[img_idx].values\n",
    "        _, _, centroid = hist_onl_kmeans(coords, t_hist, img_idx, \n",
    "                                         threshold, max_radius, min_size)\n",
    "        centroids.append(centroid)\n",
    "        continue\n",
    "\n",
    "    # Get all cnn indices in order of best SIFT matches\n",
    "    matchings = []\n",
    "    good_m = []\n",
    "    for match_idx,m in enumerate(sift_fname):\n",
    "        if m in img_idx:\n",
    "            matchings.append(m)\n",
    "            good_m.append(sift_match[match_idx])\n",
    "            \n",
    "    # Once again do thresholding\n",
    "    good_match = [m for idx,m in enumerate(matchings) \n",
    "                  if good_m[idx] > good_m[0]*max_match_keep]\n",
    "\n",
    "    # Weak finding: Do CLOCK instead\n",
    "    if good_m[0] < MIN_MATCHES:\n",
    "        coords = train_xy.loc[img_idx].values\n",
    "        _, _, centroid = hist_onl_kmeans(coords, t_hist, img_idx, \n",
    "                                         threshold, max_radius, min_size)\n",
    "        centroids.append(centroid)\n",
    "        continue\n",
    "\n",
    "    coords = train_xy.loc[good_match].values\n",
    "    _, _, centroid = hist_onl_kmeans(coords, t_hist, good_match, \n",
    "                                     max_clusters, max_radius, min_size)\n",
    "    \n",
    "    centroids.append(centroid)"
   ]
  },
  {
   "cell_type": "code",
   "execution_count": null,
   "metadata": {},
   "outputs": [],
   "source": [
    "out = pd.DataFrame(centroids,index=test_path)\n",
    "out.to_csv('CLOCK_CNN_SIFT_cluster.csv',index_label='id',header=['x','y'])"
   ]
  },
  {
   "cell_type": "markdown",
   "metadata": {},
   "source": [
    "## Exhaustive SIFT, vote between: \n",
    "- cluster with best match\n",
    "- biggest cluster\n",
    "- cluster with most similar color spectrum"
   ]
  },
  {
   "cell_type": "code",
   "execution_count": null,
   "metadata": {},
   "outputs": [
    {
     "name": "stderr",
     "output_type": "stream",
     "text": [
      "100%|██████████| 1200/1200 [01:22<00:00, 14.52it/s]\n"
     ]
    }
   ],
   "source": [
    "# CLOCK params for images with few features\n",
    "MIN_MATCHES = 5\n",
    "threshold = 5\n",
    "max_clusters = 5\n",
    "max_radius = 15\n",
    "min_size = 1\n",
    "max_match_keep = 0.4\n",
    "\n",
    "# FLANN specs\n",
    "FLANN_INDEX_KDTREE = 1\n",
    "index_params = dict(algorithm = FLANN_INDEX_KDTREE, trees = 5)\n",
    "search_params = dict(checks=50)\n",
    "flann = cv2.FlannBasedMatcher(index_params,search_params)\n",
    "\n",
    "centroids = []\n",
    "for i,test in enumerate(tqdm(test_path)):\n",
    "    # Histogram calculation\n",
    "    test_img = cv2.imread('./test/' + test + '.jpg')\n",
    "    t_hist = cv2.calcHist([test_img],[0],None,[256],[0,256])\n",
    "\n",
    "    img_idx = extract_match(i,threshold).flatten()\n",
    "    \n",
    "    sift_fname = fgood[i,:]\n",
    "    sift_match = good[i,:]\n",
    "\n",
    "    # Weak finding: Just get the most similar color\n",
    "    if sift_fname[0] is np.nan:\n",
    "        coords = train_xy.loc[img_idx].values\n",
    "        _, _, centroid = hist_onl_kmeans(coords, t_hist, img_idx, -1, \n",
    "                                         max_radius, min_size, \n",
    "                                         take_best_hist=True)\n",
    "        centroids.append(centroid)\n",
    "        continue\n",
    "\n",
    "    # Get all cnn indices in order of best SIFT matches\n",
    "    matchings = []\n",
    "    good_m = []\n",
    "    for match_idx,m in enumerate(sift_fname):\n",
    "        if m in img_idx:\n",
    "            matchings.append(m)\n",
    "            good_m.append(sift_match[match_idx])\n",
    "\n",
    "    # Once again do thresholding\n",
    "    good_match = [m for idx,m in enumerate(matchings) \n",
    "                  if good_m[idx] > good_m[0]*max_match_keep]\n",
    "\n",
    "    # Weak finding: Just get the most similar color\n",
    "    if good_m[0] < MIN_MATCHES:\n",
    "        coords = train_xy.loc[img_idx].values\n",
    "        _, _, centroid = hist_onl_kmeans(coords, t_hist, img_idx, -1, \n",
    "                                         max_radius, min_size, \n",
    "                                         take_best_hist=True)\n",
    "        centroids.append(centroid)\n",
    "        continue\n",
    "\n",
    "    coords = train_xy.loc[good_match].values\n",
    "    _, _, centroid = hist_onl_kmeans(coords, t_hist, good_match, max_clusters, \n",
    "                                     max_radius, min_size)\n",
    "    \n",
    "    centroids.append(centroid)"
   ]
  },
  {
   "cell_type": "code",
   "execution_count": null,
   "metadata": {},
   "outputs": [],
   "source": [
    "out = pd.DataFrame(centroids,index=test_path)\n",
    "out.to_csv('CLOCK_voting.csv',index_label='id',header=['x','y'])"
   ]
  },
  {
   "cell_type": "markdown",
   "metadata": {},
   "source": [
    "# Adding SIFT space calculation to try and get a more precise location"
   ]
  },
  {
   "cell_type": "code",
   "execution_count": null,
   "metadata": {},
   "outputs": [],
   "source": [
    "from kmeans import displacement_calculation\n",
    "\n",
    "# Getting the camera intrinsic matrix\n",
    "FOV_X = 73.3*np.pi/180\n",
    "FOV_Y = 53.1*np.pi/180\n",
    "\n",
    "cx = 680/2\n",
    "cy = 490/2\n",
    "\n",
    "fx = cx/np.tan(FOV_X/2)\n",
    "fy = cy/np.tan(FOV_Y/2)\n",
    "\n",
    "K = np.array([[fx,0,cx],\n",
    "              [0,fy,cy],\n",
    "              [0,0,1]])"
   ]
  },
  {
   "cell_type": "code",
   "execution_count": null,
   "metadata": {},
   "outputs": [
    {
     "name": "stderr",
     "output_type": "stream",
     "text": [
      "100%|██████████| 1200/1200 [10:32<00:00,  1.90it/s]\n"
     ]
    }
   ],
   "source": [
    "# CLOCK params for images with few features\n",
    "MIN_MATCHES = 5\n",
    "threshold = 5\n",
    "max_clusters = 5\n",
    "max_radius = 15\n",
    "min_size = 1\n",
    "max_match_keep = 0.4\n",
    "ratio = 0.6\n",
    "max_range = 10\n",
    "\n",
    "centroids = []\n",
    "for i,test in enumerate(tqdm(test_path)):\n",
    "    test_img = cv2.imread('./test/' + test + '.jpg')\n",
    "    t_hist = cv2.calcHist([test_img],[0],None,[256],[0,256])\n",
    "\n",
    "    img_idx = extract_match(i,threshold).flatten()\n",
    "    \n",
    "    sift_fname = fgood[i,:]\n",
    "    sift_match = good[i,:]\n",
    "\n",
    "    # Weak finding: Just get the most similar color\n",
    "    if sift_fname[0] is np.nan:\n",
    "        coords = train_xy.loc[img_idx].values\n",
    "        _, _, centroid = hist_onl_kmeans(coords, t_hist, img_idx, -1, \n",
    "                                         max_radius, min_size, \n",
    "                                         take_best_hist=True)\n",
    "        centroids.append(centroid)\n",
    "        continue\n",
    "\n",
    "    # Basically get all cnn indices in order of best SIFT matches\n",
    "    matchings = []\n",
    "    good_m = []\n",
    "    for match_idx,m in enumerate(sift_fname):\n",
    "        if m in img_idx:\n",
    "            matchings.append(m)\n",
    "            good_m.append(sift_match[match_idx])\n",
    "    # Once again do thresholding\n",
    "    good_match = [m for idx,m in enumerate(matchings) \n",
    "                  if good_m[idx] > good_m[0]*max_match_keep]\n",
    "\n",
    "    # Weak finding: Just get the most similar color\n",
    "    if good_m[0] < MIN_MATCHES:\n",
    "        coords = train_xy.loc[img_idx].values\n",
    "        _, _, centroid = hist_onl_kmeans(coords, t_hist, img_idx, -1, \n",
    "                                         max_radius, min_size, \n",
    "                                         take_best_hist=True)\n",
    "        centroids.append(centroid)\n",
    "        continue\n",
    "\n",
    "    coords = train_xy.loc[good_match].values\n",
    "    locs, fnames, centroid = hist_onl_kmeans(coords, t_hist, \n",
    "                                             good_match, max_clusters, \n",
    "                                             max_radius, min_size)\n",
    "    final_loc = displacement_calculation(test_img, centroid, locs, \n",
    "                                         fnames, K, ratio, max_range)\n",
    "    centroids.append(final_loc)"
   ]
  },
  {
   "cell_type": "code",
   "execution_count": null,
   "metadata": {},
   "outputs": [],
   "source": [
    "out = pd.DataFrame(centroids,index=test_path)\n",
    "out.to_csv('SIFT_transform.csv',index_label='id',header=['x','y'])"
   ]
  }
 ],
 "metadata": {
  "interpreter": {
   "hash": "4621005da5c26ac209901ca167bf25025457b064ec855aea9ba97365ac8d4984"
  },
  "kernelspec": {
   "display_name": "Python 3.6.8 64-bit",
   "name": "python3"
  },
  "language_info": {
   "codemirror_mode": {
    "name": "ipython",
    "version": 3
   },
   "file_extension": ".py",
   "mimetype": "text/x-python",
   "name": "python",
   "nbconvert_exporter": "python",
   "pygments_lexer": "ipython3",
   "version": "3.6.8"
  },
  "orig_nbformat": 4
 },
 "nbformat": 4,
 "nbformat_minor": 2
}
