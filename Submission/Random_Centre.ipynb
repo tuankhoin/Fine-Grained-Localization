{
 "cells": [
  {
   "cell_type": "code",
   "execution_count": 1,
   "id": "1021672f",
   "metadata": {},
   "outputs": [],
   "source": [
    "import numpy as np\n",
    "import pandas as pd\n",
    "import matplotlib.pyplot as plt\n",
    "import pickle\n",
    "import cv2\n",
    "from tqdm import tqdm\n",
    "import random"
   ]
  },
  {
   "cell_type": "code",
   "execution_count": 9,
   "id": "565b0583",
   "metadata": {},
   "outputs": [],
   "source": [
    "# read train and test data\n",
    "train_xy = pd.read_csv('validate_train.csv')\n",
    "train_path =  pd.read_csv('validate_train.csv')['id'].values\n",
    "test_path = pd.read_csv('validate.csv')['id'].values\n",
    "test_xy =  pd.read_csv('validate.csv')"
   ]
  },
  {
   "cell_type": "code",
   "execution_count": 4,
   "id": "b4679e01",
   "metadata": {},
   "outputs": [],
   "source": [
    "random_set = random.sample(list(train_path),(len(test_path)))"
   ]
  },
  {
   "cell_type": "code",
   "execution_count": 32,
   "id": "d5620d80",
   "metadata": {},
   "outputs": [],
   "source": [
    "out=[]\n",
    "for i in range(len(test_path)):\n",
    "    coor = train_xy[train_xy['id'] == random_set[i]]\n",
    "    out.append([test_path[i], coor.iloc[0]['x'], coor.iloc[0]['y']])\n",
    "    \n",
    "out_csv = pd.DataFrame(out, columns=['id','x','y'])\n",
    "out_csv.to_csv('validate_random.csv',index=False)"
   ]
  },
  {
   "cell_type": "code",
   "execution_count": 33,
   "id": "c5e53882",
   "metadata": {},
   "outputs": [],
   "source": [
    "predict = pd.read_csv('validate_random.csv')"
   ]
  },
  {
   "cell_type": "code",
   "execution_count": 35,
   "id": "d62f45af",
   "metadata": {},
   "outputs": [],
   "source": [
    "# calculate MAE\n",
    "MAE = np.abs(predict['x']-test_xy['x']) + np.abs(predict['y']-test_xy['y'])\n",
    "MAE = np.sum(MAE)/1200"
   ]
  },
  {
   "cell_type": "code",
   "execution_count": 36,
   "id": "6ae177e7",
   "metadata": {},
   "outputs": [
    {
     "data": {
      "text/plain": [
       "58.65499999977333"
      ]
     },
     "execution_count": 36,
     "metadata": {},
     "output_type": "execute_result"
    }
   ],
   "source": [
    "MAE"
   ]
  },
  {
   "cell_type": "code",
   "execution_count": 38,
   "id": "b6cbaca9",
   "metadata": {},
   "outputs": [],
   "source": [
    "centroid_x, centroid_y  = np.mean(train_xy['x']),np.mean(train_xy['y'])"
   ]
  },
  {
   "cell_type": "code",
   "execution_count": 39,
   "id": "8379207c",
   "metadata": {},
   "outputs": [
    {
     "data": {
      "text/plain": [
       "0     -22.517739\n",
       "1     -54.617739\n",
       "2     -50.917739\n",
       "3      56.882261\n",
       "4     -28.917739\n",
       "         ...    \n",
       "595    48.082261\n",
       "596     6.282261\n",
       "597    10.082261\n",
       "598    64.082261\n",
       "599     4.982261\n",
       "Name: x, Length: 600, dtype: float64"
      ]
     },
     "execution_count": 39,
     "metadata": {},
     "output_type": "execute_result"
    }
   ],
   "source": [
    "centroid_x - test_xy['x']"
   ]
  },
  {
   "cell_type": "code",
   "execution_count": 40,
   "id": "4f8d72b0",
   "metadata": {},
   "outputs": [],
   "source": [
    "# calculate MAE\n",
    "MAE = np.abs(centroid_x-test_xy['x']) + np.abs(centroid_y-test_xy['y'])\n",
    "MAE = np.sum(MAE)/1200"
   ]
  },
  {
   "cell_type": "code",
   "execution_count": 41,
   "id": "10d0c02b",
   "metadata": {},
   "outputs": [
    {
     "data": {
      "text/plain": [
       "43.98898516936695"
      ]
     },
     "execution_count": 41,
     "metadata": {},
     "output_type": "execute_result"
    }
   ],
   "source": [
    "MAE"
   ]
  }
 ],
 "metadata": {
  "kernelspec": {
   "display_name": "Python 3 (ipykernel)",
   "language": "python",
   "name": "python3"
  },
  "language_info": {
   "codemirror_mode": {
    "name": "ipython",
    "version": 3
   },
   "file_extension": ".py",
   "mimetype": "text/x-python",
   "name": "python",
   "nbconvert_exporter": "python",
   "pygments_lexer": "ipython3",
   "version": "3.7.11"
  }
 },
 "nbformat": 4,
 "nbformat_minor": 5
}
