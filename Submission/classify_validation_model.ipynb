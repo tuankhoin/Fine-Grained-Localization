{
 "cells": [
  {
   "cell_type": "markdown",
   "metadata": {},
   "source": [
    "# Adversarial Validation Script\n",
    "\n",
    "This script takes in the validation dataset, the training set and the test set, then use adversarial validation to compare the level of representativeness between the validation dataset and the test dataset."
   ]
  },
  {
   "cell_type": "code",
   "execution_count": 1,
   "id": "53afe0e6",
   "metadata": {},
   "outputs": [],
   "source": [
    "import numpy as np\n",
    "import pandas as pd\n",
    "import os\n",
    "from tqdm import tqdm\n",
    "import matplotlib.pyplot as plt\n",
    "import pickle\n",
    "from sklearn.model_selection import train_test_split\n",
    "from sklearn.ensemble import RandomForestClassifier"
   ]
  },
  {
   "cell_type": "code",
   "execution_count": 2,
   "id": "fd9cb499",
   "metadata": {},
   "outputs": [],
   "source": [
    "# open feature extraction data file\n",
    "validate_file = open(f'./validate_resnet101.pckl','rb')\n",
    "train_file = open(f'./validate_train_resnet101.pckl','rb')\n",
    "train_resnet101 = pickle.load(train_file)\n",
    "validate_resnet101 = pickle.load(validate_file)\n",
    "\n",
    "# merge two dataset together and assign labels for training and validate set\n",
    "all_data = train_resnet101 + validate_resnet101\n",
    "all_label = [0]*6900 + [1]*600"
   ]
  },
  {
   "cell_type": "code",
   "execution_count": 4,
   "id": "13031ca2",
   "metadata": {},
   "outputs": [],
   "source": [
    "# split the data into train and validate set for classification \n",
    "X_train, X_validate, y_train, y_validate = train_test_split(all_data,all_label,test_size=0.33)"
   ]
  },
  {
   "cell_type": "code",
   "execution_count": 6,
   "id": "326b5ec5",
   "metadata": {},
   "outputs": [],
   "source": [
    "# open full feature extraction data file\n",
    "full_train = open(f'./train_resnet101.pckl','rb')\n",
    "full_train = pickle.load(full_train)\n",
    "full_test = open(f'./test_resnet101.pckl','rb')\n",
    "full_test = pickle.load(full_test)\n",
    "\n",
    "# merge two data set together and assign labels for training and test set\n",
    "all_full_data = full_train + full_test\n",
    "all_full_label = [0]*7500 + [1]*1200"
   ]
  },
  {
   "cell_type": "code",
   "execution_count": 7,
   "id": "426a9dd4",
   "metadata": {},
   "outputs": [],
   "source": [
    "X_full_train, X_full_test, y_full_train, y_full_test = train_test_split(all_full_data,all_full_label,test_size=0.33)"
   ]
  },
  {
   "cell_type": "code",
   "execution_count": 12,
   "id": "d6c6dae1",
   "metadata": {},
   "outputs": [
    {
     "name": "stdout",
     "output_type": "stream",
     "text": [
      "0.9361616161616162\n"
     ]
    }
   ],
   "source": [
    "# perform Random Forest Classification for the validate set\n",
    "clf = RandomForestClassifier(n_estimators=100,max_depth=2)\n",
    "\n",
    "# reshape data\n",
    "train = np.array(X_train).reshape(len(X_train),2048)\n",
    "validate = np.array(X_validate).reshape(len(X_validate),2048)\n",
    "\n",
    "clf.fit(train,y_train)\n",
    "validate_score = clf.score(validate,y_validate)\n",
    "print(validate_score)"
   ]
  },
  {
   "cell_type": "code",
   "execution_count": 13,
   "id": "1c9f3fb5",
   "metadata": {},
   "outputs": [
    {
     "name": "stdout",
     "output_type": "stream",
     "text": [
      "0.8652037617554859\n"
     ]
    }
   ],
   "source": [
    "# perfome Random Forest Classifier for the test set\n",
    "clf2 = RandomForestClassifier(n_estimators=100,max_depth=2)\n",
    "\n",
    "full_train = np.array(X_full_train).reshape(len(X_full_train),2048)\n",
    "full_test = np.array(X_full_test).reshape(len(X_full_test),2048)\n",
    "\n",
    "clf2.fit(full_train,y_full_train)\n",
    "test_score = clf.score(full_test,y_full_test)\n",
    "print(test_score)"
   ]
  }
 ],
 "metadata": {
  "kernelspec": {
   "display_name": "Python 3 (ipykernel)",
   "language": "python",
   "name": "python3"
  },
  "language_info": {
   "codemirror_mode": {
    "name": "ipython",
    "version": 3
   },
   "file_extension": ".py",
   "mimetype": "text/x-python",
   "name": "python",
   "nbconvert_exporter": "python",
   "pygments_lexer": "ipython3",
   "version": "3.7.11"
  }
 },
 "nbformat": 4,
 "nbformat_minor": 5
}
