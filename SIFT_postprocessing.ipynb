{
 "cells": [
  {
   "cell_type": "code",
   "execution_count": 8,
   "metadata": {},
   "outputs": [],
   "source": [
    "import numpy as np\n",
    "import pandas as pd\n",
    "import pickle\n",
    "import glob\n",
    "from tqdm import tqdm"
   ]
  },
  {
   "cell_type": "code",
   "execution_count": 2,
   "metadata": {},
   "outputs": [],
   "source": [
    "train_xy = pd.read_csv('train.csv')\n",
    "train_path = train_xy['id'].values\n",
    "test_path = pd.read_csv('imagenames.csv')['id'].values"
   ]
  },
  {
   "cell_type": "code",
   "execution_count": 46,
   "metadata": {},
   "outputs": [
    {
     "name": "stderr",
     "output_type": "stream",
     "text": [
      "100%|██████████| 1200/1200 [04:37<00:00,  4.32it/s]\n"
     ]
    }
   ],
   "source": [
    "weak_test = [path.replace('not_match\\\\sift_not_match_','').replace('.pckl','') \n",
    "             for path in glob.glob('not_match/*')]\n",
    "fname = np.empty((0,7500))\n",
    "match = np.empty((0,7500))\n",
    "for test in tqdm(test_path):\n",
    "    if test in weak_test:\n",
    "        fname = np.append(fname, np.empty((1,7500)) * (np.nan), axis=0)\n",
    "        match = np.append(match, np.empty((1,7500)) * (np.nan), axis=0)\n",
    "        continue\n",
    "    with open(f'./filename/sift_name_{test}.pckl','rb') as f:\n",
    "        fn = np.flip(pickle.load(f))\n",
    "    with open(f'./goodmatch/sift_good_n_{test}.pckl','rb') as f:\n",
    "        goods = np.flip(pickle.load(f))\n",
    "    if fn is None:\n",
    "        fname = np.append(fname, np.empty((1,7500)) * (np.nan), axis=0)\n",
    "        match = np.append(match, np.empty((1,7500)) * (np.nan), axis=0)\n",
    "        continue\n",
    "    fname = np.append(fname, [fn], axis=0)\n",
    "    match = np.append(match, [goods], axis=0)"
   ]
  },
  {
   "cell_type": "code",
   "execution_count": 50,
   "metadata": {},
   "outputs": [],
   "source": [
    "pd.DataFrame(fname).to_csv('sift_matches_filename.csv',index=False)\n",
    "pd.DataFrame(match).to_csv('sift_matches_distance.csv',index=False)"
   ]
  }
 ],
 "metadata": {
  "interpreter": {
   "hash": "4621005da5c26ac209901ca167bf25025457b064ec855aea9ba97365ac8d4984"
  },
  "kernelspec": {
   "display_name": "Python 3.6.8 64-bit",
   "name": "python3"
  },
  "language_info": {
   "codemirror_mode": {
    "name": "ipython",
    "version": 3
   },
   "file_extension": ".py",
   "mimetype": "text/x-python",
   "name": "python",
   "nbconvert_exporter": "python",
   "pygments_lexer": "ipython3",
   "version": "3.6.8"
  },
  "orig_nbformat": 4
 },
 "nbformat": 4,
 "nbformat_minor": 2
}
