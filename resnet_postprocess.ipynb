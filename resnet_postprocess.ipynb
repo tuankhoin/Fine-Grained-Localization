{
 "cells": [
  {
   "cell_type": "code",
   "execution_count": 1,
   "source": [
    "import numpy as np\r\n",
    "import pandas as pd\r\n",
    "from tqdm import tqdm\r\n",
    "import pickle"
   ],
   "outputs": [],
   "metadata": {}
  },
  {
   "cell_type": "code",
   "execution_count": 3,
   "source": [
    "train_xy = pd.read_csv('train.csv')\r\n",
    "train_path = train_xy['id'].values\r\n",
    "test_path = pd.read_csv('imagenames.csv')['id'].values\r\n",
    "\r\n",
    "f = open(f'./test_resnet101.pckl','rb')\r\n",
    "test_preds = pickle.load(f)\r\n",
    "f.close()\r\n",
    "\r\n",
    "f = open(f'./train_resnet101.pckl','rb')\r\n",
    "train_preds = pickle.load(f)\r\n",
    "f.close()"
   ],
   "outputs": [],
   "metadata": {}
  },
  {
   "cell_type": "code",
   "execution_count": 4,
   "source": [
    "best_train = []\r\n",
    "distance = []\r\n",
    "for test in tqdm(test_preds):\r\n",
    "    match = np.array([np.sum((train-test)**2)**0.5 for train in train_preds])\r\n",
    "    best_match = np.argsort(match)#[:3]\r\n",
    "    row = train_xy.iloc[best_match]['id'].values\r\n",
    "    best_train.append(row)\r\n",
    "    distance.append(match[best_match])\r\n",
    "\r\n",
    "col = [f'{i+1}' for i in range(7500)]\r\n",
    "df = pd.DataFrame(best_train, columns=col)\r\n",
    "df.to_csv('resnet101_matches_filename.csv',index=False)\r\n",
    "df = pd.DataFrame(distance, columns=col)\r\n",
    "df.to_csv('resnet101_matches_distance.csv',index=False)"
   ],
   "outputs": [
    {
     "output_type": "stream",
     "name": "stderr",
     "text": [
      "  9%|▉         | 110/1200 [00:11<01:51,  9.79it/s]"
     ]
    }
   ],
   "metadata": {}
  }
 ],
 "metadata": {
  "orig_nbformat": 4,
  "language_info": {
   "name": "python",
   "version": "3.6.8",
   "mimetype": "text/x-python",
   "codemirror_mode": {
    "name": "ipython",
    "version": 3
   },
   "pygments_lexer": "ipython3",
   "nbconvert_exporter": "python",
   "file_extension": ".py"
  },
  "kernelspec": {
   "name": "python3",
   "display_name": "Python 3.6.8 64-bit"
  },
  "interpreter": {
   "hash": "4621005da5c26ac209901ca167bf25025457b064ec855aea9ba97365ac8d4984"
  }
 },
 "nbformat": 4,
 "nbformat_minor": 2
}