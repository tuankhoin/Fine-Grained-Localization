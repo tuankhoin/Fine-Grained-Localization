{
 "cells": [
  {
   "cell_type": "code",
   "execution_count": 27,
   "source": [
    "import numpy as np\r\n",
    "import pandas as pd\r\n",
    "import cv2\r\n",
    "from tqdm import tqdm\r\n",
    "from matplotlib import pyplot as plt\r\n",
    "import pickle\r\n",
    "\r\n",
    "import tensorflow as tf\r\n",
    "from keras.applications.resnet_v2 import *\r\n",
    "from keras.applications.vgg19 import *\r\n",
    "from keras.preprocessing.image_dataset import *"
   ],
   "outputs": [],
   "metadata": {}
  },
  {
   "cell_type": "code",
   "execution_count": 17,
   "source": [
    "train_i = []\r\n",
    "test_i = []\r\n",
    "\r\n",
    "train_xy = pd.read_csv('train.csv')\r\n",
    "train_path = train_xy['id'].values\r\n",
    "test_path = pd.read_csv('imagenames.csv')['id'].values\r\n",
    "\r\n",
    "# for f in train_path:\r\n",
    "#     i = cv2.imread('./train/' + f + '.jpg')\r\n",
    "#     train_i.append(i)\r\n",
    "# for f in test_path:\r\n",
    "#     i = cv2.imread('./test/' + f + '.jpg')\r\n",
    "#     test_i.append(i)"
   ],
   "outputs": [],
   "metadata": {}
  },
  {
   "cell_type": "code",
   "execution_count": 19,
   "source": [
    "#model = ResNet152V2(weights = 'imagenet', include_top = False)\r\n",
    "model = VGG19(weights='imagenet', include_top=False)"
   ],
   "outputs": [],
   "metadata": {}
  },
  {
   "cell_type": "code",
   "execution_count": 28,
   "source": [
    "train_preds = ...#[]\r\n",
    "test_preds = ...#[]\r\n",
    "\r\n",
    "# for i in tqdm(train_i):\r\n",
    "#     inp = preprocess_input(np.expand_dims(i, axis=0))\r\n",
    "#     pred = model.predict(inp)\r\n",
    "#     train_preds.append(pred)\r\n",
    "\r\n",
    "# for i in tqdm(test_i):\r\n",
    "#     inp = preprocess_input(np.expand_dims(i, axis=0))\r\n",
    "#     pred = model.predict(inp)\r\n",
    "#     test_preds.append(pred)"
   ],
   "outputs": [
    {
     "output_type": "stream",
     "name": "stderr",
     "text": [
      "100%|██████████| 7500/7500 [3:54:28<00:00,  1.88s/it]\n",
      "100%|██████████| 1200/1200 [51:38<00:00,  2.58s/it]\n"
     ]
    }
   ],
   "metadata": {}
  },
  {
   "cell_type": "code",
   "execution_count": 31,
   "source": [
    "# f = open(f'./test_vgg19.pckl','wb')\r\n",
    "# pickle.dump(test_preds,f)\r\n",
    "# f.close()\r\n",
    "\r\n",
    "# f = open(f'./train_vgg19.pckl','wb')\r\n",
    "# pickle.dump(train_preds,f)\r\n",
    "# f.close()"
   ],
   "outputs": [],
   "metadata": {}
  },
  {
   "cell_type": "code",
   "execution_count": 65,
   "source": [
    "#np.append(np.array([[4,5,6]]),[[1,2,3]],axis=0)\r\n",
    "train_xy.iloc[np.argsort([1,2,3])[-3:]]['id'].values"
   ],
   "outputs": [
    {
     "output_type": "execute_result",
     "data": {
      "text/plain": [
       "array(['IMG2744_1', 'IMG2744_2', 'IMG2744_3'], dtype=object)"
      ]
     },
     "metadata": {},
     "execution_count": 65
    }
   ],
   "metadata": {}
  },
  {
   "cell_type": "code",
   "execution_count": 67,
   "source": [
    "best_train = []\r\n",
    "for test in tqdm(test_preds):\r\n",
    "    match = [np.sum((train-test)**2)**0.5 for train in train_preds]\r\n",
    "    best_match = np.argsort(match)[-3:]\r\n",
    "    row = train_xy.iloc[best_match]['id'].values\r\n",
    "    best_train.append(row)\r\n",
    "\r\n",
    "df = pd.DataFrame(best_train, columns=['3','2','1'])\r\n",
    "df.to_csv('vgg19_matches.csv',index=False)"
   ],
   "outputs": [
    {
     "output_type": "stream",
     "name": "stderr",
     "text": [
      "100%|██████████| 1200/1200 [57:38<00:00,  2.88s/it]\n"
     ]
    }
   ],
   "metadata": {}
  }
 ],
 "metadata": {
  "orig_nbformat": 4,
  "language_info": {
   "name": "python",
   "version": "3.6.8",
   "mimetype": "text/x-python",
   "codemirror_mode": {
    "name": "ipython",
    "version": 3
   },
   "pygments_lexer": "ipython3",
   "nbconvert_exporter": "python",
   "file_extension": ".py"
  },
  "kernelspec": {
   "name": "python3",
   "display_name": "Python 3.6.8 64-bit"
  },
  "interpreter": {
   "hash": "4621005da5c26ac209901ca167bf25025457b064ec855aea9ba97365ac8d4984"
  }
 },
 "nbformat": 4,
 "nbformat_minor": 2
}