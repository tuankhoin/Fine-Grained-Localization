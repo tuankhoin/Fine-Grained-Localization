{
 "cells": [
  {
   "cell_type": "markdown",
   "metadata": {},
   "source": [
    "# Basic implmentation of Clustered Online Cumulative K-Means (CLOCK)"
   ]
  },
  {
   "cell_type": "code",
   "execution_count": 16,
   "metadata": {},
   "outputs": [],
   "source": [
    "import numpy as np\n",
    "import pandas as pd\n",
    "import matplotlib.pyplot as plt\n",
    "import pickle\n",
    "from tqdm import tqdm\n",
    "import cv2"
   ]
  },
  {
   "cell_type": "markdown",
   "metadata": {},
   "source": [
    "## Importing data"
   ]
  },
  {
   "cell_type": "code",
   "execution_count": 2,
   "metadata": {},
   "outputs": [],
   "source": [
    "# CNN feature matches\n",
    "dist = pd.read_csv('./resnet101_matches_distance.csv').values\n",
    "fname = pd.read_csv('./resnet101_matches_filename.csv').values\n",
    "# SIFT matches\n",
    "# good = pd.read_csv('./sift_matches_distance.csv').values\n",
    "# fgood = pd.read_csv('./sift_matches_filename.csv').values"
   ]
  },
  {
   "cell_type": "code",
   "execution_count": 3,
   "metadata": {},
   "outputs": [],
   "source": [
    "# Train dataset\n",
    "train_xy = pd.read_csv('validate_train.csv', index_col=0)\n",
    "train_path =  pd.read_csv('validate_train.csv')['id'].values\n",
    "test_path = pd.read_csv('validate.csv')['id'].values\n",
    "test_xy =  pd.read_csv('validate.csv')"
   ]
  },
  {
   "cell_type": "markdown",
   "metadata": {},
   "source": [
    "# Running the models"
   ]
  },
  {
   "cell_type": "markdown",
   "metadata": {},
   "source": [
    "## Main functions"
   ]
  },
  {
   "cell_type": "code",
   "execution_count": 4,
   "metadata": {},
   "outputs": [],
   "source": [
    "# Limit the candidate pictures to a limited decrease only, comparing to the top one\n",
    "extract_match = lambda i, thresh: fname[i,np.argwhere(dist[i] < dist[i,0] + thresh)]"
   ]
  },
  {
   "cell_type": "markdown",
   "metadata": {},
   "source": [
    "## Choosing the biggest cluster for each image, starting from best CNN matches onwards"
   ]
  },
  {
   "cell_type": "code",
   "execution_count": 6,
   "metadata": {},
   "outputs": [],
   "source": [
    "# Clustered Online Cumulative K-Means (COCK) \n",
    "def onl_kmeans(data, fnames, max_clusters, max_range, min_size = 2):\n",
    "    cluster_centrals = None\n",
    "    cluster_elems = []\n",
    "    cluster_filename = []\n",
    "    cluster_count = []\n",
    "    for i,coord in enumerate(data):\n",
    "        # Adding the first point as the first cluster central\n",
    "        if cluster_centrals is None:\n",
    "            cluster_centrals = np.array([coord])\n",
    "            cluster_elems.append([coord])\n",
    "            cluster_filename.append([fnames[i]])\n",
    "            cluster_count.append(1)\n",
    "            continue\n",
    "        # Get distance from point to each cluster\n",
    "        distances = np.sum((cluster_centrals - coord)**2, axis=1)**0.5\n",
    "        nearest = np.argmin(distances)\n",
    "        # If point is far away from clusters, it's on its own cluster\n",
    "        if distances[nearest] > max_range:\n",
    "            # Stop when max number of clusters reached and have a big enough cluster\n",
    "            if cluster_centrals.shape[0] >= max_clusters:\n",
    "                if np.max(cluster_count) >= min_size: break\n",
    "                # Not big enough clusters means that the CNN is messed up\n",
    "                return None,None,None\n",
    "            cluster_centrals = np.append(cluster_centrals,[coord], axis=0)\n",
    "            cluster_elems.append([coord])\n",
    "            cluster_filename.append([fnames[i]])\n",
    "            cluster_count.append(1)\n",
    "        # If not, it belongs to cluster with nearest centeal. Update that one\n",
    "        else:\n",
    "            cluster_centrals[nearest] = (cluster_centrals[nearest] \n",
    "                                       * cluster_count[nearest] \n",
    "                                       + coord) / (cluster_count[nearest]+1)\n",
    "            cluster_elems[nearest].append(coord)\n",
    "            cluster_filename[nearest].append(fnames[i])\n",
    "            cluster_count[nearest] += 1\n",
    "    # Return the coordinates, filenames, and center of the largest cluster\n",
    "    biggest_cluster = np.argmax(cluster_count)\n",
    "    return cluster_elems[biggest_cluster], \\\n",
    "           cluster_filename[biggest_cluster], \\\n",
    "           cluster_centrals[biggest_cluster]"
   ]
  },
  {
   "cell_type": "markdown",
   "metadata": {},
   "source": [
    "## Running the algorithm, and export the results"
   ]
  },
  {
   "cell_type": "code",
   "execution_count": 7,
   "metadata": {},
   "outputs": [
    {
     "name": "stderr",
     "output_type": "stream",
     "text": [
      "100%|██████████████████████████████████████████████████████████████████████████████| 600/600 [00:00<00:00, 1253.27it/s]\n"
     ]
    }
   ],
   "source": [
    "# Processing parameters\n",
    "threshold = 5\n",
    "max_clusters = 5\n",
    "max_radius = 8\n",
    "min_size = 2\n",
    "\n",
    "locs = []\n",
    "fnames = []\n",
    "centroids = []\n",
    "for i,_ in enumerate(tqdm(test_path)):\n",
    "    img_idx = extract_match(i,threshold).flatten()\n",
    "    coords = train_xy.loc[img_idx].values\n",
    "    loc, f, centroid = onl_kmeans(coords, img_idx, max_clusters, max_radius, min_size)\n",
    "    locs.append(loc)\n",
    "    fnames.append(f)\n",
    "    centroids.append(centroid)"
   ]
  },
  {
   "cell_type": "code",
   "execution_count": 8,
   "metadata": {},
   "outputs": [],
   "source": [
    "# If export cluster image specs for SIFT, run this\n",
    "f = open(f'./kmeans_coords.pckl','wb')\n",
    "pickle.dump(locs,f)\n",
    "f.close()\n",
    "\n",
    "f = open(f'./fnames_coords.pckl','wb')\n",
    "pickle.dump(fnames,f)\n",
    "f.close()"
   ]
  },
  {
   "cell_type": "code",
   "execution_count": 13,
   "metadata": {},
   "outputs": [
    {
     "data": {
      "text/plain": [
       "600"
      ]
     },
     "execution_count": 13,
     "metadata": {},
     "output_type": "execute_result"
    }
   ],
   "source": [
    "len(test_path)"
   ]
  },
  {
   "cell_type": "markdown",
   "metadata": {},
   "source": [
    "## Partial SIFT Implementation: Only match on large enough clusters"
   ]
  },
  {
   "cell_type": "code",
   "execution_count": 19,
   "metadata": {},
   "outputs": [
    {
     "name": "stderr",
     "output_type": "stream",
     "text": [
      "100%|████████████████████████████████████████████████████████████████████████████████| 600/600 [03:10<00:00,  3.15it/s]\n"
     ]
    }
   ],
   "source": [
    "# Processing\n",
    "threshold = 5\n",
    "max_clusters = 5\n",
    "max_radius = 7\n",
    "min_size = 3\n",
    "\n",
    "# FLANN specs\n",
    "FLANN_INDEX_KDTREE = 1\n",
    "index_params = dict(algorithm = FLANN_INDEX_KDTREE, trees = 5)\n",
    "search_params = dict(checks=50)\n",
    "flann = cv2.FlannBasedMatcher(index_params,search_params)\n",
    "\n",
    "centroids = []\n",
    "for i,test in enumerate(tqdm(test_path)):\n",
    "    img_idx = extract_match(i,threshold).flatten()\n",
    "    coords = train_xy.loc[img_idx].values\n",
    "    _, _, centroid = onl_kmeans(coords, img_idx, max_clusters, max_radius, min_size)\n",
    "    if centroid is None:\n",
    "        with open(f'./train_kp/train_kp{test}.pckl', 'rb') as test_sift_file:\n",
    "            des_test = pickle.load(test_sift_file)\n",
    "        goods = []\n",
    "\n",
    "        for train in img_idx:\n",
    "            with open(f'./train_kp/train_kp{train}.pckl', 'rb') as train_sift_file:\n",
    "                des_train = pickle.load(train_sift_file)\n",
    "\n",
    "            # Matching descriptor using KNN algorithm\n",
    "            if des_train is None or len(des_train) < 2:\n",
    "                goods.append(-1)\n",
    "                continue\n",
    "            matches = flann.knnMatch(des_test,des_train,k=2)\n",
    "\n",
    "            # Store all good matches as per Lowe's Ratio test.\n",
    "            good = len([m for m,n in matches if m.distance < 0.7*n.distance])\n",
    "            goods.append(good)\n",
    "        \n",
    "        max_idx = np.argmax(goods)\n",
    "        centroids.append(train_xy.loc[img_idx[max_idx]].values)\n",
    "    else:\n",
    "        centroids.append(centroid)"
   ]
  },
  {
   "cell_type": "code",
   "execution_count": 20,
   "metadata": {},
   "outputs": [],
   "source": [
    "out = pd.DataFrame(centroids,index=test_path)\n",
    "out.to_csv('CLOCK_bigger_cluster.csv',index_label='id',header=['x','y'])"
   ]
  },
  {
   "cell_type": "code",
   "execution_count": 21,
   "metadata": {},
   "outputs": [
    {
     "data": {
      "text/plain": [
       "7.969589224016131"
      ]
     },
     "execution_count": 21,
     "metadata": {},
     "output_type": "execute_result"
    }
   ],
   "source": [
    "CLOCK_predict = pd.read_csv('CLOCK_bigger_cluster.csv')\n",
    "\n",
    "# calculate MAE\n",
    "MAE = np.abs(CLOCK_predict['x']-test_xy['x']) +  np.abs(CLOCK_predict['y']-test_xy['y'])\n",
    "MAE = np.sum(MAE)/1200\n",
    "MAE"
   ]
  },
  {
   "cell_type": "markdown",
   "metadata": {},
   "source": [
    "## SIFT implementation: Do feature matching on all CNN candidated pools, choose best matching image"
   ]
  },
  {
   "cell_type": "code",
   "execution_count": 23,
   "metadata": {},
   "outputs": [
    {
     "name": "stderr",
     "output_type": "stream",
     "text": [
      "100%|████████████████████████████████████████████████████████████████████████████████| 600/600 [09:36<00:00,  1.04it/s]\n"
     ]
    }
   ],
   "source": [
    "# CLOCK params for images with few features\n",
    "MIN_MATCHES = 5\n",
    "threshold = 5\n",
    "max_clusters = 5\n",
    "max_radius = 7\n",
    "min_size = 1\n",
    "\n",
    "# FLANN specs\n",
    "FLANN_INDEX_KDTREE = 1\n",
    "index_params = dict(algorithm = FLANN_INDEX_KDTREE, trees = 5)\n",
    "search_params = dict(checks=50)\n",
    "flann = cv2.FlannBasedMatcher(index_params,search_params)\n",
    "\n",
    "centroids = []\n",
    "for i,test in enumerate(tqdm(test_path)):\n",
    "    img_idx = extract_match(i,threshold).flatten()\n",
    "    \n",
    "    with open(f'./train_kp/train_kp{test}.pckl', 'rb') as test_sift_file:\n",
    "        des_test = pickle.load(test_sift_file)\n",
    "    goods = []\n",
    "\n",
    "    # Weak finding: Do CLOCK instead\n",
    "    if des_test is None or len(des_test) < MIN_MATCHES:\n",
    "        coords = train_xy.loc[img_idx].values\n",
    "        _, _, centroid = onl_kmeans(coords, img_idx, max_clusters, max_radius, min_size)\n",
    "        centroids.append(centroid)\n",
    "        continue\n",
    "\n",
    "    for train in img_idx:\n",
    "        with open(f'./train_kp/train_kp{train}.pckl', 'rb') as train_sift_file:\n",
    "            des_train = pickle.load(train_sift_file)\n",
    "\n",
    "        # Matching descriptor using KNN algorithm\n",
    "        if des_train is None or len(des_train) < 2:\n",
    "            goods.append(-1)\n",
    "            continue\n",
    "        matches = flann.knnMatch(des_test,des_train,k=2)\n",
    "\n",
    "        # Store all good matches as per Lowe's Ratio test.\n",
    "        good = len([m for m,n in matches if m.distance < 0.7*n.distance])\n",
    "        goods.append(good)\n",
    "    \n",
    "    max_idx = np.argmax(goods)\n",
    "    centroids.append(train_xy.loc[img_idx[max_idx]].values)"
   ]
  },
  {
   "cell_type": "code",
   "execution_count": 24,
   "metadata": {},
   "outputs": [],
   "source": [
    "out = pd.DataFrame(centroids,index=test_path)\n",
    "out.to_csv('CLOCK_CNN_SIFT.csv',index_label='id',header=['x','y'])"
   ]
  },
  {
   "cell_type": "code",
   "execution_count": 25,
   "metadata": {},
   "outputs": [
    {
     "data": {
      "text/plain": [
       "7.0321777778911105"
      ]
     },
     "execution_count": 25,
     "metadata": {},
     "output_type": "execute_result"
    }
   ],
   "source": [
    "CLOCK_predict = pd.read_csv('CLOCK_CNN_SIFT.csv')\n",
    "\n",
    "# calculate MAE\n",
    "MAE = np.abs(CLOCK_predict['x']-test_xy['x']) +  np.abs(CLOCK_predict['y']-test_xy['y'])\n",
    "MAE = np.sum(MAE)/1200\n",
    "MAE"
   ]
  },
  {
   "cell_type": "markdown",
   "metadata": {},
   "source": [
    "# Adding histogram matching as a new criteria"
   ]
  },
  {
   "cell_type": "code",
   "execution_count": null,
   "metadata": {},
   "outputs": [],
   "source": [
    "from kmeans import hist_onl_kmeans"
   ]
  },
  {
   "cell_type": "markdown",
   "metadata": {},
   "source": [
    "## Exhaustive SIFT implmentation: Do feature matching on CNN candidate pool, then do clustering to odd out outliers"
   ]
  },
  {
   "cell_type": "code",
   "execution_count": null,
   "metadata": {},
   "outputs": [
    {
     "name": "stderr",
     "output_type": "stream",
     "text": [
      "100%|██████████| 1200/1200 [01:29<00:00, 13.42it/s]\n"
     ]
    }
   ],
   "source": [
    "# CLOCK params for images with few features\n",
    "MIN_MATCHES = 5\n",
    "threshold = 5\n",
    "max_clusters = 3\n",
    "max_radius = 12\n",
    "min_size = 1\n",
    "max_match_keep = 0.3\n",
    "\n",
    "# FLANN specs\n",
    "FLANN_INDEX_KDTREE = 1\n",
    "index_params = dict(algorithm = FLANN_INDEX_KDTREE, trees = 5)\n",
    "search_params = dict(checks=50)\n",
    "flann = cv2.FlannBasedMatcher(index_params,search_params)\n",
    "\n",
    "centroids = []\n",
    "for i,test in enumerate(tqdm(test_path)):\n",
    "    # Histogram calculation\n",
    "    test_img = cv2.imread('./test/' + test + '.jpg')\n",
    "    t_hist = cv2.calcHist([test_img],[0],None,[256],[0,256])\n",
    "\n",
    "    img_idx = extract_match(i,threshold).flatten()\n",
    "    \n",
    "    sift_fname = fgood[i,:]\n",
    "    sift_match = good[i,:]\n",
    "\n",
    "    # Weak finding: Do CLOCK instead\n",
    "    if sift_fname[0] is np.nan:\n",
    "        coords = train_xy.loc[img_idx].values\n",
    "        _, _, centroid = hist_onl_kmeans(coords, t_hist, img_idx, \n",
    "                                         threshold, max_radius, min_size)\n",
    "        centroids.append(centroid)\n",
    "        continue\n",
    "\n",
    "    # Get all cnn indices in order of best SIFT matches\n",
    "    matchings = []\n",
    "    good_m = []\n",
    "    for match_idx,m in enumerate(sift_fname):\n",
    "        if m in img_idx:\n",
    "            matchings.append(m)\n",
    "            good_m.append(sift_match[match_idx])\n",
    "            \n",
    "    # Once again do thresholding\n",
    "    good_match = [m for idx,m in enumerate(matchings) \n",
    "                  if good_m[idx] > good_m[0]*max_match_keep]\n",
    "\n",
    "    # Weak finding: Do CLOCK instead\n",
    "    if good_m[0] < MIN_MATCHES:\n",
    "        coords = train_xy.loc[img_idx].values\n",
    "        _, _, centroid = hist_onl_kmeans(coords, t_hist, img_idx, \n",
    "                                         threshold, max_radius, min_size)\n",
    "        centroids.append(centroid)\n",
    "        continue\n",
    "\n",
    "    coords = train_xy.loc[good_match].values\n",
    "    _, _, centroid = hist_onl_kmeans(coords, t_hist, good_match, \n",
    "                                     max_clusters, max_radius, min_size)\n",
    "    \n",
    "    centroids.append(centroid)"
   ]
  },
  {
   "cell_type": "code",
   "execution_count": null,
   "metadata": {},
   "outputs": [],
   "source": [
    "out = pd.DataFrame(centroids,index=test_path)\n",
    "out.to_csv('CLOCK_CNN_SIFT_cluster.csv',index_label='id',header=['x','y'])"
   ]
  },
  {
   "cell_type": "markdown",
   "metadata": {},
   "source": [
    "## Exhaustive SIFT, vote between: \n",
    "- cluster with best match\n",
    "- biggest cluster\n",
    "- cluster with most similar color spectrum"
   ]
  },
  {
   "cell_type": "code",
   "execution_count": null,
   "metadata": {},
   "outputs": [
    {
     "name": "stderr",
     "output_type": "stream",
     "text": [
      "100%|██████████| 1200/1200 [01:22<00:00, 14.52it/s]\n"
     ]
    }
   ],
   "source": [
    "# CLOCK params for images with few features\n",
    "MIN_MATCHES = 5\n",
    "threshold = 5\n",
    "max_clusters = 5\n",
    "max_radius = 15\n",
    "min_size = 1\n",
    "max_match_keep = 0.4\n",
    "\n",
    "# FLANN specs\n",
    "FLANN_INDEX_KDTREE = 1\n",
    "index_params = dict(algorithm = FLANN_INDEX_KDTREE, trees = 5)\n",
    "search_params = dict(checks=50)\n",
    "flann = cv2.FlannBasedMatcher(index_params,search_params)\n",
    "\n",
    "centroids = []\n",
    "for i,test in enumerate(tqdm(test_path)):\n",
    "    # Histogram calculation\n",
    "    test_img = cv2.imread('./test/' + test + '.jpg')\n",
    "    t_hist = cv2.calcHist([test_img],[0],None,[256],[0,256])\n",
    "\n",
    "    img_idx = extract_match(i,threshold).flatten()\n",
    "    \n",
    "    sift_fname = fgood[i,:]\n",
    "    sift_match = good[i,:]\n",
    "\n",
    "    # Weak finding: Just get the most similar color\n",
    "    if sift_fname[0] is np.nan:\n",
    "        coords = train_xy.loc[img_idx].values\n",
    "        _, _, centroid = hist_onl_kmeans(coords, t_hist, img_idx, -1, \n",
    "                                         max_radius, min_size, \n",
    "                                         take_best_hist=True)\n",
    "        centroids.append(centroid)\n",
    "        continue\n",
    "\n",
    "    # Get all cnn indices in order of best SIFT matches\n",
    "    matchings = []\n",
    "    good_m = []\n",
    "    for match_idx,m in enumerate(sift_fname):\n",
    "        if m in img_idx:\n",
    "            matchings.append(m)\n",
    "            good_m.append(sift_match[match_idx])\n",
    "\n",
    "    # Once again do thresholding\n",
    "    good_match = [m for idx,m in enumerate(matchings) \n",
    "                  if good_m[idx] > good_m[0]*max_match_keep]\n",
    "\n",
    "    # Weak finding: Just get the most similar color\n",
    "    if good_m[0] < MIN_MATCHES:\n",
    "        coords = train_xy.loc[img_idx].values\n",
    "        _, _, centroid = hist_onl_kmeans(coords, t_hist, img_idx, -1, \n",
    "                                         max_radius, min_size, \n",
    "                                         take_best_hist=True)\n",
    "        centroids.append(centroid)\n",
    "        continue\n",
    "\n",
    "    coords = train_xy.loc[good_match].values\n",
    "    _, _, centroid = hist_onl_kmeans(coords, t_hist, good_match, max_clusters, \n",
    "                                     max_radius, min_size)\n",
    "    \n",
    "    centroids.append(centroid)"
   ]
  },
  {
   "cell_type": "code",
   "execution_count": null,
   "metadata": {},
   "outputs": [],
   "source": [
    "out = pd.DataFrame(centroids,index=test_path)\n",
    "out.to_csv('CLOCK_voting.csv',index_label='id',header=['x','y'])"
   ]
  },
  {
   "cell_type": "markdown",
   "metadata": {},
   "source": [
    "# Adding SIFT space calculation to try and get a more precise location"
   ]
  },
  {
   "cell_type": "code",
   "execution_count": null,
   "metadata": {},
   "outputs": [],
   "source": [
    "from kmeans import displacement_calculation\n",
    "\n",
    "# Getting the camera intrinsic matrix\n",
    "FOV_X = 73.3*np.pi/180\n",
    "FOV_Y = 53.1*np.pi/180\n",
    "\n",
    "cx = 680/2\n",
    "cy = 490/2\n",
    "\n",
    "fx = cx/np.tan(FOV_X/2)\n",
    "fy = cy/np.tan(FOV_Y/2)\n",
    "\n",
    "K = np.array([[fx,0,cx],\n",
    "              [0,fy,cy],\n",
    "              [0,0,1]])"
   ]
  },
  {
   "cell_type": "code",
   "execution_count": null,
   "metadata": {},
   "outputs": [
    {
     "name": "stderr",
     "output_type": "stream",
     "text": [
      "100%|██████████| 1200/1200 [10:32<00:00,  1.90it/s]\n"
     ]
    }
   ],
   "source": [
    "# CLOCK params for images with few features\n",
    "MIN_MATCHES = 5\n",
    "threshold = 5\n",
    "max_clusters = 5\n",
    "max_radius = 15\n",
    "min_size = 1\n",
    "max_match_keep = 0.4\n",
    "ratio = 0.6\n",
    "max_range = 10\n",
    "\n",
    "centroids = []\n",
    "for i,test in enumerate(tqdm(test_path)):\n",
    "    test_img = cv2.imread('./test/' + test + '.jpg')\n",
    "    t_hist = cv2.calcHist([test_img],[0],None,[256],[0,256])\n",
    "\n",
    "    img_idx = extract_match(i,threshold).flatten()\n",
    "    \n",
    "    sift_fname = fgood[i,:]\n",
    "    sift_match = good[i,:]\n",
    "\n",
    "    # Weak finding: Just get the most similar color\n",
    "    if sift_fname[0] is np.nan:\n",
    "        coords = train_xy.loc[img_idx].values\n",
    "        _, _, centroid = hist_onl_kmeans(coords, t_hist, img_idx, -1, \n",
    "                                         max_radius, min_size, \n",
    "                                         take_best_hist=True)\n",
    "        centroids.append(centroid)\n",
    "        continue\n",
    "\n",
    "    # Basically get all cnn indices in order of best SIFT matches\n",
    "    matchings = []\n",
    "    good_m = []\n",
    "    for match_idx,m in enumerate(sift_fname):\n",
    "        if m in img_idx:\n",
    "            matchings.append(m)\n",
    "            good_m.append(sift_match[match_idx])\n",
    "    # Once again do thresholding\n",
    "    good_match = [m for idx,m in enumerate(matchings) \n",
    "                  if good_m[idx] > good_m[0]*max_match_keep]\n",
    "\n",
    "    # Weak finding: Just get the most similar color\n",
    "    if good_m[0] < MIN_MATCHES:\n",
    "        coords = train_xy.loc[img_idx].values\n",
    "        _, _, centroid = hist_onl_kmeans(coords, t_hist, img_idx, -1, \n",
    "                                         max_radius, min_size, \n",
    "                                         take_best_hist=True)\n",
    "        centroids.append(centroid)\n",
    "        continue\n",
    "\n",
    "    coords = train_xy.loc[good_match].values\n",
    "    locs, fnames, centroid = hist_onl_kmeans(coords, t_hist, \n",
    "                                             good_match, max_clusters, \n",
    "                                             max_radius, min_size)\n",
    "    final_loc = displacement_calculation(test_img, centroid, locs, \n",
    "                                         fnames, K, ratio, max_range)\n",
    "    centroids.append(final_loc)"
   ]
  },
  {
   "cell_type": "code",
   "execution_count": null,
   "metadata": {},
   "outputs": [],
   "source": [
    "out = pd.DataFrame(centroids,index=test_path)\n",
    "out.to_csv('SIFT_transform.csv',index_label='id',header=['x','y'])"
   ]
  }
 ],
 "metadata": {
  "interpreter": {
   "hash": "4621005da5c26ac209901ca167bf25025457b064ec855aea9ba97365ac8d4984"
  },
  "kernelspec": {
   "display_name": "Python 3 (ipykernel)",
   "language": "python",
   "name": "python3"
  },
  "language_info": {
   "codemirror_mode": {
    "name": "ipython",
    "version": 3
   },
   "file_extension": ".py",
   "mimetype": "text/x-python",
   "name": "python",
   "nbconvert_exporter": "python",
   "pygments_lexer": "ipython3",
   "version": "3.7.11"
  }
 },
 "nbformat": 4,
 "nbformat_minor": 2
}
