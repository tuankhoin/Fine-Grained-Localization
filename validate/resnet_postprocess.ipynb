{
 "cells": [
  {
   "cell_type": "markdown",
   "metadata": {},
   "source": [
    "# CNN Post-Processing\n",
    "\n",
    "After training with CNN, this script takes the extracted features, evaluate the similarity and then sort, so that the best match is first, and so on."
   ]
  },
  {
   "cell_type": "code",
   "execution_count": 1,
   "metadata": {},
   "outputs": [],
   "source": [
    "import numpy as np\n",
    "import pandas as pd\n",
    "from tqdm import tqdm\n",
    "import pickle"
   ]
  },
  {
   "cell_type": "code",
   "execution_count": 3,
   "metadata": {},
   "outputs": [],
   "source": [
    "train_xy = pd.read_csv('validate_train.csv')\n",
    "train_path = train_xy['id'].values\n",
    "test_xy = pd.read_csv('validate.csv')\n",
    "test_path = test_xy['id'].values\n",
    "\n",
    "f = open(f'./validate_resnet101.pckl','rb')\n",
    "test_preds = pickle.load(f)\n",
    "f.close()\n",
    "\n",
    "f = open(f'./validate_train_resnet101.pckl','rb')\n",
    "train_preds = pickle.load(f)\n",
    "f.close()"
   ]
  },
  {
   "cell_type": "markdown",
   "metadata": {},
   "source": [
    "Metric used: Euclidean Distance"
   ]
  },
  {
   "cell_type": "code",
   "execution_count": 4,
   "metadata": {},
   "outputs": [
    {
     "name": "stderr",
     "output_type": "stream",
     "text": [
      "100%|████████████████████████████████████████████████████████████████████████████████| 600/600 [00:56<00:00, 10.69it/s]\n"
     ]
    }
   ],
   "source": [
    "best_train = []\n",
    "distance = []\n",
    "for test in tqdm(test_preds):\n",
    "    match = np.array([np.sum((train-test)**2)**0.5 for train in train_preds])\n",
    "    # Uncomment and modify the number to n if you only want to take top n images\n",
    "    best_match = np.argsort(match)#[:3]\n",
    "    row = train_xy.iloc[best_match]['id'].values\n",
    "    best_train.append(row)\n",
    "    distance.append(match[best_match])\n",
    "\n",
    "col = [f'{i+1}' for i in range(len(train_xy))]\n",
    "# Export a file with file names, and corresponding file with feature similarity\n",
    "df = pd.DataFrame(best_train, columns=col)\n",
    "df.to_csv('resnet101_matches_filename.csv',index=False)\n",
    "df = pd.DataFrame(distance, columns=col)\n",
    "df.to_csv('resnet101_matches_distance.csv',index=False)"
   ]
  },
  {
   "cell_type": "code",
   "execution_count": null,
   "metadata": {},
   "outputs": [],
   "source": []
  }
 ],
 "metadata": {
  "interpreter": {
   "hash": "4621005da5c26ac209901ca167bf25025457b064ec855aea9ba97365ac8d4984"
  },
  "kernelspec": {
   "display_name": "Python 3 (ipykernel)",
   "language": "python",
   "name": "python3"
  },
  "language_info": {
   "codemirror_mode": {
    "name": "ipython",
    "version": 3
   },
   "file_extension": ".py",
   "mimetype": "text/x-python",
   "name": "python",
   "nbconvert_exporter": "python",
   "pygments_lexer": "ipython3",
   "version": "3.7.11"
  }
 },
 "nbformat": 4,
 "nbformat_minor": 2
}
