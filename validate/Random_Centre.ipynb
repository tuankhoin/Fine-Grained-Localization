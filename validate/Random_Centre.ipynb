{
 "cells": [
  {
   "cell_type": "code",
   "execution_count": 1,
   "id": "1021672f",
   "metadata": {},
   "outputs": [],
   "source": [
    "import numpy as np\n",
    "import pandas as pd\n",
    "import matplotlib.pyplot as plt\n",
    "import pickle\n",
    "import cv2\n",
    "from tqdm import tqdm\n",
    "import random"
   ]
  },
  {
   "cell_type": "code",
   "execution_count": 9,
   "id": "565b0583",
   "metadata": {},
   "outputs": [],
   "source": [
    "train_xy = pd.read_csv('validate_train.csv')\n",
    "train_path =  pd.read_csv('validate_train.csv')['id'].values\n",
    "test_path = pd.read_csv('validate.csv')['id'].values\n",
    "test_xy =  pd.read_csv('validate.csv')"
   ]
  },
  {
   "cell_type": "code",
   "execution_count": 3,
   "id": "0349fde7",
   "metadata": {},
   "outputs": [
    {
     "data": {
      "text/plain": [
       "array(['IMG2744_1', 'IMG2744_2', 'IMG2744_3', ..., 'IMG4243_3',\n",
       "       'IMG4243_4', 'IMG4243_5'], dtype=object)"
      ]
     },
     "execution_count": 3,
     "metadata": {},
     "output_type": "execute_result"
    }
   ],
   "source": [
    "train_path"
   ]
  },
  {
   "cell_type": "code",
   "execution_count": 4,
   "id": "b4679e01",
   "metadata": {},
   "outputs": [],
   "source": [
    "arandom = random.sample(list(train_path),(len(test_path)))"
   ]
  },
  {
   "cell_type": "code",
   "execution_count": 10,
   "id": "7516bb2a",
   "metadata": {},
   "outputs": [
    {
     "data": {
      "text/html": [
       "<div>\n",
       "<style scoped>\n",
       "    .dataframe tbody tr th:only-of-type {\n",
       "        vertical-align: middle;\n",
       "    }\n",
       "\n",
       "    .dataframe tbody tr th {\n",
       "        vertical-align: top;\n",
       "    }\n",
       "\n",
       "    .dataframe thead th {\n",
       "        text-align: right;\n",
       "    }\n",
       "</style>\n",
       "<table border=\"1\" class=\"dataframe\">\n",
       "  <thead>\n",
       "    <tr style=\"text-align: right;\">\n",
       "      <th></th>\n",
       "      <th>id</th>\n",
       "      <th>x</th>\n",
       "      <th>y</th>\n",
       "    </tr>\n",
       "  </thead>\n",
       "  <tbody>\n",
       "    <tr>\n",
       "      <th>0</th>\n",
       "      <td>IMG2744_1</td>\n",
       "      <td>-9.380678</td>\n",
       "      <td>3.58272</td>\n",
       "    </tr>\n",
       "    <tr>\n",
       "      <th>1</th>\n",
       "      <td>IMG2744_2</td>\n",
       "      <td>-9.380678</td>\n",
       "      <td>3.58272</td>\n",
       "    </tr>\n",
       "    <tr>\n",
       "      <th>2</th>\n",
       "      <td>IMG2744_3</td>\n",
       "      <td>-9.380678</td>\n",
       "      <td>3.58272</td>\n",
       "    </tr>\n",
       "    <tr>\n",
       "      <th>3</th>\n",
       "      <td>IMG2744_4</td>\n",
       "      <td>-9.380678</td>\n",
       "      <td>3.58272</td>\n",
       "    </tr>\n",
       "    <tr>\n",
       "      <th>4</th>\n",
       "      <td>IMG2744_5</td>\n",
       "      <td>-9.380678</td>\n",
       "      <td>3.58272</td>\n",
       "    </tr>\n",
       "    <tr>\n",
       "      <th>...</th>\n",
       "      <td>...</td>\n",
       "      <td>...</td>\n",
       "      <td>...</td>\n",
       "    </tr>\n",
       "    <tr>\n",
       "      <th>6895</th>\n",
       "      <td>IMG4243_1</td>\n",
       "      <td>-4.680678</td>\n",
       "      <td>35.18272</td>\n",
       "    </tr>\n",
       "    <tr>\n",
       "      <th>6896</th>\n",
       "      <td>IMG4243_2</td>\n",
       "      <td>-4.680678</td>\n",
       "      <td>35.18272</td>\n",
       "    </tr>\n",
       "    <tr>\n",
       "      <th>6897</th>\n",
       "      <td>IMG4243_3</td>\n",
       "      <td>-4.680678</td>\n",
       "      <td>35.18272</td>\n",
       "    </tr>\n",
       "    <tr>\n",
       "      <th>6898</th>\n",
       "      <td>IMG4243_4</td>\n",
       "      <td>-4.680678</td>\n",
       "      <td>35.18272</td>\n",
       "    </tr>\n",
       "    <tr>\n",
       "      <th>6899</th>\n",
       "      <td>IMG4243_5</td>\n",
       "      <td>-4.680678</td>\n",
       "      <td>35.18272</td>\n",
       "    </tr>\n",
       "  </tbody>\n",
       "</table>\n",
       "<p>6900 rows × 3 columns</p>\n",
       "</div>"
      ],
      "text/plain": [
       "             id         x         y\n",
       "0     IMG2744_1 -9.380678   3.58272\n",
       "1     IMG2744_2 -9.380678   3.58272\n",
       "2     IMG2744_3 -9.380678   3.58272\n",
       "3     IMG2744_4 -9.380678   3.58272\n",
       "4     IMG2744_5 -9.380678   3.58272\n",
       "...         ...       ...       ...\n",
       "6895  IMG4243_1 -4.680678  35.18272\n",
       "6896  IMG4243_2 -4.680678  35.18272\n",
       "6897  IMG4243_3 -4.680678  35.18272\n",
       "6898  IMG4243_4 -4.680678  35.18272\n",
       "6899  IMG4243_5 -4.680678  35.18272\n",
       "\n",
       "[6900 rows x 3 columns]"
      ]
     },
     "execution_count": 10,
     "metadata": {},
     "output_type": "execute_result"
    }
   ],
   "source": [
    "train_xy"
   ]
  },
  {
   "cell_type": "code",
   "execution_count": 32,
   "id": "d5620d80",
   "metadata": {},
   "outputs": [],
   "source": [
    "out=[]\n",
    "for i in range(len(test_path)):\n",
    "    coor = train_xy[train_xy['id'] == arandom[i]]\n",
    "    out.append([test_path[i], coor.iloc[0]['x'], coor.iloc[0]['y']])\n",
    "    \n",
    "out_csv = pd.DataFrame(out, columns=['id','x','y'])\n",
    "out_csv.to_csv('validate_random.csv',index=False)"
   ]
  },
  {
   "cell_type": "code",
   "execution_count": 33,
   "id": "c5e53882",
   "metadata": {},
   "outputs": [],
   "source": [
    "predict = pd.read_csv('validate_random.csv')"
   ]
  },
  {
   "cell_type": "code",
   "execution_count": 34,
   "id": "138c39d7",
   "metadata": {},
   "outputs": [
    {
     "data": {
      "text/html": [
       "<div>\n",
       "<style scoped>\n",
       "    .dataframe tbody tr th:only-of-type {\n",
       "        vertical-align: middle;\n",
       "    }\n",
       "\n",
       "    .dataframe tbody tr th {\n",
       "        vertical-align: top;\n",
       "    }\n",
       "\n",
       "    .dataframe thead th {\n",
       "        text-align: right;\n",
       "    }\n",
       "</style>\n",
       "<table border=\"1\" class=\"dataframe\">\n",
       "  <thead>\n",
       "    <tr style=\"text-align: right;\">\n",
       "      <th></th>\n",
       "      <th>id</th>\n",
       "      <th>x</th>\n",
       "      <th>y</th>\n",
       "    </tr>\n",
       "  </thead>\n",
       "  <tbody>\n",
       "    <tr>\n",
       "      <th>0</th>\n",
       "      <td>IMG3914_5</td>\n",
       "      <td>8.219322</td>\n",
       "      <td>41.48272</td>\n",
       "    </tr>\n",
       "    <tr>\n",
       "      <th>1</th>\n",
       "      <td>IMG2810_2</td>\n",
       "      <td>-131.280678</td>\n",
       "      <td>74.38272</td>\n",
       "    </tr>\n",
       "    <tr>\n",
       "      <th>2</th>\n",
       "      <td>IMG3622_2</td>\n",
       "      <td>48.619322</td>\n",
       "      <td>5.68272</td>\n",
       "    </tr>\n",
       "    <tr>\n",
       "      <th>3</th>\n",
       "      <td>IMG3732_2</td>\n",
       "      <td>-91.180678</td>\n",
       "      <td>21.88272</td>\n",
       "    </tr>\n",
       "    <tr>\n",
       "      <th>4</th>\n",
       "      <td>IMG3927_4</td>\n",
       "      <td>-1.680678</td>\n",
       "      <td>-53.01728</td>\n",
       "    </tr>\n",
       "    <tr>\n",
       "      <th>...</th>\n",
       "      <td>...</td>\n",
       "      <td>...</td>\n",
       "      <td>...</td>\n",
       "    </tr>\n",
       "    <tr>\n",
       "      <th>595</th>\n",
       "      <td>IMG4014_5</td>\n",
       "      <td>19.119322</td>\n",
       "      <td>-67.61728</td>\n",
       "    </tr>\n",
       "    <tr>\n",
       "      <th>596</th>\n",
       "      <td>IMG3389_3</td>\n",
       "      <td>2.119322</td>\n",
       "      <td>-66.91728</td>\n",
       "    </tr>\n",
       "    <tr>\n",
       "      <th>597</th>\n",
       "      <td>IMG4013_3</td>\n",
       "      <td>-10.180678</td>\n",
       "      <td>-25.01728</td>\n",
       "    </tr>\n",
       "    <tr>\n",
       "      <th>598</th>\n",
       "      <td>IMG4116_2</td>\n",
       "      <td>-95.180678</td>\n",
       "      <td>26.78272</td>\n",
       "    </tr>\n",
       "    <tr>\n",
       "      <th>599</th>\n",
       "      <td>IMG3674_5</td>\n",
       "      <td>25.619322</td>\n",
       "      <td>-80.11728</td>\n",
       "    </tr>\n",
       "  </tbody>\n",
       "</table>\n",
       "<p>600 rows × 3 columns</p>\n",
       "</div>"
      ],
      "text/plain": [
       "            id           x         y\n",
       "0    IMG3914_5    8.219322  41.48272\n",
       "1    IMG2810_2 -131.280678  74.38272\n",
       "2    IMG3622_2   48.619322   5.68272\n",
       "3    IMG3732_2  -91.180678  21.88272\n",
       "4    IMG3927_4   -1.680678 -53.01728\n",
       "..         ...         ...       ...\n",
       "595  IMG4014_5   19.119322 -67.61728\n",
       "596  IMG3389_3    2.119322 -66.91728\n",
       "597  IMG4013_3  -10.180678 -25.01728\n",
       "598  IMG4116_2  -95.180678  26.78272\n",
       "599  IMG3674_5   25.619322 -80.11728\n",
       "\n",
       "[600 rows x 3 columns]"
      ]
     },
     "execution_count": 34,
     "metadata": {},
     "output_type": "execute_result"
    }
   ],
   "source": [
    "predict"
   ]
  },
  {
   "cell_type": "code",
   "execution_count": 35,
   "id": "d62f45af",
   "metadata": {},
   "outputs": [],
   "source": [
    "# calculate MAE\n",
    "MAE = np.abs(predict['x']-test_xy['x']) + np.abs(predict['y']-test_xy['y'])\n",
    "MAE = np.sum(MAE)/1200"
   ]
  },
  {
   "cell_type": "code",
   "execution_count": 36,
   "id": "6ae177e7",
   "metadata": {},
   "outputs": [
    {
     "data": {
      "text/plain": [
       "58.65499999977333"
      ]
     },
     "execution_count": 36,
     "metadata": {},
     "output_type": "execute_result"
    }
   ],
   "source": [
    "MAE"
   ]
  },
  {
   "cell_type": "code",
   "execution_count": 38,
   "id": "b6cbaca9",
   "metadata": {},
   "outputs": [],
   "source": [
    "centroid_x, centroid_y  = np.mean(train_xy['x']),np.mean(train_xy['y'])"
   ]
  },
  {
   "cell_type": "code",
   "execution_count": 39,
   "id": "8379207c",
   "metadata": {},
   "outputs": [
    {
     "data": {
      "text/plain": [
       "0     -22.517739\n",
       "1     -54.617739\n",
       "2     -50.917739\n",
       "3      56.882261\n",
       "4     -28.917739\n",
       "         ...    \n",
       "595    48.082261\n",
       "596     6.282261\n",
       "597    10.082261\n",
       "598    64.082261\n",
       "599     4.982261\n",
       "Name: x, Length: 600, dtype: float64"
      ]
     },
     "execution_count": 39,
     "metadata": {},
     "output_type": "execute_result"
    }
   ],
   "source": [
    "centroid_x - test_xy['x']"
   ]
  },
  {
   "cell_type": "code",
   "execution_count": 40,
   "id": "4f8d72b0",
   "metadata": {},
   "outputs": [],
   "source": [
    "# calculate MAE\n",
    "MAE = np.abs(centroid_x-test_xy['x']) + np.abs(centroid_y-test_xy['y'])\n",
    "MAE = np.sum(MAE)/1200"
   ]
  },
  {
   "cell_type": "code",
   "execution_count": 41,
   "id": "10d0c02b",
   "metadata": {},
   "outputs": [
    {
     "data": {
      "text/plain": [
       "43.98898516936695"
      ]
     },
     "execution_count": 41,
     "metadata": {},
     "output_type": "execute_result"
    }
   ],
   "source": [
    "MAE"
   ]
  },
  {
   "cell_type": "code",
   "execution_count": null,
   "id": "367728bd",
   "metadata": {},
   "outputs": [],
   "source": []
  }
 ],
 "metadata": {
  "kernelspec": {
   "display_name": "Python 3 (ipykernel)",
   "language": "python",
   "name": "python3"
  },
  "language_info": {
   "codemirror_mode": {
    "name": "ipython",
    "version": 3
   },
   "file_extension": ".py",
   "mimetype": "text/x-python",
   "name": "python",
   "nbconvert_exporter": "python",
   "pygments_lexer": "ipython3",
   "version": "3.7.11"
  }
 },
 "nbformat": 4,
 "nbformat_minor": 5
}
