{
 "cells": [
  {
   "cell_type": "markdown",
   "metadata": {},
   "source": [
    "# Camera Translation from Centroids \n",
    "This script, given all the (assumed) near-correct location, try to use known camera matrix to calculate the translation between training and test pictures."
   ]
  },
  {
   "cell_type": "code",
   "execution_count": 1,
   "metadata": {},
   "outputs": [],
   "source": [
    "import numpy as np\n",
    "import pandas as pd\n",
    "import cv2\n",
    "from tqdm import tqdm\n",
    "from kmeans import displacement_calculation"
   ]
  },
  {
   "cell_type": "markdown",
   "metadata": {},
   "source": [
    "## Reading in data"
   ]
  },
  {
   "cell_type": "code",
   "execution_count": 2,
   "metadata": {},
   "outputs": [],
   "source": [
    "train_xy = pd.read_csv('train.csv', index_col=0)\n",
    "train_path = train_xy.index\n",
    "test_path = pd.read_csv('imagenames.csv')['id'].values\n",
    "\n",
    "good = pd.read_csv('./sift_matches_distance.csv').values\n",
    "fgood = pd.read_csv('./sift_matches_filename.csv').values\n",
    "\n",
    "#cluster_centroids = pd.read_csv('Results/best_cluster.csv')\n",
    "cluster_centroids = pd.read_csv('Results/COCK_SIFT_voted_5_5_5_15_1_04_imputed.csv')"
   ]
  },
  {
   "cell_type": "markdown",
   "metadata": {},
   "source": [
    "## Helper Function & Variables"
   ]
  },
  {
   "cell_type": "code",
   "execution_count": 3,
   "metadata": {},
   "outputs": [],
   "source": [
    "def get_center_best(i, center, radius, max_count):\n",
    "    '''Get the top SIFT matched results that is near the center\n",
    "\n",
    "    Params\n",
    "    ---\n",
    "    - i: index of test instance\n",
    "    - center: test instance's chosen center\n",
    "    - radius: cluster radius\n",
    "    - max_count: number of top instaces to take\n",
    "\n",
    "    Returns\n",
    "    ---\n",
    "    - cluster_filenames: filenames of the cluster elements\n",
    "    - cluster_locations: locations of the cluster elements\n",
    "    '''\n",
    "    count = 0\n",
    "    cluster_fs = []\n",
    "    cluster_locs = []\n",
    "    if fgood[i,0] is np.nan: return cluster_fs, cluster_locs\n",
    "    for tr in fgood[i]:\n",
    "        if count == max_count: break\n",
    "        train_loc = train_xy.loc[tr].values\n",
    "        if np.sum((train_loc-center)**2)**0.5 < radius:\n",
    "            cluster_fs.append(tr)\n",
    "            cluster_locs.append(train_loc)\n",
    "            count += 1\n",
    "    return cluster_fs, cluster_locs"
   ]
  },
  {
   "cell_type": "code",
   "execution_count": 7,
   "metadata": {},
   "outputs": [],
   "source": [
    "### Camera matrix, given:\n",
    "\n",
    "# Image field of view\n",
    "FOV_X = 73.3*np.pi/180\n",
    "FOV_Y = 53.1*np.pi/180\n",
    "\n",
    "# Pixel length\n",
    "cx = 680/2\n",
    "cy = 490/2\n",
    "\n",
    "# Focal length in pixels\n",
    "fx = cx/np.tan(FOV_X/2)\n",
    "fy = cy/np.tan(FOV_Y/2)\n",
    "\n",
    "# Complete intrinsic camera matrix\n",
    "K = np.array([[fx,0,cx],\n",
    "              [0,fy,cy],\n",
    "              [0,0,1]])"
   ]
  },
  {
   "cell_type": "markdown",
   "metadata": {},
   "source": [
    "## Run and export the data"
   ]
  },
  {
   "cell_type": "code",
   "execution_count": 8,
   "metadata": {},
   "outputs": [
    {
     "name": "stderr",
     "output_type": "stream",
     "text": [
      "100%|██████████| 1200/1200 [35:29<00:00,  1.77s/it]\n"
     ]
    }
   ],
   "source": [
    "radius = 10\n",
    "max_count = 10\n",
    "ratio = 0.7\n",
    "max_range = 1.5\n",
    "max_displacement = 10\n",
    "\n",
    "res = []\n",
    "for i,test in enumerate(tqdm(test_path)):\n",
    "    # Getting the center and image\n",
    "    center = cluster_centroids.iloc[i][['x','y']].values\n",
    "    test_img = cv2.imread('./test/' + test_path[i] + '.jpg')\n",
    "    # Getting the surrounding images\n",
    "    cluster_fs, cluster_locs = get_center_best(i, center, radius, max_count)\n",
    "\n",
    "    # Getting the final calculated location\n",
    "    final_loc = displacement_calculation(test_img, center, \n",
    "                                         cluster_locs, cluster_fs, \n",
    "                                         K, ratio, max_range, max_displacement)\n",
    "    res.append(final_loc)"
   ]
  },
  {
   "cell_type": "code",
   "execution_count": 9,
   "metadata": {},
   "outputs": [],
   "source": [
    "out = pd.DataFrame(res,index=test_path)\n",
    "out.to_csv('Results/SIFT_10_10_07_1p5_10.csv',index_label='id',header=['x','y'])"
   ]
  }
 ],
 "metadata": {
  "interpreter": {
   "hash": "4621005da5c26ac209901ca167bf25025457b064ec855aea9ba97365ac8d4984"
  },
  "kernelspec": {
   "display_name": "Python 3 (ipykernel)",
   "language": "python",
   "name": "python3"
  },
  "language_info": {
   "codemirror_mode": {
    "name": "ipython",
    "version": 3
   },
   "file_extension": ".py",
   "mimetype": "text/x-python",
   "name": "python",
   "nbconvert_exporter": "python",
   "pygments_lexer": "ipython3",
   "version": "3.7.11"
  }
 },
 "nbformat": 4,
 "nbformat_minor": 2
}
