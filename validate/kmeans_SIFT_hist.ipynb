{
 "cells": [
  {
   "cell_type": "markdown",
   "metadata": {},
   "source": [
    "# More Developed Clustering algorithms"
   ]
  },
  {
   "cell_type": "code",
   "execution_count": 3,
   "metadata": {},
   "outputs": [],
   "source": [
    "import numpy as np\n",
    "import pandas as pd\n",
    "import matplotlib.pyplot as plt\n",
    "import pickle\n",
    "import cv2\n",
    "from tqdm import tqdm"
   ]
  },
  {
   "cell_type": "code",
   "execution_count": 4,
   "metadata": {},
   "outputs": [],
   "source": [
    "dist = pd.read_csv('./resnet101_matches_distance.csv').values\n",
    "fname = pd.read_csv('./resnet101_matches_filename.csv').values"
   ]
  },
  {
   "cell_type": "code",
   "execution_count": 3,
   "metadata": {},
   "outputs": [],
   "source": [
    "good = pd.read_csv('./sift_matches_distance.csv').values\n",
    "fgood = pd.read_csv('./sift_matches_filename.csv').values"
   ]
  },
  {
   "cell_type": "code",
   "execution_count": 28,
   "metadata": {},
   "outputs": [],
   "source": [
    "train_xy = pd.read_csv('validate_train.csv', index_col=0)\n",
    "train_path =  pd.read_csv('validate_train.csv')['id'].values\n",
    "test_path = pd.read_csv('validate.csv')['id'].values\n",
    "test_xy =  pd.read_csv('validate.csv')"
   ]
  },
  {
   "cell_type": "code",
   "execution_count": 29,
   "metadata": {},
   "outputs": [],
   "source": [
    "# Limit the candidate pictures to a limited decrease only, comparing to the top one\n",
    "extract_match = lambda i, thresh: fname[i,np.argwhere(dist[i] < dist[i,0] + thresh)]"
   ]
  },
  {
   "cell_type": "code",
   "execution_count": 30,
   "metadata": {},
   "outputs": [],
   "source": [
    "# Clustered Online Cumulative K-Means (CLOCK) \n",
    "def onl_kmeans(data, fnames, max_clusters, max_range, min_size = 2):\n",
    "    '''Cluster the given data and pick the biggest cluster\n",
    "\n",
    "    Params\n",
    "    ---\n",
    "    - data: A list of images' coordinates\n",
    "    - fnames: Corresponding list of the image names\n",
    "    - max_clusters: Max number of cluster to export. Putting 0 or -1 will get all available clusters\n",
    "    - max_range: Max distance from centroid to be considered part of a cluster\n",
    "    - min_size: The clustering will run until at least one cluster reach the specified minimum size\n",
    "\n",
    "    Returns\n",
    "    ---\n",
    "    - cluster_elements: Point coordinates of the chosen cluster\n",
    "    - cluster_filenames: Image filename of the chosen cluster\n",
    "    - cluster_central: The centroid of the chosen cluster\n",
    "    '''\n",
    "    cluster_centrals = None\n",
    "    cluster_elems = []\n",
    "    cluster_filename = []\n",
    "    cluster_count = []\n",
    "    for i,coord in enumerate(data):\n",
    "        # Adding the first point as the first cluster central\n",
    "        if cluster_centrals is None:\n",
    "            cluster_centrals = np.array([coord])\n",
    "            cluster_elems.append([coord])\n",
    "            cluster_filename.append([fnames[i]])\n",
    "            cluster_count.append(1)\n",
    "            continue\n",
    "        # Get distance from point to each cluster\n",
    "        distances = np.sum((cluster_centrals - coord)**2, axis=1)**0.5\n",
    "        nearest = np.argmin(distances)\n",
    "        # If point is far away from clusters, it's on its own cluster\n",
    "        if distances[nearest] > max_range:\n",
    "            # Stop when max number of clusters reached and have a big enough cluster\n",
    "            if cluster_centrals.shape[0] >= max_clusters \\\n",
    "                and np.max(cluster_count) >= min_size \\\n",
    "                and max_clusters > 0 : break\n",
    "            cluster_centrals = np.append(cluster_centrals,[coord], axis=0)\n",
    "            cluster_elems.append([coord])\n",
    "            cluster_filename.append([fnames[i]])\n",
    "            cluster_count.append(1)\n",
    "        # If not, it belongs to cluster with nearest centeal. Update that one\n",
    "        else:\n",
    "            cluster_centrals[nearest] = (cluster_centrals[nearest] \n",
    "                                       * cluster_count[nearest] \n",
    "                                       + coord) / (cluster_count[nearest]+1)\n",
    "            cluster_elems[nearest].append(coord)\n",
    "            cluster_filename[nearest].append(fnames[i])\n",
    "            cluster_count[nearest] += 1\n",
    "    # Return the coordinates, filenames, and center of the largest cluster\n",
    "    biggest_cluster = np.argmax(cluster_count)\n",
    "    return cluster_elems[biggest_cluster], \\\n",
    "           cluster_filename[biggest_cluster], \\\n",
    "           cluster_centrals[biggest_cluster]"
   ]
  },
  {
   "cell_type": "code",
   "execution_count": 31,
   "metadata": {},
   "outputs": [],
   "source": [
    "# Similar Histograms Online Clustered K-Means (SHOCK) \n",
    "def hist_onl_kmeans(data, hist, fnames, max_clusters, max_range, min_size = 1, take_best_hist = False):\n",
    "    def get_hist(fn):\n",
    "        curr_img = cv2.imread('./train/' + fn + '.jpg')\n",
    "        d_hist = cv2.calcHist([curr_img],[0],None,[256],[0,256])\n",
    "        return cv2.compareHist(hist,d_hist,cv2.HISTCMP_INTERSECT)\n",
    "    \n",
    "    cluster_centrals = None\n",
    "    cluster_elems = []\n",
    "    cluster_filename = []\n",
    "    cluster_hist = []\n",
    "    cluster_count = []\n",
    "    for i,coord in enumerate(data):\n",
    "        # Adding the first point as the first cluster central\n",
    "        if cluster_centrals is None:\n",
    "            cluster_centrals = np.array([coord])\n",
    "            cluster_elems.append([coord])\n",
    "            cluster_filename.append([fnames[i]])\n",
    "            compared_hist = get_hist(fnames[i])\n",
    "            cluster_hist.append(compared_hist)\n",
    "            cluster_count.append(1)\n",
    "            continue\n",
    "        # Get distance from point to each cluster\n",
    "        distances = np.sum((cluster_centrals - coord)**2, axis=1)**0.5\n",
    "        nearest = np.argmin(distances)\n",
    "        # If point is far away from clusters, it's on its own cluster\n",
    "        if distances[nearest] > max_range:\n",
    "            # Stop when max number of clusters reached and have a big enough cluster\n",
    "            if cluster_centrals.shape[0] >= max_clusters and max_clusters > 0:\n",
    "                if np.max(cluster_count) >= min_size: break\n",
    "                # Not big enough clusters means that the CNN is messed up\n",
    "                return None,None,None\n",
    "            cluster_centrals = np.append(cluster_centrals,[coord], axis=0)\n",
    "            cluster_elems.append([coord])\n",
    "            cluster_filename.append([fnames[i]])\n",
    "            compared_hist = get_hist(fnames[i])\n",
    "            cluster_hist.append(compared_hist)\n",
    "            cluster_count.append(1)\n",
    "        # If not, it belongs to cluster with nearest centeal. Update that one\n",
    "        else:\n",
    "            cluster_centrals[nearest] = (cluster_centrals[nearest] \n",
    "                                       * cluster_count[nearest] \n",
    "                                       + coord) / (cluster_count[nearest]+1)\n",
    "            cluster_elems[nearest].append(coord)\n",
    "            cluster_filename[nearest].append(fnames[i])\n",
    "            compared_hist = get_hist(fnames[i])\n",
    "            if compared_hist > cluster_hist[nearest]: cluster_hist[nearest] = compared_hist\n",
    "            cluster_count[nearest] += 1\n",
    "    # Return the coordinates, filenames, and center of the largest cluster\n",
    "    biggest_cluster = np.argmax(cluster_count)\n",
    "    similar_hist_cluster = np.argmax(cluster_hist)\n",
    "    best_cluster = 0 if biggest_cluster == 0 and not take_best_hist else similar_hist_cluster\n",
    "    return cluster_elems[best_cluster], \\\n",
    "           cluster_filename[best_cluster], \\\n",
    "           cluster_centrals[best_cluster]"
   ]
  },
  {
   "cell_type": "markdown",
   "metadata": {},
   "source": [
    "## Partial SIFT Implementation: Only Match on sparse clusters"
   ]
  },
  {
   "cell_type": "code",
   "execution_count": 32,
   "metadata": {},
   "outputs": [
    {
     "name": "stderr",
     "output_type": "stream",
     "text": [
      "100%|██████████████████████████████████████████████████████████████████████████████| 600/600 [00:00<00:00, 1199.60it/s]\n"
     ]
    }
   ],
   "source": [
    "# Processing\n",
    "threshold = 5\n",
    "max_clusters = 5\n",
    "max_radius = 7\n",
    "min_size = 3\n",
    "\n",
    "# FLANN specs\n",
    "FLANN_INDEX_KDTREE = 1\n",
    "index_params = dict(algorithm = FLANN_INDEX_KDTREE, trees = 5)\n",
    "search_params = dict(checks=50)\n",
    "flann = cv2.FlannBasedMatcher(index_params,search_params)\n",
    "\n",
    "#locs = []\n",
    "#fnames = []\n",
    "centroids = []\n",
    "for i,test in enumerate(tqdm(validate_path)):\n",
    "    img_idx = extract_match(i,threshold).flatten()\n",
    "    coords = train_xy.loc[img_idx].values\n",
    "    _, _, centroid = onl_kmeans(coords, img_idx, max_clusters, max_radius, min_size)\n",
    "    if centroid is None:\n",
    "        with open(f'./train/train_kp{test}.pckl', 'rb') as test_sift_file:\n",
    "            des_test = pickle.load(test_sift_file)\n",
    "        goods = []\n",
    "\n",
    "        for train in img_idx:\n",
    "            with open(f'./train_kp/train_kp{train}.pckl', 'rb') as train_sift_file:\n",
    "                des_train = pickle.load(train_sift_file)\n",
    "\n",
    "            # Matching descriptor using KNN algorithm\n",
    "            if des_train is None or len(des_train) < 2:\n",
    "                goods.append(-1)\n",
    "                continue\n",
    "            matches = flann.knnMatch(des_test,des_train,k=2)\n",
    "\n",
    "            # Store all good matches as per Lowe's Ratio test.\n",
    "            good = len([m for m,n in matches if m.distance < 0.7*n.distance])\n",
    "            goods.append(good)\n",
    "        \n",
    "        max_idx = np.argmax(goods)\n",
    "        centroids.append(train_xy.loc[img_idx[max_idx]].values)\n",
    "        #sorted_idx = np.argsort(goods)\n",
    "        #sorted_path = [img_idx[idx] for idx in sorted_idx]\n",
    "        #sorted_goods = [goods[idx] for idx in sorted_idx]\n",
    "    else:\n",
    "        #locs.append(loc)\n",
    "        #fnames.append(f)\n",
    "        centroids.append(centroid)"
   ]
  },
  {
   "cell_type": "code",
   "execution_count": 38,
   "metadata": {},
   "outputs": [],
   "source": [
    "out = pd.DataFrame(centroids,index=validate_path)\n",
    "N=1800\n",
    "out.to_csv('SHOCK_1.csv',index_label='id',header=['x','y'])\n"
   ]
  },
  {
   "cell_type": "code",
   "execution_count": 39,
   "metadata": {},
   "outputs": [
    {
     "data": {
      "text/plain": [
       "6.701867815924616"
      ]
     },
     "execution_count": 39,
     "metadata": {},
     "output_type": "execute_result"
    }
   ],
   "source": [
    "SHOCK_predict = pd.read_csv('SHOCK_1.csv')\n",
    "\n",
    "# calculate MAE\n",
    "MAE = np.abs(SHOCK_predict['x']-validate_xy['x']) +  np.abs(SHOCK_predict['y']-validate_xy['y'])\n",
    "MAE = np.sum(MAE)/N\n",
    "MAE"
   ]
  },
  {
   "cell_type": "markdown",
   "metadata": {},
   "source": [
    "## Exhaustive SIFT implementation: Do feature matching on all candidated pools, choose best match"
   ]
  },
  {
   "cell_type": "code",
   "execution_count": 40,
   "metadata": {},
   "outputs": [
    {
     "name": "stderr",
     "output_type": "stream",
     "text": [
      "100%|████████████████████████████████████████████████████████████████████████████████| 600/600 [10:07<00:00,  1.01s/it]\n"
     ]
    }
   ],
   "source": [
    "# COCK params for images with few features\n",
    "MIN_MATCHES = 5\n",
    "threshold = 5\n",
    "max_clusters = 5\n",
    "max_radius = 7\n",
    "min_size = 1\n",
    "\n",
    "# FLANN specs\n",
    "FLANN_INDEX_KDTREE = 1\n",
    "index_params = dict(algorithm = FLANN_INDEX_KDTREE, trees = 5)\n",
    "search_params = dict(checks=50)\n",
    "flann = cv2.FlannBasedMatcher(index_params,search_params)\n",
    "\n",
    "centroids = []\n",
    "for i,test in enumerate(tqdm(validate_path)):\n",
    "    img_idx = extract_match(i,threshold).flatten()\n",
    "    \n",
    "    with open(f'./train_kp/train_kp{test}.pckl', 'rb') as test_sift_file:\n",
    "        des_test = pickle.load(test_sift_file)\n",
    "    goods = []\n",
    "\n",
    "    # Weak finding: Do COCK instead\n",
    "    if des_test is None or len(des_test) < MIN_MATCHES:\n",
    "        coords = train_xy.loc[img_idx].values\n",
    "        _, _, centroid = onl_kmeans(coords, img_idx, max_clusters, max_radius, min_size)\n",
    "        centroids.append(centroid)\n",
    "        continue\n",
    "\n",
    "    for train in img_idx:\n",
    "        with open(f'./train_kp/train_kp{train}.pckl', 'rb') as train_sift_file:\n",
    "            des_train = pickle.load(train_sift_file)\n",
    "\n",
    "        # Matching descriptor using KNN algorithm\n",
    "        if des_train is None or len(des_train) < 2:\n",
    "            goods.append(-1)\n",
    "            continue\n",
    "        matches = flann.knnMatch(des_test,des_train,k=2)\n",
    "\n",
    "        # Store all good matches as per Lowe's Ratio test.\n",
    "        good = len([m for m,n in matches if m.distance < 0.7*n.distance])\n",
    "        goods.append(good)\n",
    "    \n",
    "    max_idx = np.argmax(goods)\n",
    "    centroids.append(train_xy.loc[img_idx[max_idx]].values)\n",
    "    #sorted_idx = np.argsort(goods)\n",
    "    #sorted_path = [img_idx[idx] for idx in sorted_idx]\n",
    "    #sorted_goods = [goods[idx] for idx in sorted_idx]"
   ]
  },
  {
   "cell_type": "code",
   "execution_count": 41,
   "metadata": {},
   "outputs": [],
   "source": [
    "out = pd.DataFrame(centroids,index=validate_path)\n",
    "N=1800\n",
    "out.to_csv('SHOCK_2.csv',index_label='id',header=['x','y'])"
   ]
  },
  {
   "cell_type": "code",
   "execution_count": 42,
   "metadata": {},
   "outputs": [
    {
     "data": {
      "text/plain": [
       "4.592507407498518"
      ]
     },
     "execution_count": 42,
     "metadata": {},
     "output_type": "execute_result"
    }
   ],
   "source": [
    "SHOCK_predict = pd.read_csv('SHOCK_2.csv')\n",
    "\n",
    "# calculate MAE\n",
    "MAE = np.abs(SHOCK_predict['x']-validate_xy['x']) +  np.abs(SHOCK_predict['y']-validate_xy['y'])\n",
    "MAE = np.sum(MAE)/N\n",
    "MAE"
   ]
  },
  {
   "cell_type": "markdown",
   "metadata": {},
   "source": [
    "## Exhaustive SIFT implmentation: Do feature matching on CNN candidate pool, then do clustering to odd out outliers"
   ]
  },
  {
   "cell_type": "code",
   "execution_count": 43,
   "metadata": {},
   "outputs": [
    {
     "name": "stderr",
     "output_type": "stream",
     "text": [
      "  0%|                                                                                          | 0/600 [00:00<?, ?it/s]\n"
     ]
    },
    {
     "ename": "NameError",
     "evalue": "name 'fgood' is not defined",
     "output_type": "error",
     "traceback": [
      "\u001b[1;31m---------------------------------------------------------------------------\u001b[0m",
      "\u001b[1;31mNameError\u001b[0m                                 Traceback (most recent call last)",
      "\u001b[1;32m~\\AppData\\Local\\Temp/ipykernel_10992/722384816.py\u001b[0m in \u001b[0;36m<module>\u001b[1;34m\u001b[0m\n\u001b[0;32m     20\u001b[0m     \u001b[0mimg_idx\u001b[0m \u001b[1;33m=\u001b[0m \u001b[0mextract_match\u001b[0m\u001b[1;33m(\u001b[0m\u001b[0mi\u001b[0m\u001b[1;33m,\u001b[0m\u001b[0mthreshold\u001b[0m\u001b[1;33m)\u001b[0m\u001b[1;33m.\u001b[0m\u001b[0mflatten\u001b[0m\u001b[1;33m(\u001b[0m\u001b[1;33m)\u001b[0m\u001b[1;33m\u001b[0m\u001b[1;33m\u001b[0m\u001b[0m\n\u001b[0;32m     21\u001b[0m \u001b[1;33m\u001b[0m\u001b[0m\n\u001b[1;32m---> 22\u001b[1;33m     \u001b[0msift_fname\u001b[0m \u001b[1;33m=\u001b[0m \u001b[0mfgood\u001b[0m\u001b[1;33m[\u001b[0m\u001b[0mi\u001b[0m\u001b[1;33m,\u001b[0m\u001b[1;33m:\u001b[0m\u001b[1;33m]\u001b[0m\u001b[1;33m\u001b[0m\u001b[1;33m\u001b[0m\u001b[0m\n\u001b[0m\u001b[0;32m     23\u001b[0m     \u001b[0msift_match\u001b[0m \u001b[1;33m=\u001b[0m \u001b[0mgood\u001b[0m\u001b[1;33m[\u001b[0m\u001b[0mi\u001b[0m\u001b[1;33m,\u001b[0m\u001b[1;33m:\u001b[0m\u001b[1;33m]\u001b[0m\u001b[1;33m\u001b[0m\u001b[1;33m\u001b[0m\u001b[0m\n\u001b[0;32m     24\u001b[0m \u001b[1;33m\u001b[0m\u001b[0m\n",
      "\u001b[1;31mNameError\u001b[0m: name 'fgood' is not defined"
     ]
    }
   ],
   "source": [
    "# COCK params for images with few features\n",
    "MIN_MATCHES = 5\n",
    "threshold = 5\n",
    "max_clusters = 3\n",
    "max_radius = 12\n",
    "min_size = 1\n",
    "max_match_keep = 0.3\n",
    "\n",
    "# FLANN specs\n",
    "FLANN_INDEX_KDTREE = 1\n",
    "index_params = dict(algorithm = FLANN_INDEX_KDTREE, trees = 5)\n",
    "search_params = dict(checks=50)\n",
    "flann = cv2.FlannBasedMatcher(index_params,search_params)\n",
    "\n",
    "centroids = []\n",
    "for i,test in enumerate(tqdm(test_path)):\n",
    "    test_img = cv2.imread('./test/' + test + '.jpg')\n",
    "    t_hist = cv2.calcHist([test_img],[0],None,[256],[0,256])\n",
    "\n",
    "    img_idx = extract_match(i,threshold).flatten()\n",
    "    \n",
    "#     sift_fname = fgood[i,:]\n",
    "#     sift_match = good[i,:]\n",
    "\n",
    "    # Weak finding: Do COCK instead\n",
    "#     if sift_fname[0] is np.nan:\n",
    "#         coords = train_xy.loc[img_idx].values\n",
    "#         _, _, centroid = hist_onl_kmeans(coords, t_hist, img_idx, 5, max_radius, min_size)\n",
    "#         centroids.append(centroid)\n",
    "#         continue\n",
    "\n",
    "    # Basically get all cnn indices in order of best SIFT matches\n",
    "#     matchings = []\n",
    "#     good_m = []\n",
    "#     for match_idx,m in enumerate(sift_fname):\n",
    "#         if m in img_idx:\n",
    "#             matchings.append(m)\n",
    "#             good_m.append(sift_match[match_idx])\n",
    "#     # Once again do thresholding\n",
    "#     good_match = [m for idx,m in enumerate(matchings) \n",
    "#                   if good_m[idx] > good_m[0]*max_match_keep]\n",
    "\n",
    "    # Weak finding: Do COCK instead\n",
    "    if good_m[0] < MIN_MATCHES:\n",
    "        coords = train_xy.loc[img_idx].values\n",
    "        _, _, centroid = hist_onl_kmeans(coords, t_hist, img_idx, 5, max_radius, min_size)\n",
    "        centroids.append(centroid)\n",
    "        continue\n",
    "\n",
    "    coords = train_xy.loc[good_match].values\n",
    "    _, _, centroid = hist_onl_kmeans(coords, t_hist, good_match, max_clusters, max_radius, min_size)\n",
    "    \n",
    "    centroids.append(centroid)"
   ]
  },
  {
   "cell_type": "markdown",
   "metadata": {},
   "source": [
    "## Exhaustive SIFT, vote between best match, biggest cluster and most similar color spectrum"
   ]
  },
  {
   "cell_type": "code",
   "execution_count": 9,
   "metadata": {},
   "outputs": [
    {
     "name": "stderr",
     "output_type": "stream",
     "text": [
      "100%|██████████| 1200/1200 [01:22<00:00, 14.52it/s]\n"
     ]
    }
   ],
   "source": [
    "# COCK params for images with few features\n",
    "MIN_MATCHES = 5\n",
    "threshold = 5\n",
    "max_clusters = 5\n",
    "max_radius = 15#7\n",
    "min_size = 1\n",
    "max_match_keep = 0.4\n",
    "\n",
    "# FLANN specs\n",
    "FLANN_INDEX_KDTREE = 1\n",
    "index_params = dict(algorithm = FLANN_INDEX_KDTREE, trees = 5)\n",
    "search_params = dict(checks=50)\n",
    "flann = cv2.FlannBasedMatcher(index_params,search_params)\n",
    "\n",
    "centroids = []\n",
    "for i,test in enumerate(tqdm(test_path)):\n",
    "    test_img = cv2.imread('./test/' + test + '.jpg')\n",
    "    t_hist = cv2.calcHist([test_img],[0],None,[256],[0,256])\n",
    "\n",
    "    img_idx = extract_match(i,threshold).flatten()\n",
    "    \n",
    "    sift_fname = fgood[i,:]\n",
    "    sift_match = good[i,:]\n",
    "\n",
    "    # Weak finding: Do COCK instead\n",
    "    if sift_fname[0] is np.nan:\n",
    "        coords = train_xy.loc[img_idx].values\n",
    "        _, _, centroid = hist_onl_kmeans(coords, t_hist, img_idx, -1, max_radius, min_size, take_best_hist=True)\n",
    "        centroids.append(centroid)\n",
    "        continue\n",
    "\n",
    "    # Basically get all cnn indices in order of best SIFT matches\n",
    "    matchings = []\n",
    "    good_m = []\n",
    "    for match_idx,m in enumerate(sift_fname):\n",
    "        if m in img_idx:\n",
    "            matchings.append(m)\n",
    "            good_m.append(sift_match[match_idx])\n",
    "    # Once again do thresholding\n",
    "    good_match = [m for idx,m in enumerate(matchings) \n",
    "                  if good_m[idx] > good_m[0]*max_match_keep]\n",
    "\n",
    "    # Weak finding: Do COCK instead\n",
    "    if good_m[0] < MIN_MATCHES:\n",
    "        coords = train_xy.loc[img_idx].values\n",
    "        _, _, centroid = hist_onl_kmeans(coords, t_hist, img_idx, -1, max_radius, min_size, take_best_hist=True)\n",
    "        centroids.append(centroid)\n",
    "        continue\n",
    "\n",
    "    coords = train_xy.loc[good_match].values\n",
    "    _, _, centroid = hist_onl_kmeans(coords, t_hist, good_match, max_clusters, max_radius, min_size)\n",
    "    \n",
    "    centroids.append(centroid)"
   ]
  },
  {
   "cell_type": "markdown",
   "metadata": {},
   "source": [
    "## File export"
   ]
  },
  {
   "cell_type": "code",
   "execution_count": 30,
   "metadata": {},
   "outputs": [],
   "source": [
    "# If export cluster image specs for SIFT, run this\n",
    "# f = open(f'./kmeans_coords.pckl','wb')\n",
    "# pickle.dump(locs,f)\n",
    "# f.close()\n",
    "\n",
    "# f = open(f'./fnames_coords.pckl','wb')\n",
    "# pickle.dump(fnames,f)\n",
    "# f.close()"
   ]
  },
  {
   "cell_type": "code",
   "execution_count": 10,
   "metadata": {},
   "outputs": [],
   "source": [
    "# If taking centroid as output, run this\n",
    "out = pd.DataFrame(centroids,index=test_path)\n",
    "out.to_csv('Results/COCK_SIFT_voted_5_5_5_15_1_04.csv',index_label='id',header=['x','y'])"
   ]
  }
 ],
 "metadata": {
  "interpreter": {
   "hash": "4621005da5c26ac209901ca167bf25025457b064ec855aea9ba97365ac8d4984"
  },
  "kernelspec": {
   "display_name": "Python 3 (ipykernel)",
   "language": "python",
   "name": "python3"
  },
  "language_info": {
   "codemirror_mode": {
    "name": "ipython",
    "version": 3
   },
   "file_extension": ".py",
   "mimetype": "text/x-python",
   "name": "python",
   "nbconvert_exporter": "python",
   "pygments_lexer": "ipython3",
   "version": "3.7.11"
  }
 },
 "nbformat": 4,
 "nbformat_minor": 2
}
