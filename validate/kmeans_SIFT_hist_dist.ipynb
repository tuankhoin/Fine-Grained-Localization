{
 "cells": [
  {
   "cell_type": "code",
   "execution_count": 1,
   "metadata": {},
   "outputs": [],
   "source": [
    "import numpy as np\n",
    "import pandas as pd\n",
    "import matplotlib.pyplot as plt\n",
    "import pickle\n",
    "import cv2\n",
    "from tqdm import tqdm\n",
    "from itertools import combinations"
   ]
  },
  {
   "cell_type": "code",
   "execution_count": 2,
   "metadata": {},
   "outputs": [],
   "source": [
    "dist = pd.read_csv('./resnet101_matches_distance.csv').values\n",
    "fname = pd.read_csv('./resnet101_matches_filename.csv').values"
   ]
  },
  {
   "cell_type": "code",
   "execution_count": 59,
   "metadata": {},
   "outputs": [],
   "source": [
    "good = pd.read_csv('./sift_matches_distance.csv').values\n",
    "fgood = pd.read_csv('./sift_matches_filename.csv').values"
   ]
  },
  {
   "cell_type": "code",
   "execution_count": 3,
   "metadata": {},
   "outputs": [],
   "source": [
    "train_xy = pd.read_csv('validate_train.csv', index_col=0)\n",
    "train_path =  pd.read_csv('validate_train.csv')['id'].values\n",
    "test_path = pd.read_csv('validate.csv')['id'].values\n",
    "test_xy =  pd.read_csv('validate.csv')"
   ]
  },
  {
   "cell_type": "code",
   "execution_count": 4,
   "metadata": {},
   "outputs": [],
   "source": [
    "# Limit the candidate pictures to a limited decrease only, comparing to the top one\n",
    "extract_match = lambda i, thresh: fname[i,np.argwhere(dist[i] < dist[i,0] + thresh)]"
   ]
  },
  {
   "cell_type": "code",
   "execution_count": 5,
   "metadata": {},
   "outputs": [],
   "source": [
    "FOV_X = 73.3*np.pi/180\n",
    "FOV_Y = 53.1*np.pi/180\n",
    "\n",
    "cx = 680/2\n",
    "cy = 490/2\n",
    "\n",
    "fx = cx/np.tan(FOV_X/2)\n",
    "fy = cy/np.tan(FOV_Y/2)\n",
    "\n",
    "K = np.array([[fx,0,cx],\n",
    "              [0,fy,cy],\n",
    "              [0,0,1]])"
   ]
  },
  {
   "cell_type": "code",
   "execution_count": 6,
   "metadata": {},
   "outputs": [],
   "source": [
    "def displacement_calculation(test_img, centroid, coords, fnames, cam_matrix, ratio=0.6, max_range=10):\n",
    "    \n",
    "    if len(fnames) < 2: return centroid\n",
    "\n",
    "    sift = cv2.SIFT_create()\n",
    "        \n",
    "    # FLANN parameters and initialize\n",
    "    FLANN_INDEX_KDTREE = 1\n",
    "    index_params = dict(algorithm = FLANN_INDEX_KDTREE, trees = 5)\n",
    "    search_params = dict(checks=50)   # or pass empty dictionary\n",
    "    flann = cv2.FlannBasedMatcher(index_params,search_params)\n",
    "    \n",
    "    kp_test,des_test = sift.detectAndCompute(test_img,None)\n",
    "    \n",
    "    kp_train = []\n",
    "    des_train = []\n",
    "    train_vecs = []\n",
    "    cluster_centrals = None\n",
    "    cluster_count = []\n",
    "\n",
    "    for train in fnames:\n",
    "        train_img = cv2.imread('./train/' + train + '.jpg')\n",
    "        kp,des = sift.detectAndCompute(train_img,None)\n",
    "        kp_train.append(kp)\n",
    "        des_train.append(des)\n",
    "\n",
    "        # Matching descriptor using KNN algorithm\n",
    "        matches = flann.knnMatch(des,des_test,k=2)\n",
    "\n",
    "        # Store all good matches as per Lowe's Ratio test.\n",
    "        good = [m for m,n in matches if m.distance < ratio*n.distance]\n",
    "        # Need to have 8 pts to do the 8-point algorithm\n",
    "        if len(good) < 8: \n",
    "            train_vecs.append(None)\n",
    "            continue\n",
    "        pts_train = np.float32([kp[m.queryIdx].pt for m in good]).reshape(-1,1,2)\n",
    "        pts_test = np.float32([kp_test[m.trainIdx].pt for m in good]).reshape(-1,1,2)\n",
    "        # Get translation matrix from essential matrix\n",
    "        E,_ = cv2.findEssentialMat(pts_train,pts_test,cam_matrix,method=cv2.FM_LMEDS)\n",
    "        _,_,T = cv2.decomposeEssentialMat(E)\n",
    "        # Get x and z axis only, since y is assumed to be the same across pictures\n",
    "        train_vecs.append(T[[0,2]])\n",
    "\n",
    "\n",
    "    # For each pair, get all predicted positions and cluster them\n",
    "    for pt1,pt2 in combinations(range(len(fnames)),2):\n",
    "        if train_vecs[pt1] is None or train_vecs[pt2] is None: continue\n",
    "        # Vector D\n",
    "        displacement = (coords[pt2] - coords[pt1]).reshape(2,1)\n",
    "        # Vector V: vertical stacking of 2 unit vectors v1,-v2\n",
    "        unit_vectors = np.append(train_vecs[pt1],train_vecs[pt2], axis=1)\n",
    "        # Solve this matrix and get b: V[b,c]' = D\n",
    "        const = np.linalg.solve(unit_vectors,displacement)[0,0]\n",
    "        # Vector b*v1 goes from Pt1 to Pt_test: Pt_test = Pt1 + b*v1\n",
    "        loc = coords[pt1] + const * train_vecs[pt1].flatten()\n",
    "        if cluster_centrals is None:\n",
    "            cluster_centrals = np.array([loc])\n",
    "            cluster_count.append(1)\n",
    "            continue\n",
    "        # Get distance from point to each cluster\n",
    "        distances = np.sum((cluster_centrals - loc)**2, axis=1)**0.5\n",
    "        nearest = np.argmin(distances)\n",
    "        # If point is far away from clusters, it's on its own cluster\n",
    "        if distances[nearest] > max_range:\n",
    "            cluster_centrals = np.append(cluster_centrals,[loc], axis=0)\n",
    "            cluster_count.append(1)\n",
    "        # If not, it belongs to cluster with nearest centeal. Update that one\n",
    "        else:\n",
    "            cluster_centrals[nearest] = (cluster_centrals[nearest] \n",
    "                                       * cluster_count[nearest] \n",
    "                                       + loc) / (cluster_count[nearest]+1)\n",
    "            cluster_count[nearest] += 1\n",
    "\n",
    "    if cluster_centrals is None: return centroid\n",
    "    # If things go well, take the closest cluster centroid to the initial pred\n",
    "    cluster_distances = np.sum((cluster_centrals - centroid)**2, axis=1)**0.5\n",
    "    nearest = np.argmin(cluster_distances)\n",
    "    # If they are too far away, SIFT may have been rigged, so cancel that\n",
    "    if cluster_distances[nearest] > max_range: return centroid\n",
    "    return cluster_centrals[nearest]"
   ]
  },
  {
   "cell_type": "code",
   "execution_count": 7,
   "metadata": {},
   "outputs": [],
   "source": [
    "# Similar Histograms Online Clustered K-Means (SHOCK) \n",
    "def hist_onl_kmeans(data, hist, fnames, max_clusters, max_range, min_size = 1, take_best_hist = False):\n",
    "    def get_hist(fn):\n",
    "        curr_img = cv2.imread('./train/' + fn + '.jpg')\n",
    "        d_hist = cv2.calcHist([curr_img],[0],None,[256],[0,256])\n",
    "        return cv2.compareHist(hist,d_hist,cv2.HISTCMP_INTERSECT)\n",
    "    \n",
    "    cluster_centrals = None\n",
    "    cluster_elems = []\n",
    "    cluster_filename = []\n",
    "    cluster_hist = []\n",
    "    cluster_count = []\n",
    "    for i,coord in enumerate(data):\n",
    "        # Adding the first point as the first cluster central\n",
    "        if cluster_centrals is None:\n",
    "            cluster_centrals = np.array([coord])\n",
    "            cluster_elems.append([coord])\n",
    "            cluster_filename.append([fnames[i]])\n",
    "            compared_hist = get_hist(fnames[i])\n",
    "            cluster_hist.append(compared_hist)\n",
    "            cluster_count.append(1)\n",
    "            continue\n",
    "        # Get distance from point to each cluster\n",
    "        distances = np.sum((cluster_centrals - coord)**2, axis=1)**0.5\n",
    "        nearest = np.argmin(distances)\n",
    "        # If point is far away from clusters, it's on its own cluster\n",
    "        if distances[nearest] > max_range:\n",
    "            # Stop when max number of clusters reached and have a big enough cluster\n",
    "            if cluster_centrals.shape[0] >= max_clusters and max_clusters > 0:\n",
    "                if np.max(cluster_count) >= min_size: break\n",
    "                # Not big enough clusters means that the CNN is messed up\n",
    "                return None,None,None\n",
    "            cluster_centrals = np.append(cluster_centrals,[coord], axis=0)\n",
    "            cluster_elems.append([coord])\n",
    "            cluster_filename.append([fnames[i]])\n",
    "            compared_hist = get_hist(fnames[i])\n",
    "            cluster_hist.append(compared_hist)\n",
    "            cluster_count.append(1)\n",
    "        # If not, it belongs to cluster with nearest centeal. Update that one\n",
    "        else:\n",
    "            cluster_centrals[nearest] = (cluster_centrals[nearest] \n",
    "                                       * cluster_count[nearest] \n",
    "                                       + coord) / (cluster_count[nearest]+1)\n",
    "            cluster_elems[nearest].append(coord)\n",
    "            cluster_filename[nearest].append(fnames[i])\n",
    "            compared_hist = get_hist(fnames[i])\n",
    "            if compared_hist > cluster_hist[nearest]: cluster_hist[nearest] = compared_hist\n",
    "            cluster_count[nearest] += 1\n",
    "    # Return the coordinates, filenames, and center of the largest cluster\n",
    "    #print(';'.join([f'{cluster_centrals[c]}: {cluster_hist[c]}' for c,_ in enumerate(cluster_centrals)]))\n",
    "    biggest_cluster = np.argmax(cluster_count)\n",
    "    similar_hist_cluster = np.argmax(cluster_hist)\n",
    "    best_cluster = 0 if biggest_cluster == 0 and not take_best_hist else similar_hist_cluster\n",
    "    return cluster_elems[best_cluster], \\\n",
    "           cluster_filename[best_cluster], \\\n",
    "           cluster_centrals[best_cluster]"
   ]
  },
  {
   "cell_type": "markdown",
   "metadata": {},
   "source": [
    "## Exhaustive SIFT, vote between best match, biggest cluster and most similar color spectrum"
   ]
  },
  {
   "cell_type": "code",
   "execution_count": 8,
   "metadata": {},
   "outputs": [
    {
     "name": "stderr",
     "output_type": "stream",
     "text": [
      "  0%|                                                                                          | 0/600 [00:00<?, ?it/s]\n"
     ]
    },
    {
     "ename": "NameError",
     "evalue": "name 'fgood' is not defined",
     "output_type": "error",
     "traceback": [
      "\u001b[1;31m---------------------------------------------------------------------------\u001b[0m",
      "\u001b[1;31mNameError\u001b[0m                                 Traceback (most recent call last)",
      "\u001b[1;32m~\\AppData\\Local\\Temp/ipykernel_7960/3520310032.py\u001b[0m in \u001b[0;36m<module>\u001b[1;34m\u001b[0m\n\u001b[0;32m     16\u001b[0m     \u001b[0mimg_idx\u001b[0m \u001b[1;33m=\u001b[0m \u001b[0mextract_match\u001b[0m\u001b[1;33m(\u001b[0m\u001b[0mi\u001b[0m\u001b[1;33m,\u001b[0m\u001b[0mthreshold\u001b[0m\u001b[1;33m)\u001b[0m\u001b[1;33m.\u001b[0m\u001b[0mflatten\u001b[0m\u001b[1;33m(\u001b[0m\u001b[1;33m)\u001b[0m\u001b[1;33m\u001b[0m\u001b[1;33m\u001b[0m\u001b[0m\n\u001b[0;32m     17\u001b[0m \u001b[1;33m\u001b[0m\u001b[0m\n\u001b[1;32m---> 18\u001b[1;33m     \u001b[0msift_fname\u001b[0m \u001b[1;33m=\u001b[0m \u001b[0mfgood\u001b[0m\u001b[1;33m[\u001b[0m\u001b[0mi\u001b[0m\u001b[1;33m,\u001b[0m\u001b[1;33m:\u001b[0m\u001b[1;33m]\u001b[0m\u001b[1;33m\u001b[0m\u001b[1;33m\u001b[0m\u001b[0m\n\u001b[0m\u001b[0;32m     19\u001b[0m     \u001b[0msift_match\u001b[0m \u001b[1;33m=\u001b[0m \u001b[0mgood\u001b[0m\u001b[1;33m[\u001b[0m\u001b[0mi\u001b[0m\u001b[1;33m,\u001b[0m\u001b[1;33m:\u001b[0m\u001b[1;33m]\u001b[0m\u001b[1;33m\u001b[0m\u001b[1;33m\u001b[0m\u001b[0m\n\u001b[0;32m     20\u001b[0m \u001b[1;33m\u001b[0m\u001b[0m\n",
      "\u001b[1;31mNameError\u001b[0m: name 'fgood' is not defined"
     ]
    }
   ],
   "source": [
    "# COCK params for images with few features\n",
    "MIN_MATCHES = 5\n",
    "threshold = 5\n",
    "max_clusters = 5\n",
    "max_radius = 15\n",
    "min_size = 1\n",
    "max_match_keep = 0.4\n",
    "ratio = 0.6\n",
    "max_range = 10\n",
    "\n",
    "centroids = []\n",
    "for i,test in enumerate(tqdm(test_path)):\n",
    "    test_img = cv2.imread('./test/' + test + '.jpg')\n",
    "    t_hist = cv2.calcHist([test_img],[0],None,[256],[0,256])\n",
    "\n",
    "    img_idx = extract_match(i,threshold).flatten()\n",
    "    \n",
    "    sift_fname = fgood[i,:]\n",
    "    sift_match = good[i,:]\n",
    "\n",
    "    # Weak finding: Do COCK instead\n",
    "    if sift_fname[0] is np.nan:\n",
    "        coords = train_xy.loc[img_idx].values\n",
    "        _, _, centroid = hist_onl_kmeans(coords, t_hist, img_idx, -1, max_radius, min_size, take_best_hist=True)\n",
    "        centroids.append(centroid)\n",
    "        continue\n",
    "\n",
    "    # Basically get all cnn indices in order of best SIFT matches\n",
    "    matchings = []\n",
    "    good_m = []\n",
    "    for match_idx,m in enumerate(sift_fname):\n",
    "        if m in img_idx:\n",
    "            matchings.append(m)\n",
    "            good_m.append(sift_match[match_idx])\n",
    "    # Once again do thresholding\n",
    "    good_match = [m for idx,m in enumerate(matchings) \n",
    "                  if good_m[idx] > good_m[0]*max_match_keep]\n",
    "\n",
    "    # Weak finding: Do COCK instead\n",
    "    if good_m[0] < MIN_MATCHES:\n",
    "        coords = train_xy.loc[img_idx].values\n",
    "        _, _, centroid = hist_onl_kmeans(coords, t_hist, img_idx, -1, max_radius, min_size, take_best_hist=True)\n",
    "        centroids.append(centroid)\n",
    "        continue\n",
    "\n",
    "    coords = train_xy.loc[good_match].values\n",
    "    locs, fnames, centroid = hist_onl_kmeans(coords, t_hist, good_match, max_clusters, max_radius, min_size)\n",
    "    final_loc = displacement_calculation(test_img, centroid, locs, fnames, K, ratio, max_range)\n",
    "    centroids.append(final_loc)"
   ]
  },
  {
   "cell_type": "markdown",
   "metadata": {},
   "source": [
    "## File export"
   ]
  },
  {
   "cell_type": "code",
   "execution_count": 84,
   "metadata": {},
   "outputs": [],
   "source": [
    "out = pd.DataFrame(centroids,index=test_path)\n",
    "out.to_csv('Results/SIFT_transform.csv',index_label='id',header=['x','y'])"
   ]
  }
 ],
 "metadata": {
  "interpreter": {
   "hash": "4621005da5c26ac209901ca167bf25025457b064ec855aea9ba97365ac8d4984"
  },
  "kernelspec": {
   "display_name": "Python 3 (ipykernel)",
   "language": "python",
   "name": "python3"
  },
  "language_info": {
   "codemirror_mode": {
    "name": "ipython",
    "version": 3
   },
   "file_extension": ".py",
   "mimetype": "text/x-python",
   "name": "python",
   "nbconvert_exporter": "python",
   "pygments_lexer": "ipython3",
   "version": "3.7.11"
  }
 },
 "nbformat": 4,
 "nbformat_minor": 2
}
