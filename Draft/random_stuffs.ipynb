{
 "cells": [
  {
   "cell_type": "code",
   "execution_count": 1,
   "metadata": {},
   "outputs": [],
   "source": [
    "import numpy as np\n",
    "import pandas as pd\n",
    "import cv2\n",
    "from tqdm import tqdm\n",
    "from matplotlib import pyplot as plt\n",
    "import pickle"
   ]
  },
  {
   "cell_type": "code",
   "execution_count": 12,
   "metadata": {},
   "outputs": [],
   "source": [
    "with open(f'./best.pckl','rb') as f:\n",
    "    best = pickle.load(f)\n",
    "with open(f'./2nd_best.pckl','rb') as f:\n",
    "    best2 = pickle.load(f)\n",
    "with open(f'./3rd_best.pckl','rb') as f:\n",
    "    best3 = pickle.load(f)"
   ]
  },
  {
   "cell_type": "code",
   "execution_count": 16,
   "metadata": {},
   "outputs": [],
   "source": [
    "df = pd.DataFrame({'1':best,'2':best2,'3':best3})\n",
    "df.to_csv('sift_matches.csv',index=False)"
   ]
  },
  {
   "cell_type": "code",
   "execution_count": 18,
   "metadata": {},
   "outputs": [],
   "source": [
    "train_xy = pd.read_csv('train.csv')\n",
    "train_path = train_xy['id'].values\n",
    "test_path = pd.read_csv('imagenames.csv')['id'].values\n",
    "\n",
    "out=[]\n",
    "for i in range(len(df)):\n",
    "    coor = [train_xy[train_xy['id']== df[label][i]] for label in ['1','2','3']]\n",
    "    result = pd.concat(coor)\n",
    "    out.append([test_path[i], np.mean(result['x']), np.mean(result['y'])])\n",
    "    \n",
    "out_csv = pd.DataFrame(out, columns=['id','x','y'])\n",
    "out_csv.to_csv('sift_top3_out.csv',index=False)"
   ]
  },
  {
   "cell_type": "code",
   "execution_count": 2,
   "metadata": {},
   "outputs": [],
   "source": [
    "train_i = {}\n",
    "test_i = {}\n",
    "\n",
    "train_xy = pd.read_csv('train.csv')\n",
    "train_path = train_xy['id'].values\n",
    "test_path = pd.read_csv('imagenames.csv')['id'].values\n",
    "\n",
    "for f in train_path:\n",
    "    i = cv2.imread('./train/' + f + '.jpg')\n",
    "    train_i[f] = i\n",
    "for f in test_path:\n",
    "    i = cv2.imread('./test/' + f + '.jpg')\n",
    "    test_i[f] = i"
   ]
  },
  {
   "cell_type": "code",
   "execution_count": 34,
   "metadata": {},
   "outputs": [
    {
     "data": {
      "text/plain": [
       "170298.0"
      ]
     },
     "execution_count": 34,
     "metadata": {},
     "output_type": "execute_result"
    }
   ],
   "source": [
    "idx1 = 'IMG4332_3'\n",
    "#idx2 = 'IMG3351_2'\n",
    "idx2 = 'IMG3945_5'\n",
    "i1 = cv2.imread('./test/' + idx1 + '.jpg')\n",
    "i2 = cv2.imread('./train/' + idx2 + '.jpg')\n",
    "hist1 = cv2.calcHist([i1],[0],None,[256],[0,256])\n",
    "hist2 = cv2.calcHist([i2],[0],None,[256],[0,256])\n",
    "#cv2.normalize(hist1, hist1, alpha=0, beta=1, norm_type=cv2.NORM_MINMAX)\n",
    "#cv2.normalize(hist2, hist2, alpha=0, beta=1, norm_type=cv2.NORM_MINMAX)\n",
    "\n",
    "cv2.compareHist(hist1,hist2,cv2.HISTCMP_INTERSECT)"
   ]
  },
  {
   "cell_type": "code",
   "execution_count": 36,
   "metadata": {},
   "outputs": [
    {
     "data": {
      "text/plain": [
       "(256, 1)"
      ]
     },
     "execution_count": 36,
     "metadata": {},
     "output_type": "execute_result"
    }
   ],
   "source": [
    "hist1.shape"
   ]
  }
 ],
 "metadata": {
  "interpreter": {
   "hash": "4621005da5c26ac209901ca167bf25025457b064ec855aea9ba97365ac8d4984"
  },
  "kernelspec": {
   "display_name": "Python 3.6.8 64-bit",
   "name": "python3"
  },
  "language_info": {
   "codemirror_mode": {
    "name": "ipython",
    "version": 3
   },
   "file_extension": ".py",
   "mimetype": "text/x-python",
   "name": "python",
   "nbconvert_exporter": "python",
   "pygments_lexer": "ipython3",
   "version": "3.6.8"
  },
  "orig_nbformat": 4
 },
 "nbformat": 4,
 "nbformat_minor": 2
}
