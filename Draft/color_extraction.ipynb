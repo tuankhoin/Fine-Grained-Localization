{
 "cells": [
  {
   "cell_type": "markdown",
   "metadata": {},
   "source": [
    "# Color similarity extraction\n",
    "\n",
    "This script extracts color similarity for each test instance, rank them and put together to a `.csv` file."
   ]
  },
  {
   "cell_type": "code",
   "execution_count": 1,
   "metadata": {},
   "outputs": [],
   "source": [
    "import numpy as np\n",
    "import pandas as pd\n",
    "import cv2\n",
    "from tqdm import tqdm"
   ]
  },
  {
   "cell_type": "code",
   "execution_count": 2,
   "metadata": {},
   "outputs": [],
   "source": [
    "train_i = {}\n",
    "test_i = {}\n",
    "\n",
    "train_xy = pd.read_csv('train.csv')\n",
    "train_path = train_xy['id'].values\n",
    "test_path = pd.read_csv('imagenames.csv')['id'].values\n",
    "\n",
    "# Only store the histogram to save up space\n",
    "for f in train_path:\n",
    "    i = cv2.imread('./train/' + f + '.jpg')\n",
    "    hist = cv2.calcHist([i],[0],None,[256],[0,256])\n",
    "    train_i[f] = hist\n",
    "for f in test_path:\n",
    "    i = cv2.imread('./test/' + f + '.jpg')\n",
    "    hist = cv2.calcHist([i],[0],None,[256],[0,256])\n",
    "    test_i[f] = hist"
   ]
  },
  {
   "cell_type": "code",
   "execution_count": 4,
   "metadata": {},
   "outputs": [
    {
     "name": "stderr",
     "output_type": "stream",
     "text": [
      "100%|██████████| 1200/1200 [04:45<00:00,  4.20it/s]\n"
     ]
    }
   ],
   "source": [
    "n_trains = len(train_xy)\n",
    "\n",
    "fname = np.empty((0,n_trains))\n",
    "match = np.empty((0,n_trains))\n",
    "\n",
    "for test in tqdm(test_path):\n",
    "    matches = [cv2.compareHist(train_i[train],test_i[test],cv2.HISTCMP_INTERSECT) \n",
    "               for train in train_path]\n",
    "    # Sorting. The order starts from the best matches\n",
    "    sorted_idx = np.flip(np.argsort(matches))\n",
    "    sorted_path = [train_path[idx] for idx in sorted_idx]\n",
    "    sorted_matches = [matches[idx] for idx in sorted_idx]\n",
    "\n",
    "    fname = np.append(fname, [sorted_path], axis=0)\n",
    "    match = np.append(match, [sorted_matches], axis=0)"
   ]
  },
  {
   "cell_type": "code",
   "execution_count": 5,
   "metadata": {},
   "outputs": [],
   "source": [
    "pd.DataFrame(fname).to_csv('color_matches_filename.csv',index=False)\n",
    "pd.DataFrame(match).to_csv('color_matches_distance.csv',index=False)"
   ]
  }
 ],
 "metadata": {
  "interpreter": {
   "hash": "4621005da5c26ac209901ca167bf25025457b064ec855aea9ba97365ac8d4984"
  },
  "kernelspec": {
   "display_name": "Python 3.6.8 64-bit",
   "name": "python3"
  },
  "language_info": {
   "codemirror_mode": {
    "name": "ipython",
    "version": 3
   },
   "file_extension": ".py",
   "mimetype": "text/x-python",
   "name": "python",
   "nbconvert_exporter": "python",
   "pygments_lexer": "ipython3",
   "version": "3.6.8"
  },
  "orig_nbformat": 4
 },
 "nbformat": 4,
 "nbformat_minor": 2
}
