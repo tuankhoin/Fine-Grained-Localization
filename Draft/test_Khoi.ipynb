{
 "cells": [
  {
   "cell_type": "code",
   "execution_count": 1,
   "source": [
    "import numpy as np\r\n",
    "import pandas as pd\r\n",
    "import cv2\r\n",
    "from tqdm import tqdm\r\n",
    "from matplotlib import pyplot as plt\r\n",
    "import pickle\r\n",
    "\r\n",
    "import tensorflow as tf\r\n",
    "#from keras.applications.resnet_v2 import *\r\n",
    "from keras.applications.vgg19 import *\r\n",
    "from keras.preprocessing.image_dataset import *\r\n",
    "from keras.preprocessing import image\r\n",
    "from keras.models import Model"
   ],
   "outputs": [],
   "metadata": {}
  },
  {
   "cell_type": "code",
   "execution_count": 2,
   "source": [
    "train_i = []\r\n",
    "test_i = []\r\n",
    "\r\n",
    "train_xy = pd.read_csv('train.csv')\r\n",
    "train_path = train_xy['id'].values\r\n",
    "test_path = pd.read_csv('imagenames.csv')['id'].values\r\n",
    "\r\n",
    "for f in train_path:\r\n",
    "    #i = cv2.imread('./train/' + f + '.jpg')\r\n",
    "    img = image.load_img('./train/' + f + '.jpg', target_size=(224, 224))\r\n",
    "    x = image.img_to_array(img)\r\n",
    "    x = np.expand_dims(x, axis=0)\r\n",
    "    x = preprocess_input(x)\r\n",
    "    train_i.append(x)\r\n",
    "for f in test_path:\r\n",
    "    #i = cv2.imread('./test/' + f + '.jpg')\r\n",
    "    img = image.load_img('./test/' + f + '.jpg', target_size=(224, 224))\r\n",
    "    x = image.img_to_array(img)\r\n",
    "    x = np.expand_dims(x, axis=0)\r\n",
    "    x = preprocess_input(x)\r\n",
    "    test_i.append(x)"
   ],
   "outputs": [],
   "metadata": {}
  },
  {
   "cell_type": "code",
   "execution_count": 3,
   "source": [
    "#model = ResNet152V2(weights = 'imagenet', include_top = False)\r\n",
    "base_model = VGG19(weights='imagenet', include_top=True)\r\n",
    "model = Model(inputs=base_model.input, outputs=base_model.get_layer('block4_pool').output)"
   ],
   "outputs": [],
   "metadata": {}
  },
  {
   "cell_type": "code",
   "execution_count": 4,
   "source": [
    "model.summary()"
   ],
   "outputs": [
    {
     "output_type": "stream",
     "name": "stdout",
     "text": [
      "Model: \"model\"\n",
      "_________________________________________________________________\n",
      "Layer (type)                 Output Shape              Param #   \n",
      "=================================================================\n",
      "input_1 (InputLayer)         [(None, 224, 224, 3)]     0         \n",
      "_________________________________________________________________\n",
      "block1_conv1 (Conv2D)        (None, 224, 224, 64)      1792      \n",
      "_________________________________________________________________\n",
      "block1_conv2 (Conv2D)        (None, 224, 224, 64)      36928     \n",
      "_________________________________________________________________\n",
      "block1_pool (MaxPooling2D)   (None, 112, 112, 64)      0         \n",
      "_________________________________________________________________\n",
      "block2_conv1 (Conv2D)        (None, 112, 112, 128)     73856     \n",
      "_________________________________________________________________\n",
      "block2_conv2 (Conv2D)        (None, 112, 112, 128)     147584    \n",
      "_________________________________________________________________\n",
      "block2_pool (MaxPooling2D)   (None, 56, 56, 128)       0         \n",
      "_________________________________________________________________\n",
      "block3_conv1 (Conv2D)        (None, 56, 56, 256)       295168    \n",
      "_________________________________________________________________\n",
      "block3_conv2 (Conv2D)        (None, 56, 56, 256)       590080    \n",
      "_________________________________________________________________\n",
      "block3_conv3 (Conv2D)        (None, 56, 56, 256)       590080    \n",
      "_________________________________________________________________\n",
      "block3_conv4 (Conv2D)        (None, 56, 56, 256)       590080    \n",
      "_________________________________________________________________\n",
      "block3_pool (MaxPooling2D)   (None, 28, 28, 256)       0         \n",
      "_________________________________________________________________\n",
      "block4_conv1 (Conv2D)        (None, 28, 28, 512)       1180160   \n",
      "_________________________________________________________________\n",
      "block4_conv2 (Conv2D)        (None, 28, 28, 512)       2359808   \n",
      "_________________________________________________________________\n",
      "block4_conv3 (Conv2D)        (None, 28, 28, 512)       2359808   \n",
      "_________________________________________________________________\n",
      "block4_conv4 (Conv2D)        (None, 28, 28, 512)       2359808   \n",
      "_________________________________________________________________\n",
      "block4_pool (MaxPooling2D)   (None, 14, 14, 512)       0         \n",
      "=================================================================\n",
      "Total params: 10,585,152\n",
      "Trainable params: 10,585,152\n",
      "Non-trainable params: 0\n",
      "_________________________________________________________________\n"
     ]
    }
   ],
   "metadata": {}
  },
  {
   "cell_type": "code",
   "execution_count": 5,
   "source": [
    "train_preds = []\r\n",
    "test_preds = []\r\n",
    "\r\n",
    "for i in tqdm(train_i):\r\n",
    "    #inp = preprocess_input(np.expand_dims(i, axis=0))\r\n",
    "    pred = model.predict(i)\r\n",
    "    train_preds.append(pred)\r\n",
    "\r\n",
    "for i in tqdm(test_i):\r\n",
    "    #inp = preprocess_input(np.expand_dims(i, axis=0))\r\n",
    "    pred = model.predict(i)\r\n",
    "    test_preds.append(pred)"
   ],
   "outputs": [
    {
     "output_type": "stream",
     "name": "stderr",
     "text": [
      "100%|██████████| 7500/7500 [26:55<00:00,  4.64it/s]\n",
      "100%|██████████| 1200/1200 [04:31<00:00,  4.43it/s]\n"
     ]
    }
   ],
   "metadata": {}
  },
  {
   "cell_type": "code",
   "execution_count": 6,
   "source": [
    "# f = open(f'./test_vgg19_2.pckl','wb')\r\n",
    "# pickle.dump(test_preds,f)\r\n",
    "# f.close()\r\n",
    "\r\n",
    "# f = open(f'./train_vgg19_2.pckl','wb')\r\n",
    "# pickle.dump(train_preds,f)\r\n",
    "# f.close()"
   ],
   "outputs": [],
   "metadata": {}
  },
  {
   "cell_type": "code",
   "execution_count": 7,
   "source": [
    "best_train = []\r\n",
    "for test in tqdm(test_preds):\r\n",
    "    match = [np.sum((train-test)**2)**0.5 for train in train_preds]\r\n",
    "    best_match = np.argsort(match)[:3]\r\n",
    "    row = train_xy.iloc[best_match]['id'].values\r\n",
    "    best_train.append(row)\r\n",
    "\r\n",
    "df = pd.DataFrame(best_train, columns=['1','2','3'])\r\n",
    "df.to_csv('vgg19_matches_2.csv',index=False)"
   ],
   "outputs": [
    {
     "output_type": "stream",
     "name": "stderr",
     "text": [
      "100%|██████████| 1200/1200 [1:48:02<00:00,  5.40s/it]\n"
     ]
    }
   ],
   "metadata": {}
  },
  {
   "cell_type": "code",
   "execution_count": 9,
   "source": [
    "out=[]\r\n",
    "for i in range(len(df)):\r\n",
    "    coor = [train_xy[train_xy['id']== df[label][i]] for label in ['1','2','3']]\r\n",
    "    result = pd.concat(coor)\r\n",
    "    out.append([test_path[i], np.mean(result['x']), np.mean(result['y'])])\r\n",
    "    \r\n",
    "out_csv = pd.DataFrame(out, columns=['id','x','y'])\r\n",
    "out_csv.to_csv('vgg19_top3_out.csv',index=False)"
   ],
   "outputs": [],
   "metadata": {}
  },
  {
   "cell_type": "code",
   "execution_count": 8,
   "source": [
    "# from joblib import Parallel, delayed\r\n",
    "\r\n",
    "# best_train = []\r\n",
    "# def get_best(test):\r\n",
    "#     match = [np.sum((train-test)**2)**0.5 for train in train_preds]\r\n",
    "#     best_match = np.argsort(match)[:3]\r\n",
    "#     row = train_xy.iloc[best_match]['id'].values\r\n",
    "#     best_train.append(row)\r\n",
    "\r\n",
    "# Parallel(n_jobs=2,verbose=10)(delayed(get_best)(test) for test in test_preds)\r\n",
    "\r\n",
    "# df = pd.DataFrame(best_train, columns=['1','2','3'])\r\n",
    "# df.to_csv('vgg19_matches_2.csv',index=False)"
   ],
   "outputs": [],
   "metadata": {}
  }
 ],
 "metadata": {
  "orig_nbformat": 4,
  "language_info": {
   "name": "python",
   "version": "3.6.8",
   "mimetype": "text/x-python",
   "codemirror_mode": {
    "name": "ipython",
    "version": 3
   },
   "pygments_lexer": "ipython3",
   "nbconvert_exporter": "python",
   "file_extension": ".py"
  },
  "kernelspec": {
   "name": "python3",
   "display_name": "Python 3.6.8 64-bit"
  },
  "interpreter": {
   "hash": "4621005da5c26ac209901ca167bf25025457b064ec855aea9ba97365ac8d4984"
  }
 },
 "nbformat": 4,
 "nbformat_minor": 2
}