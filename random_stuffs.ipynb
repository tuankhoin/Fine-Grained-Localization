{
 "cells": [
  {
   "cell_type": "code",
   "execution_count": 17,
   "source": [
    "import pickle\r\n",
    "import pandas as pd\r\n",
    "import numpy as np"
   ],
   "outputs": [],
   "metadata": {}
  },
  {
   "cell_type": "code",
   "execution_count": 12,
   "source": [
    "with open(f'./best.pckl','rb') as f:\r\n",
    "    best = pickle.load(f)\r\n",
    "with open(f'./2nd_best.pckl','rb') as f:\r\n",
    "    best2 = pickle.load(f)\r\n",
    "with open(f'./3rd_best.pckl','rb') as f:\r\n",
    "    best3 = pickle.load(f)"
   ],
   "outputs": [],
   "metadata": {}
  },
  {
   "cell_type": "code",
   "execution_count": 16,
   "source": [
    "df = pd.DataFrame({'1':best,'2':best2,'3':best3})\r\n",
    "df.to_csv('sift_matches.csv',index=False)"
   ],
   "outputs": [],
   "metadata": {}
  },
  {
   "cell_type": "code",
   "execution_count": 18,
   "source": [
    "train_xy = pd.read_csv('train.csv')\r\n",
    "train_path = train_xy['id'].values\r\n",
    "test_path = pd.read_csv('imagenames.csv')['id'].values\r\n",
    "\r\n",
    "out=[]\r\n",
    "for i in range(len(df)):\r\n",
    "    coor = [train_xy[train_xy['id']== df[label][i]] for label in ['1','2','3']]\r\n",
    "    result = pd.concat(coor)\r\n",
    "    out.append([test_path[i], np.mean(result['x']), np.mean(result['y'])])\r\n",
    "    \r\n",
    "out_csv = pd.DataFrame(out, columns=['id','x','y'])\r\n",
    "out_csv.to_csv('sift_top3_out.csv',index=False)"
   ],
   "outputs": [],
   "metadata": {}
  }
 ],
 "metadata": {
  "orig_nbformat": 4,
  "language_info": {
   "name": "python",
   "version": "3.6.8",
   "mimetype": "text/x-python",
   "codemirror_mode": {
    "name": "ipython",
    "version": 3
   },
   "pygments_lexer": "ipython3",
   "nbconvert_exporter": "python",
   "file_extension": ".py"
  },
  "kernelspec": {
   "name": "python3",
   "display_name": "Python 3.6.8 64-bit"
  },
  "interpreter": {
   "hash": "4621005da5c26ac209901ca167bf25025457b064ec855aea9ba97365ac8d4984"
  }
 },
 "nbformat": 4,
 "nbformat_minor": 2
}