{
 "cells": [
  {
   "cell_type": "code",
   "execution_count": 3,
   "id": "0fcd9666",
   "metadata": {},
   "outputs": [],
   "source": [
    "import numpy as np\n",
    "import pandas as pd\n",
    "from tqdm import tqdm\n",
    "import pickle\n",
    "import cv2"
   ]
  },
  {
   "cell_type": "code",
   "execution_count": 4,
   "id": "f0305980",
   "metadata": {},
   "outputs": [],
   "source": [
    "resnet50_match_distance = pd.read_csv('resnet50_matches_distance.csv')\n",
    "resnet50_match_filename = pd.read_csv('resnet50_matches_filename.csv')"
   ]
  },
  {
   "cell_type": "code",
   "execution_count": 5,
   "id": "b23d9e6a",
   "metadata": {},
   "outputs": [],
   "source": [
    "train_i = []\n",
    "test_i = []\n",
    "\n",
    "train_xy = pd.read_csv('train.csv')\n",
    "train_path = train_xy['id'].values\n",
    "test_path = pd.read_csv('imagenames1.csv')['id'].values\n",
    "\n",
    "for f in train_path:\n",
    "    i = cv2.imread('./train/' + f + '.jpg')\n",
    "    train_i.append(i)\n",
    "for f in test_path:\n",
    "    i = cv2.imread('./test/' + f + '.jpg')\n",
    "    test_i.append(i)"
   ]
  },
  {
   "cell_type": "code",
   "execution_count": 7,
   "id": "15213efd",
   "metadata": {},
   "outputs": [
    {
     "data": {
      "text/plain": [
       "1200"
      ]
     },
     "execution_count": 7,
     "metadata": {},
     "output_type": "execute_result"
    }
   ],
   "source": []
  },
  {
   "cell_type": "code",
   "execution_count": 9,
   "id": "3a092d46",
   "metadata": {},
   "outputs": [
    {
     "name": "stderr",
     "output_type": "stream",
     "text": [
      "1200it [02:21,  8.51it/s]\n"
     ]
    }
   ],
   "source": [
    "sift = cv2.SIFT_create()\n",
    "\n",
    "\n",
    "for i,img in tqdm(enumerate(test_i)):\n",
    "    _, des = sift.detectAndCompute(img,None)\n",
    "    f = open(f'./test_kp1/test_kp{test_path[i]}.pckl','wb')\n",
    "    pickle.dump(des,f)\n",
    "    f.close()\n"
   ]
  },
  {
   "cell_type": "code",
   "execution_count": 23,
   "id": "03ddcb51",
   "metadata": {},
   "outputs": [
    {
     "name": "stderr",
     "output_type": "stream",
     "text": [
      "100%|██████████████████████████████████████████████████████████████████████████████| 1200/1200 [16:50<00:00,  1.19it/s]\n"
     ]
    }
   ],
   "source": [
    "FLANN_INDEX_KDTREE = 1\n",
    "index_params = dict(algorithm = FLANN_INDEX_KDTREE, trees = 5)\n",
    "search_params = dict(checks=50)\n",
    "flann = cv2.FlannBasedMatcher(index_params,search_params)\n",
    "\n",
    "i = 0\n",
    "match=[]\n",
    "no_match =[]\n",
    "for test in tqdm(test_path):\n",
    "\n",
    "    f = open(f'./test_kp1/test_kp{test}.pckl', 'rb')\n",
    "    des_test = pickle.load(f)\n",
    "    f.close()\n",
    "\n",
    "    goods = []\n",
    "    current_good = 0\n",
    "\n",
    "    if des_test is None or len(des_test) < 2:\n",
    "        no_match.append(test)\n",
    "        continue\n",
    "\n",
    "    for train in resnet50_match_filename.loc[i][:20]:\n",
    "        f = open(f'./train_kp/train_kp{train}.pckl', 'rb')\n",
    "        des_train = pickle.load(f)\n",
    "        f.close()\n",
    "\n",
    "        # Matching descriptor using KNN algorithm\n",
    "        if des_train is None or len(des_train) < 2:\n",
    "            goods.append(-1)\n",
    "            continue\n",
    "        matches = flann.knnMatch(des_test,des_train,k=2)\n",
    "\n",
    "        # Store all good matches as per Lowe's Ratio test.\n",
    "        good = len([m for m,n in matches if m.distance < 0.7*n.distance])\n",
    "        goods.append(good)\n",
    "    \n",
    "    sorted_idx = np.argsort(goods)\n",
    "    sorted_path = [resnet50_match_filename.loc[i][idx] for idx in sorted_idx]\n",
    "    sorted_goods = [goods[idx] for idx in sorted_idx]\n",
    "    i +=1\n",
    "#     print(sorted_goods)\n",
    "#     print(sorted_path)\n",
    "    match.append((test,sorted_path[-1]))\n",
    "    "
   ]
  },
  {
   "cell_type": "code",
   "execution_count": 41,
   "id": "3128e324",
   "metadata": {},
   "outputs": [
    {
     "data": {
      "text/plain": [
       "81"
      ]
     },
     "execution_count": 41,
     "metadata": {},
     "output_type": "execute_result"
    }
   ],
   "source": [
    "match[0][0]\n",
    "np.argwhere(test_path==no_match[0])[0][0]"
   ]
  },
  {
   "cell_type": "code",
   "execution_count": 54,
   "id": "91565466",
   "metadata": {},
   "outputs": [],
   "source": [
    "out = []\n",
    "for img in no_match:\n",
    "    index = np.argwhere(test_path==img)[0][0]\n",
    "    resnet50_match_filename.loc[index][:3]\n",
    "    coor = [train_xy[train_xy['id'] == filename] for filename in resnet50_match_filename.loc[index][:3]]\n",
    "    result = pd.concat(coor)\n",
    "    out.append([img, np.mean(result['x']), np.mean(result['y'])])"
   ]
  },
  {
   "cell_type": "code",
   "execution_count": 55,
   "id": "700696cc",
   "metadata": {},
   "outputs": [],
   "source": [
    "for i in range(len(match)):\n",
    "    coor = train_xy[train_xy['id']== match[i][1]]\n",
    "    out.append([match[i][0],coor.iloc[0]['x'],coor.iloc[0]['y']])\n",
    "out_csv = pd.DataFrame(out, columns=['id','x','y'])\n",
    "out_csv.to_csv('resnet50_sift_top1_20_out.csv',index=False)"
   ]
  },
  {
   "cell_type": "code",
   "execution_count": null,
   "id": "e2db61e1",
   "metadata": {},
   "outputs": [],
   "source": []
  }
 ],
 "metadata": {
  "kernelspec": {
   "display_name": "Python 3",
   "language": "python",
   "name": "python3"
  },
  "language_info": {
   "codemirror_mode": {
    "name": "ipython",
    "version": 3
   },
   "file_extension": ".py",
   "mimetype": "text/x-python",
   "name": "python",
   "nbconvert_exporter": "python",
   "pygments_lexer": "ipython3",
   "version": "3.7.11"
  }
 },
 "nbformat": 4,
 "nbformat_minor": 5
}
