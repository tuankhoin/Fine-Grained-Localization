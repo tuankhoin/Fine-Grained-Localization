{
 "cells": [
  {
   "cell_type": "code",
   "execution_count": 1,
   "id": "0fcd9666",
   "metadata": {},
   "outputs": [],
   "source": [
    "import numpy as np\n",
    "import pandas as pd\n",
    "from tqdm import tqdm\n",
    "import pickle\n",
    "import cv2"
   ]
  },
  {
   "cell_type": "code",
   "execution_count": 3,
   "id": "f0305980",
   "metadata": {},
   "outputs": [],
   "source": [
    "resnet50_match_distance = pd.read_csv('resnet50_matches_distance.csv')\n",
    "resnet50_match_filename = pd.read_csv('resnet50_matches_filename.csv')"
   ]
  },
  {
   "cell_type": "code",
   "execution_count": 11,
   "id": "579a568e",
   "metadata": {},
   "outputs": [
    {
     "data": {
      "text/plain": [
       "array([[16.87788785, 19.18706897, 19.46590945, ..., 55.22238864,\n",
       "        55.69534702, 64.75160245],\n",
       "       [20.866944  , 22.17866929, 25.93556445, ..., 57.82651857,\n",
       "        59.03646086, 63.50801961],\n",
       "       [25.18745396, 26.85310245, 28.30647615, ..., 61.39092923,\n",
       "        62.57981622, 68.30292491],\n",
       "       ...,\n",
       "       [19.95715779, 22.68322613, 23.28842565, ..., 57.87640682,\n",
       "        60.74417852, 64.13282344],\n",
       "       [21.76125141, 22.17268638, 22.74561712, ..., 57.18769424,\n",
       "        57.29742892, 65.93675947],\n",
       "       [35.21623528, 35.65160739, 36.94054192, ..., 63.79817037,\n",
       "        64.99044777, 70.01153644]])"
      ]
     },
     "execution_count": 11,
     "metadata": {},
     "output_type": "execute_result"
    }
   ],
   "source": [
    "resnet50_match_distance.values"
   ]
  },
  {
   "cell_type": "code",
   "execution_count": 5,
   "id": "b23d9e6a",
   "metadata": {},
   "outputs": [],
   "source": [
    "train_i = []\n",
    "test_i = []\n",
    "\n",
    "train_xy = pd.read_csv('train.csv')\n",
    "train_path = train_xy['id'].values\n",
    "test_path = pd.read_csv('imagenames.csv')['id'].values\n",
    "\n",
    "for f in train_path:\n",
    "    i = cv2.imread('./train/' + f + '.jpg')\n",
    "    train_i.append(i)\n",
    "for f in test_path:\n",
    "    i = cv2.imread('./test/' + f + '.jpg')\n",
    "    test_i.append(i)"
   ]
  },
  {
   "cell_type": "code",
   "execution_count": 7,
   "id": "15213efd",
   "metadata": {},
   "outputs": [
    {
     "data": {
      "text/plain": [
       "1200"
      ]
     },
     "execution_count": 7,
     "metadata": {},
     "output_type": "execute_result"
    }
   ],
   "source": [
    "len(test_i)"
   ]
  },
  {
   "cell_type": "code",
   "execution_count": 9,
   "id": "3a092d46",
   "metadata": {},
   "outputs": [
    {
     "name": "stderr",
     "output_type": "stream",
     "text": [
      "1200it [02:23,  8.37it/s]\n"
     ]
    }
   ],
   "source": [
    "sift = cv2.SIFT_create()\n",
    "\n",
    "\n",
    "for i,img in tqdm(enumerate(test_i)):\n",
    "    _, des = sift.detectAndCompute(img,None)\n",
    "    f = open(f'./test_kp1/test_kp{test_path[i]}.pckl','wb')\n",
    "    pickle.dump(des,f)\n",
    "    f.close()\n"
   ]
  },
  {
   "cell_type": "code",
   "execution_count": 25,
   "id": "03ddcb51",
   "metadata": {},
   "outputs": [
    {
     "name": "stderr",
     "output_type": "stream",
     "text": [
      "100%|██████████████████████████████████████████████████████████████████████████████| 1200/1200 [09:23<00:00,  2.13it/s]\n"
     ]
    }
   ],
   "source": [
    "FLANN_INDEX_KDTREE = 1\n",
    "index_params = dict(algorithm = FLANN_INDEX_KDTREE, trees = 5)\n",
    "search_params = dict(checks=50)\n",
    "flann = cv2.FlannBasedMatcher(index_params,search_params)\n",
    "\n",
    "i = 0\n",
    "match=[]\n",
    "for test in tqdm(test_path):\n",
    "\n",
    "    f = open(f'./test_kp1/test_kp{test}.pckl', 'rb')\n",
    "    des_test = pickle.load(f)\n",
    "    f.close()\n",
    "\n",
    "    goods = []\n",
    "    current_good = 0\n",
    "\n",
    "    if des_test is None or len(des_test) < 2:\n",
    "        match.append((test,resnet50_match_filename.loc[i][0],resnet50_match_filename.loc[i][1],resnet50_match_filename.loc[i][2]))\n",
    "        continue\n",
    "\n",
    "    for train in resnet50_match_filename.loc[i][:10]:\n",
    "        f = open(f'./train_kp/train_kp{train}.pckl', 'rb')\n",
    "        des_train = pickle.load(f)\n",
    "        f.close()\n",
    "\n",
    "        # Matching descriptor using KNN algorithm\n",
    "        if des_train is None or len(des_train) < 2:\n",
    "            goods.append(-1)\n",
    "            continue\n",
    "        matches = flann.knnMatch(des_test,des_train,k=2)\n",
    "\n",
    "        # Store all good matches as per Lowe's Ratio test.\n",
    "        good = len([m for m,n in matches if m.distance < 0.7*n.distance])\n",
    "        goods.append(good)\n",
    "    \n",
    "    sorted_idx = np.argsort(goods)\n",
    "    sorted_path = [resnet50_match_filename.loc[i][idx] for idx in sorted_idx]\n",
    "    sorted_goods = [goods[idx] for idx in sorted_idx]\n",
    "    \n",
    "#     print(i)\n",
    "#     print(sorted_goods)\n",
    "#     print(sorted_idx)\n",
    "#     print(sorted_path)\n",
    "    match.append((test,sorted_path[-1],sorted_path[-2],sorted_path[-3]))\n",
    "    i +=1\n",
    "    "
   ]
  },
  {
   "cell_type": "code",
   "execution_count": 54,
   "id": "91565466",
   "metadata": {},
   "outputs": [],
   "source": [
    "out = []\n",
    "for img in no_match:\n",
    "    index = np.argwhere(test_path==img)[0][0]\n",
    "    resnet50_match_filename.loc[index][:3]\n",
    "    coor = [train_xy[train_xy['id'] == filename] for filename in resnet50_match_filename.loc[index][:3]]\n",
    "    result = pd.concat(coor)\n",
    "    out.append([img, np.mean(result['x']), np.mean(result['y'])])"
   ]
  },
  {
   "cell_type": "code",
   "execution_count": 26,
   "id": "700696cc",
   "metadata": {},
   "outputs": [],
   "source": [
    "out = []\n",
    "for i in range(len(match)):\n",
    "    coor = [train_xy[train_xy['id']== match[i][k]] for k in [1,2,3]]\n",
    "    result = pd.concat(coor)\n",
    "    out.append([match[i][0],np.mean(result['x']),np.mean(result['y'])])\n",
    "out_csv = pd.DataFrame(out, columns=['id','x','y'])\n",
    "out_csv.to_csv('resnet50_sift_top1_20_out.csv',index=False)"
   ]
  },
  {
   "cell_type": "code",
   "execution_count": null,
   "id": "e2db61e1",
   "metadata": {},
   "outputs": [],
   "source": []
  }
 ],
 "metadata": {
  "kernelspec": {
   "display_name": "Python 3 (ipykernel)",
   "language": "python",
   "name": "python3"
  },
  "language_info": {
   "codemirror_mode": {
    "name": "ipython",
    "version": 3
   },
   "file_extension": ".py",
   "mimetype": "text/x-python",
   "name": "python",
   "nbconvert_exporter": "python",
   "pygments_lexer": "ipython3",
   "version": "3.7.11"
  }
 },
 "nbformat": 4,
 "nbformat_minor": 5
}
