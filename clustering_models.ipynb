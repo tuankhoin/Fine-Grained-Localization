{
 "cells": [
  {
   "cell_type": "markdown",
   "metadata": {},
   "source": [
    "# Basic implmentation of Clustered Online Cumulative K-Means (CLOCK)"
   ]
  },
  {
   "cell_type": "code",
   "execution_count": 1,
   "metadata": {},
   "outputs": [],
   "source": [
    "import numpy as np\n",
    "import pandas as pd\n",
    "import matplotlib.pyplot as plt\n",
    "import pickle\n",
    "from tqdm import tqdm\n",
    "import cv2"
   ]
  },
  {
   "cell_type": "markdown",
   "metadata": {},
   "source": [
    "## Importing data"
   ]
  },
  {
   "cell_type": "code",
   "execution_count": 2,
   "metadata": {},
   "outputs": [],
   "source": [
    "# CNN feature matches\n",
    "dist = pd.read_csv('./resnet101_matches_distance.csv').values\n",
    "fname = pd.read_csv('./resnet101_matches_filename.csv').values\n",
    "# SIFT matches\n",
    "good = pd.read_csv('./sift_matches_distance.csv').values\n",
    "fgood = pd.read_csv('./sift_matches_filename.csv').values"
   ]
  },
  {
   "cell_type": "code",
   "execution_count": 3,
   "metadata": {},
   "outputs": [],
   "source": [
    "# Train dataset\n",
    "train_xy = pd.read_csv('train.csv', index_col=0)\n",
    "test_path = pd.read_csv('imagenames.csv')['id'].values"
   ]
  },
  {
   "cell_type": "markdown",
   "metadata": {},
   "source": [
    "# Running the models"
   ]
  },
  {
   "cell_type": "markdown",
   "metadata": {},
   "source": [
    "## Main functions"
   ]
  },
  {
   "cell_type": "code",
   "execution_count": 4,
   "metadata": {},
   "outputs": [],
   "source": [
    "# Limit the candidate pictures to a limited decrease only, comparing to the top one\n",
    "extract_match = lambda i, thresh: fname[i,np.argwhere(dist[i] < dist[i,0] + thresh)]"
   ]
  },
  {
   "cell_type": "markdown",
   "metadata": {},
   "source": [
    "## Choosing the biggest cluster for each image, starting from best CNN matches onwards"
   ]
  },
  {
   "cell_type": "code",
   "execution_count": 5,
   "metadata": {},
   "outputs": [],
   "source": [
    "# Clustered Online Cumulative K-Means (CLOCK) \n",
    "from kmeans import onl_kmeans"
   ]
  },
  {
   "cell_type": "markdown",
   "metadata": {},
   "source": [
    "## Running the algorithm, and export the results"
   ]
  },
  {
   "cell_type": "code",
   "execution_count": 6,
   "metadata": {},
   "outputs": [
    {
     "name": "stderr",
     "output_type": "stream",
     "text": [
      "100%|████████████████████████████████████████████████████████████████████████████| 1200/1200 [00:00<00:00, 1238.40it/s]\n"
     ]
    }
   ],
   "source": [
    "# Processing parameters\n",
    "threshold = 5\n",
    "max_clusters = 5\n",
    "max_radius = 8\n",
    "min_size = 2\n",
    "\n",
    "locs = []\n",
    "fnames = []\n",
    "centroids = []\n",
    "for i,_ in enumerate(tqdm(test_path)):\n",
    "    img_idx = extract_match(i,threshold).flatten()\n",
    "    coords = train_xy.loc[img_idx].values\n",
    "    loc, f, centroid = onl_kmeans(coords, img_idx, max_clusters, max_radius, min_size)\n",
    "    locs.append(loc)\n",
    "    fnames.append(f)\n",
    "    centroids.append(centroid)"
   ]
  },
  {
   "cell_type": "code",
   "execution_count": 7,
   "metadata": {},
   "outputs": [],
   "source": [
    "# If export cluster image specs for SIFT, run this\n",
    "f = open(f'./kmeans_coords.pckl','wb')\n",
    "pickle.dump(locs,f)\n",
    "f.close()\n",
    "\n",
    "f = open(f'./fnames_coords.pckl','wb')\n",
    "pickle.dump(fnames,f)\n",
    "f.close()"
   ]
  },
  {
   "cell_type": "code",
   "execution_count": 8,
   "metadata": {},
   "outputs": [],
   "source": [
    "# If taking centroid as output, run this\n",
    "out = pd.DataFrame(centroids,index=test_path)\n",
    "out.to_csv('CLOCK_5_5_8_2.csv',index_label='id',header=['x','y'])"
   ]
  },
  {
   "cell_type": "markdown",
   "metadata": {},
   "source": [
    "## Partial SIFT Implementation: Only match on large enough clusters"
   ]
  },
  {
   "cell_type": "code",
   "execution_count": 9,
   "metadata": {},
   "outputs": [],
   "source": [
    "# Processing\n",
    "threshold = 5\n",
    "max_clusters = 5\n",
    "max_radius = 7\n",
    "min_size = 3\n",
    "\n",
    "def Partial_SIFT(threshold,max_clusters,max_radius,min_size):\n",
    "    # FLANN specs\n",
    "    FLANN_INDEX_KDTREE = 1\n",
    "    index_params = dict(algorithm = FLANN_INDEX_KDTREE, trees = 5)\n",
    "    search_params = dict(checks=50)\n",
    "    flann = cv2.FlannBasedMatcher(index_params,search_params)\n",
    "\n",
    "    centroids = []\n",
    "    for i,test in enumerate(tqdm(test_path)):\n",
    "        img_idx = extract_match(i,threshold).flatten()\n",
    "        coords = train_xy.loc[img_idx].values\n",
    "        _, _, centroid = onl_kmeans(coords, img_idx, max_clusters, max_radius, min_size)\n",
    "        if centroid is None:\n",
    "            with open(f'./test_kp/test_kp{test}.pckl', 'rb') as test_sift_file:\n",
    "                des_test = pickle.load(test_sift_file)\n",
    "            goods = []\n",
    "\n",
    "            for train in img_idx:\n",
    "                with open(f'./train_kp/train_kp{train}.pckl', 'rb') as train_sift_file:\n",
    "                    des_train = pickle.load(train_sift_file)\n",
    "\n",
    "                # Matching descriptor using KNN algorithm\n",
    "                if des_train is None or len(des_train) < 2:\n",
    "                    goods.append(-1)\n",
    "                    continue\n",
    "                matches = flann.knnMatch(des_test,des_train,k=2)\n",
    "\n",
    "                # Store all good matches as per Lowe's Ratio test.\n",
    "                good = len([m for m,n in matches if m.distance < 0.7*n.distance])\n",
    "                goods.append(good)\n",
    "\n",
    "            max_idx = np.argmax(goods)\n",
    "            centroids.append(train_xy.loc[img_idx[max_idx]].values)\n",
    "        else:\n",
    "            centroids.append(centroid)\n",
    "    return centroids"
   ]
  },
  {
   "cell_type": "code",
   "execution_count": 10,
   "metadata": {},
   "outputs": [
    {
     "name": "stderr",
     "output_type": "stream",
     "text": [
      "100%|████████████████████████████████████████████████████████████████████████████| 1200/1200 [00:01<00:00, 1165.15it/s]\n"
     ]
    }
   ],
   "source": [
    "centroids = Partial_SIFT(5,5,7,3)\n",
    "\n",
    "out = pd.DataFrame(centroids,index=test_path)\n",
    "out.to_csv('CLOCK_bigger_cluster.csv',index_label='id',header=['x','y'])"
   ]
  },
  {
   "cell_type": "markdown",
   "metadata": {},
   "source": [
    "## SIFT implementation: Do feature matching on all CNN candidated pools, choose best matching image"
   ]
  },
  {
   "cell_type": "code",
   "execution_count": 12,
   "metadata": {},
   "outputs": [],
   "source": [
    "# CLOCK params for images with few features\n",
    "MIN_MATCHES = 5\n",
    "threshold = 5\n",
    "max_clusters = 5\n",
    "max_radius = 7\n",
    "min_size = 1\n",
    "\n",
    "def CLOCK_CNN_SIFT(MIN_MATCHES,threshold,max_clusters,max_radius,min_size):\n",
    "    # FLANN specs\n",
    "    FLANN_INDEX_KDTREE = 1\n",
    "    index_params = dict(algorithm = FLANN_INDEX_KDTREE, trees = 5)\n",
    "    search_params = dict(checks=50)\n",
    "    flann = cv2.FlannBasedMatcher(index_params,search_params)\n",
    "\n",
    "    centroids = []\n",
    "    for i,test in enumerate(tqdm(test_path)):\n",
    "        img_idx = extract_match(i,threshold).flatten()\n",
    "\n",
    "        with open(f'./test_kp/test_kp{test}.pckl', 'rb') as test_sift_file:\n",
    "            des_test = pickle.load(test_sift_file)\n",
    "        goods = []\n",
    "\n",
    "        # Weak finding: Do CLOCK instead\n",
    "        if des_test is None or len(des_test) < MIN_MATCHES:\n",
    "            coords = train_xy.loc[img_idx].values\n",
    "            _, _, centroid = onl_kmeans(coords, img_idx, max_clusters, max_radius, min_size)\n",
    "            centroids.append(centroid)\n",
    "            continue\n",
    "\n",
    "        for train in img_idx:\n",
    "            with open(f'./train_kp/train_kp{train}.pckl', 'rb') as train_sift_file:\n",
    "                des_train = pickle.load(train_sift_file)\n",
    "\n",
    "            # Matching descriptor using KNN algorithm\n",
    "            if des_train is None or len(des_train) < 2:\n",
    "                goods.append(-1)\n",
    "                continue\n",
    "            matches = flann.knnMatch(des_test,des_train,k=2)\n",
    "\n",
    "            # Store all good matches as per Lowe's Ratio test.\n",
    "            good = len([m for m,n in matches if m.distance < 0.7*n.distance])\n",
    "            goods.append(good)\n",
    "\n",
    "        max_idx = np.argmax(goods)\n",
    "        centroids.append(train_xy.loc[img_idx[max_idx]].values)"
   ]
  },
  {
   "cell_type": "code",
   "execution_count": null,
   "metadata": {},
   "outputs": [],
   "source": [
    "centroids =  CLOCK_CNN_SIFT(5,5,5,7,1)\n",
    "out = pd.DataFrame(centroids,index=test_path)\n",
    "out.to_csv('CLOCK_CNN_SIFT.csv',index_label='id',header=['x','y'])"
   ]
  },
  {
   "cell_type": "markdown",
   "metadata": {},
   "source": [
    "# Adding histogram matching as a new criteria"
   ]
  },
  {
   "cell_type": "code",
   "execution_count": 14,
   "metadata": {},
   "outputs": [],
   "source": [
    "from kmeans import hist_onl_kmeans"
   ]
  },
  {
   "cell_type": "markdown",
   "metadata": {},
   "source": [
    "## Exhaustive SIFT implmentation: Do feature matching on CNN candidate pool, then do clustering to odd out outliers"
   ]
  },
  {
   "cell_type": "code",
   "execution_count": 15,
   "metadata": {},
   "outputs": [],
   "source": [
    "# CLOCK params for images with few features\n",
    "MIN_MATCHES = 5\n",
    "threshold = 5\n",
    "max_clusters = 3\n",
    "max_radius = 12\n",
    "min_size = 1\n",
    "max_match_keep = 0.3\n",
    "\n",
    "def CLOCK_CNN_SIFT_cluster(MIN_MATCHES,threshold,max_clusters,max_radius,min_size,max_match_keep):\n",
    "    # FLANN specs\n",
    "    FLANN_INDEX_KDTREE = 1\n",
    "    index_params = dict(algorithm = FLANN_INDEX_KDTREE, trees = 5)\n",
    "    search_params = dict(checks=50)\n",
    "    flann = cv2.FlannBasedMatcher(index_params,search_params)\n",
    "\n",
    "    centroids = []\n",
    "    for i,test in enumerate(tqdm(test_path)):\n",
    "        # Histogram calculation\n",
    "        test_img = cv2.imread('./test/' + test + '.jpg')\n",
    "        t_hist = cv2.calcHist([test_img],[0],None,[256],[0,256])\n",
    "\n",
    "        img_idx = extract_match(i,threshold).flatten()\n",
    "\n",
    "        sift_fname = fgood[i,:]\n",
    "        sift_match = good[i,:]\n",
    "\n",
    "        # Weak finding: Do CLOCK instead\n",
    "        if sift_fname[0] is np.nan:\n",
    "            coords = train_xy.loc[img_idx].values\n",
    "            _, _, centroid = hist_onl_kmeans(coords, t_hist, img_idx, \n",
    "                                             threshold, max_radius, min_size)\n",
    "            centroids.append(centroid)\n",
    "            continue\n",
    "\n",
    "        # Get all cnn indices in order of best SIFT matches\n",
    "        matchings = []\n",
    "        good_m = []\n",
    "        for match_idx,m in enumerate(sift_fname):\n",
    "            if m in img_idx:\n",
    "                matchings.append(m)\n",
    "                good_m.append(sift_match[match_idx])\n",
    "\n",
    "        # Once again do thresholding\n",
    "        good_match = [m for idx,m in enumerate(matchings) \n",
    "                      if good_m[idx] > good_m[0]*max_match_keep]\n",
    "\n",
    "        # Weak finding: Do CLOCK instead\n",
    "        if good_m[0] < MIN_MATCHES:\n",
    "            coords = train_xy.loc[img_idx].values\n",
    "            _, _, centroid = hist_onl_kmeans(coords, t_hist, img_idx, \n",
    "                                             threshold, max_radius, min_size)\n",
    "            centroids.append(centroid)\n",
    "            continue\n",
    "\n",
    "        coords = train_xy.loc[good_match].values\n",
    "        _, _, centroid = hist_onl_kmeans(coords, t_hist, good_match, \n",
    "                                         max_clusters, max_radius, min_size)\n",
    "\n",
    "        centroids.append(centroid)"
   ]
  },
  {
   "cell_type": "code",
   "execution_count": 16,
   "metadata": {},
   "outputs": [
    {
     "name": "stderr",
     "output_type": "stream",
     "text": [
      "  4%|███▎                                                                            | 49/1200 [00:04<01:57,  9.82it/s]D:\\Anaconda\\envs\\CV\\lib\\site-packages\\ipykernel_launcher.py:39: FutureWarning: elementwise comparison failed; returning scalar instead, but in the future will perform elementwise comparison\n",
      " 13%|██████████▌                                                                    | 160/1200 [00:15<01:42, 10.18it/s]\n"
     ]
    },
    {
     "ename": "KeyboardInterrupt",
     "evalue": "",
     "output_type": "error",
     "traceback": [
      "\u001b[1;31m---------------------------------------------------------------------------\u001b[0m",
      "\u001b[1;31mKeyboardInterrupt\u001b[0m                         Traceback (most recent call last)",
      "\u001b[1;32m~\\AppData\\Local\\Temp/ipykernel_7756/3804433519.py\u001b[0m in \u001b[0;36m<module>\u001b[1;34m\u001b[0m\n\u001b[1;32m----> 1\u001b[1;33m \u001b[0mcentroids\u001b[0m \u001b[1;33m=\u001b[0m \u001b[0mCLOCK_CNN_SIFT_cluster\u001b[0m\u001b[1;33m(\u001b[0m\u001b[1;36m5\u001b[0m\u001b[1;33m,\u001b[0m\u001b[1;36m5\u001b[0m\u001b[1;33m,\u001b[0m\u001b[1;36m3\u001b[0m\u001b[1;33m,\u001b[0m\u001b[1;36m12\u001b[0m\u001b[1;33m,\u001b[0m\u001b[1;36m1\u001b[0m\u001b[1;33m,\u001b[0m\u001b[1;36m0.3\u001b[0m\u001b[1;33m)\u001b[0m\u001b[1;33m\u001b[0m\u001b[1;33m\u001b[0m\u001b[0m\n\u001b[0m\u001b[0;32m      2\u001b[0m \u001b[0mout\u001b[0m \u001b[1;33m=\u001b[0m \u001b[0mpd\u001b[0m\u001b[1;33m.\u001b[0m\u001b[0mDataFrame\u001b[0m\u001b[1;33m(\u001b[0m\u001b[0mcentroids\u001b[0m\u001b[1;33m,\u001b[0m\u001b[0mindex\u001b[0m\u001b[1;33m=\u001b[0m\u001b[0mtest_path\u001b[0m\u001b[1;33m)\u001b[0m\u001b[1;33m\u001b[0m\u001b[1;33m\u001b[0m\u001b[0m\n\u001b[0;32m      3\u001b[0m \u001b[0mout\u001b[0m\u001b[1;33m.\u001b[0m\u001b[0mto_csv\u001b[0m\u001b[1;33m(\u001b[0m\u001b[1;34m'CLOCK_CNN_SIFT_cluster.csv'\u001b[0m\u001b[1;33m,\u001b[0m\u001b[0mindex_label\u001b[0m\u001b[1;33m=\u001b[0m\u001b[1;34m'id'\u001b[0m\u001b[1;33m,\u001b[0m\u001b[0mheader\u001b[0m\u001b[1;33m=\u001b[0m\u001b[1;33m[\u001b[0m\u001b[1;34m'x'\u001b[0m\u001b[1;33m,\u001b[0m\u001b[1;34m'y'\u001b[0m\u001b[1;33m]\u001b[0m\u001b[1;33m)\u001b[0m\u001b[1;33m\u001b[0m\u001b[1;33m\u001b[0m\u001b[0m\n",
      "\u001b[1;32m~\\AppData\\Local\\Temp/ipykernel_7756/1698663204.py\u001b[0m in \u001b[0;36mCLOCK_CNN_SIFT_cluster\u001b[1;34m(MIN_MATCHES, threshold, max_clusters, max_radius, min_size, max_match_keep)\u001b[0m\n\u001b[0;32m     17\u001b[0m     \u001b[1;32mfor\u001b[0m \u001b[0mi\u001b[0m\u001b[1;33m,\u001b[0m\u001b[0mtest\u001b[0m \u001b[1;32min\u001b[0m \u001b[0menumerate\u001b[0m\u001b[1;33m(\u001b[0m\u001b[0mtqdm\u001b[0m\u001b[1;33m(\u001b[0m\u001b[0mtest_path\u001b[0m\u001b[1;33m)\u001b[0m\u001b[1;33m)\u001b[0m\u001b[1;33m:\u001b[0m\u001b[1;33m\u001b[0m\u001b[1;33m\u001b[0m\u001b[0m\n\u001b[0;32m     18\u001b[0m         \u001b[1;31m# Histogram calculation\u001b[0m\u001b[1;33m\u001b[0m\u001b[1;33m\u001b[0m\u001b[1;33m\u001b[0m\u001b[0m\n\u001b[1;32m---> 19\u001b[1;33m         \u001b[0mtest_img\u001b[0m \u001b[1;33m=\u001b[0m \u001b[0mcv2\u001b[0m\u001b[1;33m.\u001b[0m\u001b[0mimread\u001b[0m\u001b[1;33m(\u001b[0m\u001b[1;34m'./test/'\u001b[0m \u001b[1;33m+\u001b[0m \u001b[0mtest\u001b[0m \u001b[1;33m+\u001b[0m \u001b[1;34m'.jpg'\u001b[0m\u001b[1;33m)\u001b[0m\u001b[1;33m\u001b[0m\u001b[1;33m\u001b[0m\u001b[0m\n\u001b[0m\u001b[0;32m     20\u001b[0m         \u001b[0mt_hist\u001b[0m \u001b[1;33m=\u001b[0m \u001b[0mcv2\u001b[0m\u001b[1;33m.\u001b[0m\u001b[0mcalcHist\u001b[0m\u001b[1;33m(\u001b[0m\u001b[1;33m[\u001b[0m\u001b[0mtest_img\u001b[0m\u001b[1;33m]\u001b[0m\u001b[1;33m,\u001b[0m\u001b[1;33m[\u001b[0m\u001b[1;36m0\u001b[0m\u001b[1;33m]\u001b[0m\u001b[1;33m,\u001b[0m\u001b[1;32mNone\u001b[0m\u001b[1;33m,\u001b[0m\u001b[1;33m[\u001b[0m\u001b[1;36m256\u001b[0m\u001b[1;33m]\u001b[0m\u001b[1;33m,\u001b[0m\u001b[1;33m[\u001b[0m\u001b[1;36m0\u001b[0m\u001b[1;33m,\u001b[0m\u001b[1;36m256\u001b[0m\u001b[1;33m]\u001b[0m\u001b[1;33m)\u001b[0m\u001b[1;33m\u001b[0m\u001b[1;33m\u001b[0m\u001b[0m\n\u001b[0;32m     21\u001b[0m \u001b[1;33m\u001b[0m\u001b[0m\n",
      "\u001b[1;31mKeyboardInterrupt\u001b[0m: "
     ]
    }
   ],
   "source": [
    "centroids = CLOCK_CNN_SIFT_cluster(5,5,3,12,1,0.3)\n",
    "out = pd.DataFrame(centroids,index=test_path)\n",
    "out.to_csv('CLOCK_CNN_SIFT_cluster.csv',index_label='id',header=['x','y'])"
   ]
  },
  {
   "cell_type": "markdown",
   "metadata": {},
   "source": [
    "## Exhaustive SIFT, vote between: \n",
    "- cluster with best match\n",
    "- biggest cluster\n",
    "- cluster with most similar color spectrum"
   ]
  },
  {
   "cell_type": "code",
   "execution_count": 17,
   "metadata": {},
   "outputs": [],
   "source": [
    "# CLOCK params for images with few features\n",
    "MIN_MATCHES = 5\n",
    "threshold = 5\n",
    "max_clusters = 5\n",
    "max_radius = 15\n",
    "min_size = 1\n",
    "max_match_keep = 0.4\n",
    "\n",
    "def CLOCK_voting(MIN_MATCHES,threshold,max_clusters,max_radius,min_size,max_match_keep):\n",
    "    # FLANN specs\n",
    "    FLANN_INDEX_KDTREE = 1\n",
    "    index_params = dict(algorithm = FLANN_INDEX_KDTREE, trees = 5)\n",
    "    search_params = dict(checks=50)\n",
    "    flann = cv2.FlannBasedMatcher(index_params,search_params)\n",
    "\n",
    "    centroids = []\n",
    "    for i,test in enumerate(tqdm(test_path)):\n",
    "        # Histogram calculation\n",
    "        test_img = cv2.imread('./test/' + test + '.jpg')\n",
    "        t_hist = cv2.calcHist([test_img],[0],None,[256],[0,256])\n",
    "\n",
    "        img_idx = extract_match(i,threshold).flatten()\n",
    "\n",
    "        sift_fname = fgood[i,:]\n",
    "        sift_match = good[i,:]\n",
    "\n",
    "        # Weak finding: Just get the most similar color\n",
    "        if sift_fname[0] is np.nan:\n",
    "            coords = train_xy.loc[img_idx].values\n",
    "            _, _, centroid = hist_onl_kmeans(coords, t_hist, img_idx, -1, \n",
    "                                             max_radius, min_size, \n",
    "                                             take_best_hist=True)\n",
    "            centroids.append(centroid)\n",
    "            continue\n",
    "\n",
    "        # Get all cnn indices in order of best SIFT matches\n",
    "        matchings = []\n",
    "        good_m = []\n",
    "        for match_idx,m in enumerate(sift_fname):\n",
    "            if m in img_idx:\n",
    "                matchings.append(m)\n",
    "                good_m.append(sift_match[match_idx])\n",
    "\n",
    "        # Once again do thresholding\n",
    "        good_match = [m for idx,m in enumerate(matchings) \n",
    "                      if good_m[idx] > good_m[0]*max_match_keep]\n",
    "\n",
    "        # Weak finding: Just get the most similar color\n",
    "        if good_m[0] < MIN_MATCHES:\n",
    "            coords = train_xy.loc[img_idx].values\n",
    "            _, _, centroid = hist_onl_kmeans(coords, t_hist, img_idx, -1, \n",
    "                                             max_radius, min_size, \n",
    "                                             take_best_hist=True)\n",
    "            centroids.append(centroid)\n",
    "            continue\n",
    "\n",
    "        coords = train_xy.loc[good_match].values\n",
    "        _, _, centroid = hist_onl_kmeans(coords, t_hist, good_match, max_clusters, \n",
    "                                         max_radius, min_size)\n",
    "\n",
    "        centroids.append(centroid)"
   ]
  },
  {
   "cell_type": "code",
   "execution_count": 18,
   "metadata": {},
   "outputs": [
    {
     "name": "stderr",
     "output_type": "stream",
     "text": [
      "  2%|██                                                                              | 30/1200 [00:02<01:28, 13.19it/s]\n"
     ]
    },
    {
     "ename": "KeyboardInterrupt",
     "evalue": "",
     "output_type": "error",
     "traceback": [
      "\u001b[1;31m---------------------------------------------------------------------------\u001b[0m",
      "\u001b[1;31mKeyboardInterrupt\u001b[0m                         Traceback (most recent call last)",
      "\u001b[1;32m~\\AppData\\Local\\Temp/ipykernel_7756/3618764825.py\u001b[0m in \u001b[0;36m<module>\u001b[1;34m\u001b[0m\n\u001b[1;32m----> 1\u001b[1;33m \u001b[0mcentroids\u001b[0m \u001b[1;33m=\u001b[0m \u001b[0mCLOCK_voting\u001b[0m\u001b[1;33m(\u001b[0m\u001b[1;36m5\u001b[0m\u001b[1;33m,\u001b[0m\u001b[1;36m5\u001b[0m\u001b[1;33m,\u001b[0m\u001b[1;36m5\u001b[0m\u001b[1;33m,\u001b[0m\u001b[1;36m15\u001b[0m\u001b[1;33m,\u001b[0m\u001b[1;36m1\u001b[0m\u001b[1;33m,\u001b[0m\u001b[1;36m0.4\u001b[0m\u001b[1;33m)\u001b[0m\u001b[1;33m\u001b[0m\u001b[1;33m\u001b[0m\u001b[0m\n\u001b[0m\u001b[0;32m      2\u001b[0m \u001b[0mout\u001b[0m \u001b[1;33m=\u001b[0m \u001b[0mpd\u001b[0m\u001b[1;33m.\u001b[0m\u001b[0mDataFrame\u001b[0m\u001b[1;33m(\u001b[0m\u001b[0mcentroids\u001b[0m\u001b[1;33m,\u001b[0m\u001b[0mindex\u001b[0m\u001b[1;33m=\u001b[0m\u001b[0mtest_path\u001b[0m\u001b[1;33m)\u001b[0m\u001b[1;33m\u001b[0m\u001b[1;33m\u001b[0m\u001b[0m\n\u001b[0;32m      3\u001b[0m \u001b[0mout\u001b[0m\u001b[1;33m.\u001b[0m\u001b[0mto_csv\u001b[0m\u001b[1;33m(\u001b[0m\u001b[1;34m'CLOCK_voting.csv'\u001b[0m\u001b[1;33m,\u001b[0m\u001b[0mindex_label\u001b[0m\u001b[1;33m=\u001b[0m\u001b[1;34m'id'\u001b[0m\u001b[1;33m,\u001b[0m\u001b[0mheader\u001b[0m\u001b[1;33m=\u001b[0m\u001b[1;33m[\u001b[0m\u001b[1;34m'x'\u001b[0m\u001b[1;33m,\u001b[0m\u001b[1;34m'y'\u001b[0m\u001b[1;33m]\u001b[0m\u001b[1;33m)\u001b[0m\u001b[1;33m\u001b[0m\u001b[1;33m\u001b[0m\u001b[0m\n",
      "\u001b[1;32m~\\AppData\\Local\\Temp/ipykernel_7756/1517024037.py\u001b[0m in \u001b[0;36mCLOCK_voting\u001b[1;34m(MIN_MATCHES, threshold, max_clusters, max_radius, min_size, max_match_keep)\u001b[0m\n\u001b[0;32m     51\u001b[0m             _, _, centroid = hist_onl_kmeans(coords, t_hist, img_idx, -1, \n\u001b[0;32m     52\u001b[0m                                              \u001b[0mmax_radius\u001b[0m\u001b[1;33m,\u001b[0m \u001b[0mmin_size\u001b[0m\u001b[1;33m,\u001b[0m\u001b[1;33m\u001b[0m\u001b[1;33m\u001b[0m\u001b[0m\n\u001b[1;32m---> 53\u001b[1;33m                                              take_best_hist=True)\n\u001b[0m\u001b[0;32m     54\u001b[0m             \u001b[0mcentroids\u001b[0m\u001b[1;33m.\u001b[0m\u001b[0mappend\u001b[0m\u001b[1;33m(\u001b[0m\u001b[0mcentroid\u001b[0m\u001b[1;33m)\u001b[0m\u001b[1;33m\u001b[0m\u001b[1;33m\u001b[0m\u001b[0m\n\u001b[0;32m     55\u001b[0m             \u001b[1;32mcontinue\u001b[0m\u001b[1;33m\u001b[0m\u001b[1;33m\u001b[0m\u001b[0m\n",
      "\u001b[1;32mD:\\MIT\\Computer Vision\\COMP90086-Project\\kmeans.py\u001b[0m in \u001b[0;36mhist_onl_kmeans\u001b[1;34m(data, hist, fnames, max_clusters, max_range, min_size, take_best_hist)\u001b[0m\n\u001b[0;32m    128\u001b[0m             \u001b[0mcluster_elems\u001b[0m\u001b[1;33m[\u001b[0m\u001b[0mnearest\u001b[0m\u001b[1;33m]\u001b[0m\u001b[1;33m.\u001b[0m\u001b[0mappend\u001b[0m\u001b[1;33m(\u001b[0m\u001b[0mcoord\u001b[0m\u001b[1;33m)\u001b[0m\u001b[1;33m\u001b[0m\u001b[1;33m\u001b[0m\u001b[0m\n\u001b[0;32m    129\u001b[0m             \u001b[0mcluster_filename\u001b[0m\u001b[1;33m[\u001b[0m\u001b[0mnearest\u001b[0m\u001b[1;33m]\u001b[0m\u001b[1;33m.\u001b[0m\u001b[0mappend\u001b[0m\u001b[1;33m(\u001b[0m\u001b[0mfnames\u001b[0m\u001b[1;33m[\u001b[0m\u001b[0mi\u001b[0m\u001b[1;33m]\u001b[0m\u001b[1;33m)\u001b[0m\u001b[1;33m\u001b[0m\u001b[1;33m\u001b[0m\u001b[0m\n\u001b[1;32m--> 130\u001b[1;33m             \u001b[0mcompared_hist\u001b[0m \u001b[1;33m=\u001b[0m \u001b[0mget_hist\u001b[0m\u001b[1;33m(\u001b[0m\u001b[0mfnames\u001b[0m\u001b[1;33m[\u001b[0m\u001b[0mi\u001b[0m\u001b[1;33m]\u001b[0m\u001b[1;33m)\u001b[0m\u001b[1;33m\u001b[0m\u001b[1;33m\u001b[0m\u001b[0m\n\u001b[0m\u001b[0;32m    131\u001b[0m             \u001b[1;32mif\u001b[0m \u001b[0mcompared_hist\u001b[0m \u001b[1;33m>\u001b[0m \u001b[0mcluster_hist\u001b[0m\u001b[1;33m[\u001b[0m\u001b[0mnearest\u001b[0m\u001b[1;33m]\u001b[0m\u001b[1;33m:\u001b[0m \u001b[0mcluster_hist\u001b[0m\u001b[1;33m[\u001b[0m\u001b[0mnearest\u001b[0m\u001b[1;33m]\u001b[0m \u001b[1;33m=\u001b[0m \u001b[0mcompared_hist\u001b[0m\u001b[1;33m\u001b[0m\u001b[1;33m\u001b[0m\u001b[0m\n\u001b[0;32m    132\u001b[0m             \u001b[0mcluster_count\u001b[0m\u001b[1;33m[\u001b[0m\u001b[0mnearest\u001b[0m\u001b[1;33m]\u001b[0m \u001b[1;33m+=\u001b[0m \u001b[1;36m1\u001b[0m\u001b[1;33m\u001b[0m\u001b[1;33m\u001b[0m\u001b[0m\n",
      "\u001b[1;32mD:\\MIT\\Computer Vision\\COMP90086-Project\\kmeans.py\u001b[0m in \u001b[0;36mget_hist\u001b[1;34m(fn)\u001b[0m\n\u001b[0;32m     86\u001b[0m             \u001b[0mThe\u001b[0m \u001b[0mhigher\u001b[0m \u001b[0mthe\u001b[0m \u001b[0mnumber\u001b[0m \u001b[0mof\u001b[0m \u001b[0mintersections\u001b[0m\u001b[1;33m,\u001b[0m \u001b[0mthe\u001b[0m \u001b[0mbetter\u001b[0m \u001b[0mmatch\u001b[0m\u001b[1;33m.\u001b[0m\u001b[1;33m\u001b[0m\u001b[1;33m\u001b[0m\u001b[0m\n\u001b[0;32m     87\u001b[0m         '''\n\u001b[1;32m---> 88\u001b[1;33m         \u001b[0mcurr_img\u001b[0m \u001b[1;33m=\u001b[0m \u001b[0mcv2\u001b[0m\u001b[1;33m.\u001b[0m\u001b[0mimread\u001b[0m\u001b[1;33m(\u001b[0m\u001b[1;34m'./train/'\u001b[0m \u001b[1;33m+\u001b[0m \u001b[0mfn\u001b[0m \u001b[1;33m+\u001b[0m \u001b[1;34m'.jpg'\u001b[0m\u001b[1;33m)\u001b[0m\u001b[1;33m\u001b[0m\u001b[1;33m\u001b[0m\u001b[0m\n\u001b[0m\u001b[0;32m     89\u001b[0m         \u001b[0md_hist\u001b[0m \u001b[1;33m=\u001b[0m \u001b[0mcv2\u001b[0m\u001b[1;33m.\u001b[0m\u001b[0mcalcHist\u001b[0m\u001b[1;33m(\u001b[0m\u001b[1;33m[\u001b[0m\u001b[0mcurr_img\u001b[0m\u001b[1;33m]\u001b[0m\u001b[1;33m,\u001b[0m\u001b[1;33m[\u001b[0m\u001b[1;36m0\u001b[0m\u001b[1;33m]\u001b[0m\u001b[1;33m,\u001b[0m\u001b[1;32mNone\u001b[0m\u001b[1;33m,\u001b[0m\u001b[1;33m[\u001b[0m\u001b[1;36m256\u001b[0m\u001b[1;33m]\u001b[0m\u001b[1;33m,\u001b[0m\u001b[1;33m[\u001b[0m\u001b[1;36m0\u001b[0m\u001b[1;33m,\u001b[0m\u001b[1;36m256\u001b[0m\u001b[1;33m]\u001b[0m\u001b[1;33m)\u001b[0m\u001b[1;33m\u001b[0m\u001b[1;33m\u001b[0m\u001b[0m\n\u001b[0;32m     90\u001b[0m         \u001b[1;32mreturn\u001b[0m \u001b[0mcv2\u001b[0m\u001b[1;33m.\u001b[0m\u001b[0mcompareHist\u001b[0m\u001b[1;33m(\u001b[0m\u001b[0mhist\u001b[0m\u001b[1;33m,\u001b[0m\u001b[0md_hist\u001b[0m\u001b[1;33m,\u001b[0m\u001b[0mcv2\u001b[0m\u001b[1;33m.\u001b[0m\u001b[0mHISTCMP_INTERSECT\u001b[0m\u001b[1;33m)\u001b[0m\u001b[1;33m\u001b[0m\u001b[1;33m\u001b[0m\u001b[0m\n",
      "\u001b[1;31mKeyboardInterrupt\u001b[0m: "
     ]
    }
   ],
   "source": [
    "centroids = CLOCK_voting(5,5,5,15,1,0.4)\n",
    "out = pd.DataFrame(centroids,index=test_path)\n",
    "out.to_csv('CLOCK_voting.csv',index_label='id',header=['x','y'])"
   ]
  },
  {
   "cell_type": "markdown",
   "metadata": {},
   "source": [
    "# Adding SIFT space calculation to try and get a more precise location"
   ]
  },
  {
   "cell_type": "code",
   "execution_count": 19,
   "metadata": {},
   "outputs": [],
   "source": [
    "from kmeans import displacement_calculation\n",
    "\n",
    "# Getting the camera intrinsic matrix\n",
    "FOV_X = 73.3*np.pi/180\n",
    "FOV_Y = 53.1*np.pi/180\n",
    "\n",
    "cx = 680/2\n",
    "cy = 490/2\n",
    "\n",
    "fx = cx/np.tan(FOV_X/2)\n",
    "fy = cy/np.tan(FOV_Y/2)\n",
    "\n",
    "K = np.array([[fx,0,cx],\n",
    "              [0,fy,cy],\n",
    "              [0,0,1]])"
   ]
  },
  {
   "cell_type": "code",
   "execution_count": 21,
   "metadata": {},
   "outputs": [],
   "source": [
    "# CLOCK params for images with few features\n",
    "MIN_MATCHES = 5\n",
    "threshold = 5\n",
    "max_clusters = 5\n",
    "max_radius = 15\n",
    "min_size = 1\n",
    "max_match_keep = 0.4\n",
    "ratio = 0.6\n",
    "max_range = 10\n",
    "\n",
    "def SIFT_transform(MIN_MATCHES,threshold,max_clusters,max_radius,min_size,max_match_keep,ratio,max_range):\n",
    "    centroids = []\n",
    "    for i,test in enumerate(tqdm(test_path)):\n",
    "        test_img = cv2.imread('./test/' + test + '.jpg')\n",
    "        t_hist = cv2.calcHist([test_img],[0],None,[256],[0,256])\n",
    "\n",
    "        img_idx = extract_match(i,threshold).flatten()\n",
    "\n",
    "        sift_fname = fgood[i,:]\n",
    "        sift_match = good[i,:]\n",
    "\n",
    "        # Weak finding: Just get the most similar color\n",
    "        if sift_fname[0] is np.nan:\n",
    "            coords = train_xy.loc[img_idx].values\n",
    "            _, _, centroid = hist_onl_kmeans(coords, t_hist, img_idx, -1, \n",
    "                                             max_radius, min_size, \n",
    "                                             take_best_hist=True)\n",
    "            centroids.append(centroid)\n",
    "            continue\n",
    "\n",
    "        # Basically get all cnn indices in order of best SIFT matches\n",
    "        matchings = []\n",
    "        good_m = []\n",
    "        for match_idx,m in enumerate(sift_fname):\n",
    "            if m in img_idx:\n",
    "                matchings.append(m)\n",
    "                good_m.append(sift_match[match_idx])\n",
    "        # Once again do thresholding\n",
    "        good_match = [m for idx,m in enumerate(matchings) \n",
    "                      if good_m[idx] > good_m[0]*max_match_keep]\n",
    "\n",
    "        # Weak finding: Just get the most similar color\n",
    "        if good_m[0] < MIN_MATCHES:\n",
    "            coords = train_xy.loc[img_idx].values\n",
    "            _, _, centroid = hist_onl_kmeans(coords, t_hist, img_idx, -1, \n",
    "                                             max_radius, min_size, \n",
    "                                             take_best_hist=True)\n",
    "            centroids.append(centroid)\n",
    "            continue\n",
    "\n",
    "        coords = train_xy.loc[good_match].values\n",
    "        locs, fnames, centroid = hist_onl_kmeans(coords, t_hist, \n",
    "                                                 good_match, max_clusters, \n",
    "                                                 max_radius, min_size)\n",
    "        final_loc = displacement_calculation(test_img, centroid, locs, \n",
    "                                             fnames, K, ratio, max_range)\n",
    "        centroids.append(final_loc)"
   ]
  },
  {
   "cell_type": "code",
   "execution_count": 22,
   "metadata": {},
   "outputs": [
    {
     "name": "stderr",
     "output_type": "stream",
     "text": [
      "  0%|▎                                                                                | 4/1200 [00:03<18:53,  1.06it/s]\n"
     ]
    },
    {
     "ename": "KeyboardInterrupt",
     "evalue": "",
     "output_type": "error",
     "traceback": [
      "\u001b[1;31m---------------------------------------------------------------------------\u001b[0m",
      "\u001b[1;31mKeyboardInterrupt\u001b[0m                         Traceback (most recent call last)",
      "\u001b[1;32m~\\AppData\\Local\\Temp/ipykernel_7756/2937436022.py\u001b[0m in \u001b[0;36m<module>\u001b[1;34m\u001b[0m\n\u001b[1;32m----> 1\u001b[1;33m \u001b[0mcentroid\u001b[0m \u001b[1;33m=\u001b[0m \u001b[0mSIFT_transform\u001b[0m\u001b[1;33m(\u001b[0m\u001b[1;36m5\u001b[0m\u001b[1;33m,\u001b[0m\u001b[1;36m5\u001b[0m\u001b[1;33m,\u001b[0m\u001b[1;36m5\u001b[0m\u001b[1;33m,\u001b[0m\u001b[1;36m15\u001b[0m\u001b[1;33m,\u001b[0m\u001b[1;36m1\u001b[0m\u001b[1;33m,\u001b[0m\u001b[1;36m0.4\u001b[0m\u001b[1;33m,\u001b[0m\u001b[1;36m0.6\u001b[0m\u001b[1;33m,\u001b[0m\u001b[1;36m10\u001b[0m\u001b[1;33m)\u001b[0m\u001b[1;33m\u001b[0m\u001b[1;33m\u001b[0m\u001b[0m\n\u001b[0m\u001b[0;32m      2\u001b[0m \u001b[0mout\u001b[0m \u001b[1;33m=\u001b[0m \u001b[0mpd\u001b[0m\u001b[1;33m.\u001b[0m\u001b[0mDataFrame\u001b[0m\u001b[1;33m(\u001b[0m\u001b[0mcentroids\u001b[0m\u001b[1;33m,\u001b[0m\u001b[0mindex\u001b[0m\u001b[1;33m=\u001b[0m\u001b[0mtest_path\u001b[0m\u001b[1;33m)\u001b[0m\u001b[1;33m\u001b[0m\u001b[1;33m\u001b[0m\u001b[0m\n\u001b[0;32m      3\u001b[0m \u001b[0mout\u001b[0m\u001b[1;33m.\u001b[0m\u001b[0mto_csv\u001b[0m\u001b[1;33m(\u001b[0m\u001b[1;34m'SIFT_transform.csv'\u001b[0m\u001b[1;33m,\u001b[0m\u001b[0mindex_label\u001b[0m\u001b[1;33m=\u001b[0m\u001b[1;34m'id'\u001b[0m\u001b[1;33m,\u001b[0m\u001b[0mheader\u001b[0m\u001b[1;33m=\u001b[0m\u001b[1;33m[\u001b[0m\u001b[1;34m'x'\u001b[0m\u001b[1;33m,\u001b[0m\u001b[1;34m'y'\u001b[0m\u001b[1;33m]\u001b[0m\u001b[1;33m)\u001b[0m\u001b[1;33m\u001b[0m\u001b[1;33m\u001b[0m\u001b[0m\n",
      "\u001b[1;32m~\\AppData\\Local\\Temp/ipykernel_7756/3516828284.py\u001b[0m in \u001b[0;36mSIFT_transform\u001b[1;34m(MIN_MATCHES, threshold, max_clusters, max_radius, min_size, max_match_keep, ratio, max_range)\u001b[0m\n\u001b[0;32m     54\u001b[0m                                                  max_radius, min_size)\n\u001b[0;32m     55\u001b[0m         final_loc = displacement_calculation(test_img, centroid, locs, \n\u001b[1;32m---> 56\u001b[1;33m                                              fnames, K, ratio, max_range)\n\u001b[0m\u001b[0;32m     57\u001b[0m         \u001b[0mcentroids\u001b[0m\u001b[1;33m.\u001b[0m\u001b[0mappend\u001b[0m\u001b[1;33m(\u001b[0m\u001b[0mfinal_loc\u001b[0m\u001b[1;33m)\u001b[0m\u001b[1;33m\u001b[0m\u001b[1;33m\u001b[0m\u001b[0m\n",
      "\u001b[1;32mD:\\MIT\\Computer Vision\\COMP90086-Project\\kmeans.py\u001b[0m in \u001b[0;36mdisplacement_calculation\u001b[1;34m(test_img, centroid, coords, fnames, cam_matrix, ratio, max_range, max_displacement)\u001b[0m\n\u001b[0;32m    201\u001b[0m     \u001b[1;32mfor\u001b[0m \u001b[0mtrain\u001b[0m \u001b[1;32min\u001b[0m \u001b[0mfnames\u001b[0m\u001b[1;33m:\u001b[0m\u001b[1;33m\u001b[0m\u001b[1;33m\u001b[0m\u001b[0m\n\u001b[0;32m    202\u001b[0m         \u001b[0mtrain_img\u001b[0m \u001b[1;33m=\u001b[0m \u001b[0mcv2\u001b[0m\u001b[1;33m.\u001b[0m\u001b[0mimread\u001b[0m\u001b[1;33m(\u001b[0m\u001b[1;34m'./train/'\u001b[0m \u001b[1;33m+\u001b[0m \u001b[0mtrain\u001b[0m \u001b[1;33m+\u001b[0m \u001b[1;34m'.jpg'\u001b[0m\u001b[1;33m)\u001b[0m\u001b[1;33m\u001b[0m\u001b[1;33m\u001b[0m\u001b[0m\n\u001b[1;32m--> 203\u001b[1;33m         \u001b[0mkp\u001b[0m\u001b[1;33m,\u001b[0m\u001b[0mdes\u001b[0m \u001b[1;33m=\u001b[0m \u001b[0msift\u001b[0m\u001b[1;33m.\u001b[0m\u001b[0mdetectAndCompute\u001b[0m\u001b[1;33m(\u001b[0m\u001b[0mtrain_img\u001b[0m\u001b[1;33m,\u001b[0m\u001b[1;32mNone\u001b[0m\u001b[1;33m)\u001b[0m\u001b[1;33m\u001b[0m\u001b[1;33m\u001b[0m\u001b[0m\n\u001b[0m\u001b[0;32m    204\u001b[0m         \u001b[0mkp_train\u001b[0m\u001b[1;33m.\u001b[0m\u001b[0mappend\u001b[0m\u001b[1;33m(\u001b[0m\u001b[0mkp\u001b[0m\u001b[1;33m)\u001b[0m\u001b[1;33m\u001b[0m\u001b[1;33m\u001b[0m\u001b[0m\n\u001b[0;32m    205\u001b[0m         \u001b[0mdes_train\u001b[0m\u001b[1;33m.\u001b[0m\u001b[0mappend\u001b[0m\u001b[1;33m(\u001b[0m\u001b[0mdes\u001b[0m\u001b[1;33m)\u001b[0m\u001b[1;33m\u001b[0m\u001b[1;33m\u001b[0m\u001b[0m\n",
      "\u001b[1;31mKeyboardInterrupt\u001b[0m: "
     ]
    }
   ],
   "source": [
    "centroid = SIFT_transform(5,5,5,15,1,0.4,0.6,10)\n",
    "out = pd.DataFrame(centroids,index=test_path)\n",
    "out.to_csv('SIFT_transform.csv',index_label='id',header=['x','y'])"
   ]
  },
  {
   "cell_type": "code",
   "execution_count": null,
   "metadata": {},
   "outputs": [],
   "source": []
  }
 ],
 "metadata": {
  "interpreter": {
   "hash": "4621005da5c26ac209901ca167bf25025457b064ec855aea9ba97365ac8d4984"
  },
  "kernelspec": {
   "display_name": "Python 3 (ipykernel)",
   "language": "python",
   "name": "python3"
  },
  "language_info": {
   "codemirror_mode": {
    "name": "ipython",
    "version": 3
   },
   "file_extension": ".py",
   "mimetype": "text/x-python",
   "name": "python",
   "nbconvert_exporter": "python",
   "pygments_lexer": "ipython3",
   "version": "3.7.11"
  }
 },
 "nbformat": 4,
 "nbformat_minor": 2
}
