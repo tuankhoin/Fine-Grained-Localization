{
 "cells": [
  {
   "cell_type": "code",
   "execution_count": 14,
   "metadata": {},
   "outputs": [],
   "source": [
    "import numpy as np\n",
    "import pandas as pd\n",
    "import matplotlib.pyplot as plt\n",
    "import pickle\n",
    "from tqdm import tqdm"
   ]
  },
  {
   "cell_type": "code",
   "execution_count": 9,
   "metadata": {},
   "outputs": [],
   "source": [
    "dist = pd.read_csv('./resnet101_matches_distance.csv').values\n",
    "fname = pd.read_csv('./resnet101_matches_filename.csv').values"
   ]
  },
  {
   "cell_type": "code",
   "execution_count": 3,
   "metadata": {},
   "outputs": [],
   "source": [
    "train_xy = pd.read_csv('train.csv', index_col=0)\n",
    "test_path = pd.read_csv('imagenames.csv')['id'].values"
   ]
  },
  {
   "cell_type": "code",
   "execution_count": 4,
   "metadata": {},
   "outputs": [],
   "source": [
    "# Limit the candidate pictures to a limited decrease only, comparing to the top one\n",
    "extract_match = lambda i, thresh: fname[i,np.argwhere(dist[i] < dist[i,0] + thresh)]"
   ]
  },
  {
   "cell_type": "code",
   "execution_count": 5,
   "metadata": {},
   "outputs": [],
   "source": [
    "# Clustered Online Cumulative K-Means (COCK) \n",
    "def onl_kmeans(data, fnames, max_clusters, max_range):\n",
    "    cluster_centrals = None\n",
    "    cluster_elems = []\n",
    "    cluster_filename = []\n",
    "    cluster_count = []\n",
    "    for i,coord in enumerate(data):\n",
    "        # Adding the first point as the first cluster central\n",
    "        if cluster_centrals is None:\n",
    "            cluster_centrals = np.array([coord])\n",
    "            cluster_elems.append([coord])\n",
    "            cluster_filename.append([fnames[i]])\n",
    "            cluster_count.append(1)\n",
    "            continue\n",
    "        # Get distance from point to each cluster\n",
    "        distances = np.sum((cluster_centrals - coord)**2, axis=1)**0.5\n",
    "        nearest = np.argmin(distances)\n",
    "        # If point is far away from clusters, it's on its own cluster\n",
    "        if distances[nearest] > max_range:\n",
    "            # Stop when max number of clusters reached\n",
    "            if cluster_centrals.shape[0] == max_clusters: break\n",
    "            cluster_centrals = np.append(cluster_centrals,[coord], axis=0)\n",
    "            cluster_elems.append([coord])\n",
    "            cluster_filename.append([fnames[i]])\n",
    "            cluster_count.append(1)\n",
    "        # If not, it belongs to cluster with nearest centeal. Update that one\n",
    "        else:\n",
    "            cluster_centrals[nearest] = (cluster_centrals[nearest] \n",
    "                                       * cluster_count[nearest] \n",
    "                                       + coord) / (cluster_count[nearest]+1)\n",
    "            cluster_elems[nearest].append(coord)\n",
    "            cluster_filename[nearest].append(fnames[i])\n",
    "            cluster_count[nearest] += 1\n",
    "    # Return the coordinates, filenames, and center of the largest cluster\n",
    "    biggest_cluster = np.argmax(cluster_count)\n",
    "    return cluster_elems[biggest_cluster], \\\n",
    "           cluster_filename[biggest_cluster], \\\n",
    "           cluster_centrals[biggest_cluster]"
   ]
  },
  {
   "cell_type": "code",
   "execution_count": 11,
   "metadata": {},
   "outputs": [
    {
     "name": "stderr",
     "output_type": "stream",
     "text": [
      "100%|██████████| 1200/1200 [00:01<00:00, 1044.40it/s]\n"
     ]
    }
   ],
   "source": [
    "# Processing\n",
    "threshold = 5\n",
    "max_clusters = 5\n",
    "max_radius = 7\n",
    "\n",
    "locs = []\n",
    "fnames = []\n",
    "centroids = []\n",
    "for i,_ in enumerate(tqdm(test_path)):\n",
    "    img_idx = extract_match(i,threshold).flatten()\n",
    "    coords = train_xy.loc[img_idx].values\n",
    "    loc, f, centroid = onl_kmeans(coords, img_idx, max_clusters, max_radius)\n",
    "    locs.append(loc)\n",
    "    fnames.append(f)\n",
    "    centroids.append(centroids)"
   ]
  },
  {
   "cell_type": "code",
   "execution_count": 15,
   "metadata": {},
   "outputs": [],
   "source": [
    "# If export cluster image specs for SIFT, run this\n",
    "f = open(f'./kmeans_coords.pckl','wb')\n",
    "pickle.dump(locs,f)\n",
    "f.close()\n",
    "\n",
    "f = open(f'./fnames_coords.pckl','wb')\n",
    "pickle.dump(fnames,f)\n",
    "f.close()"
   ]
  },
  {
   "cell_type": "code",
   "execution_count": 136,
   "metadata": {},
   "outputs": [],
   "source": [
    "# If taking centroid as output, run this\n",
    "out = pd.DataFrame(centroids,index=test_path)\n",
    "out.to_csv('COCK_5_5_7.csv',index_label='id',header=['x','y'])"
   ]
  }
 ],
 "metadata": {
  "interpreter": {
   "hash": "4621005da5c26ac209901ca167bf25025457b064ec855aea9ba97365ac8d4984"
  },
  "kernelspec": {
   "display_name": "Python 3.6.8 64-bit",
   "name": "python3"
  },
  "language_info": {
   "codemirror_mode": {
    "name": "ipython",
    "version": 3
   },
   "file_extension": ".py",
   "mimetype": "text/x-python",
   "name": "python",
   "nbconvert_exporter": "python",
   "pygments_lexer": "ipython3",
   "version": "3.6.8"
  },
  "orig_nbformat": 4
 },
 "nbformat": 4,
 "nbformat_minor": 2
}
