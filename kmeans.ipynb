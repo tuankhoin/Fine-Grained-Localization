{
 "cells": [
  {
   "cell_type": "code",
   "execution_count": 121,
   "source": [
    "import numpy as np\r\n",
    "import pandas as pd\r\n",
    "import matplotlib.pyplot as plt\r\n",
    "\r\n",
    "from tqdm import tqdm"
   ],
   "outputs": [],
   "metadata": {}
  },
  {
   "cell_type": "code",
   "execution_count": 7,
   "source": [
    "dist = pd.read_csv('./resnet101_matches_distance.csv').values\r\n",
    "fname = pd.read_csv('./resnet101_matches_filename.csv').values"
   ],
   "outputs": [],
   "metadata": {}
  },
  {
   "cell_type": "code",
   "execution_count": 18,
   "source": [
    "train_xy = pd.read_csv('train.csv', index_col=0)\r\n",
    "test_path = pd.read_csv('imagenames.csv')['id'].values"
   ],
   "outputs": [],
   "metadata": {}
  },
  {
   "cell_type": "code",
   "execution_count": 132,
   "source": [
    "# Limit the candidate pictures to a limited decrease only, comparing to the top one\r\n",
    "extract_match = lambda i, thresh: fname[i,np.argwhere(dist[i] < dist[i,0] + thresh)]"
   ],
   "outputs": [],
   "metadata": {}
  },
  {
   "cell_type": "code",
   "execution_count": 123,
   "source": [
    "# Clustered Online Cumulative K-Means (COCK) \r\n",
    "def onl_kmeans(data, max_clusters, max_range):\r\n",
    "    cluster_centrals = None\r\n",
    "    cluster_count = []\r\n",
    "    for coord in data:\r\n",
    "        # Adding the first point as the first cluster central\r\n",
    "        if cluster_centrals is None:\r\n",
    "            cluster_centrals = np.array([coord])\r\n",
    "            cluster_count.append(1)\r\n",
    "            continue\r\n",
    "        # Get distance from point to each cluster\r\n",
    "        distances = np.sum((cluster_centrals - coord)**2, axis=1)**0.5\r\n",
    "        nearest = np.argmin(distances)\r\n",
    "        # If point is far away from clusters, it's on its own cluster\r\n",
    "        if distances[nearest] > max_range:\r\n",
    "            # Stop when max number of clusters reached\r\n",
    "            if cluster_centrals.shape[0] == max_clusters: break\r\n",
    "            cluster_centrals = np.append(cluster_centrals,[coord], axis=0)\r\n",
    "            cluster_count.append(1)\r\n",
    "        # If not, it belongs to cluster with nearest centeal. Update that one\r\n",
    "        else:\r\n",
    "            cluster_centrals[nearest] = (cluster_centrals[nearest] \r\n",
    "                                       * cluster_count[nearest] \r\n",
    "                                       + coord) / (cluster_count[nearest]+1)\r\n",
    "            cluster_count[nearest] += 1\r\n",
    "    # Return the center of the largest cluster\r\n",
    "    biggest_cluster = np.argmax(cluster_count)\r\n",
    "    return cluster_centrals[biggest_cluster]"
   ],
   "outputs": [],
   "metadata": {}
  },
  {
   "cell_type": "code",
   "execution_count": 135,
   "source": [
    "threshold = 5\r\n",
    "max_clusters = 5\r\n",
    "max_radius = 7\r\n",
    "\r\n",
    "locs = []\r\n",
    "for i,_ in enumerate(tqdm(test_path)):\r\n",
    "    coords = train_xy.loc[extract_match(i,threshold).flatten()].values\r\n",
    "    loc = onl_kmeans(coords,max_clusters,max_radius)\r\n",
    "    locs.append(loc)"
   ],
   "outputs": [
    {
     "output_type": "stream",
     "name": "stderr",
     "text": [
      "100%|██████████| 1200/1200 [00:01<00:00, 1146.78it/s]\n"
     ]
    }
   ],
   "metadata": {}
  },
  {
   "cell_type": "code",
   "execution_count": 136,
   "source": [
    "out = pd.DataFrame(locs,index=test_path)\r\n",
    "out.to_csv('COCK_5_5_7.csv',index_label='id',header=['x','y'])"
   ],
   "outputs": [],
   "metadata": {}
  }
 ],
 "metadata": {
  "orig_nbformat": 4,
  "language_info": {
   "name": "python",
   "version": "3.6.8",
   "mimetype": "text/x-python",
   "codemirror_mode": {
    "name": "ipython",
    "version": 3
   },
   "pygments_lexer": "ipython3",
   "nbconvert_exporter": "python",
   "file_extension": ".py"
  },
  "kernelspec": {
   "name": "python3",
   "display_name": "Python 3.6.8 64-bit"
  },
  "interpreter": {
   "hash": "4621005da5c26ac209901ca167bf25025457b064ec855aea9ba97365ac8d4984"
  }
 },
 "nbformat": 4,
 "nbformat_minor": 2
}