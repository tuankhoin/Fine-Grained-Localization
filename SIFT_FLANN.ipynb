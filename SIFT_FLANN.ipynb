{
 "cells": [
  {
   "cell_type": "code",
   "execution_count": 1,
   "source": [
    "import numpy as np\r\n",
    "import pandas as pd\r\n",
    "import cv2\r\n",
    "import tqdm\r\n",
    "from matplotlib import pyplot as plt\r\n",
    "import pickle"
   ],
   "outputs": [],
   "metadata": {}
  },
  {
   "cell_type": "code",
   "execution_count": 2,
   "source": [
    "train_i = []\r\n",
    "test_i = []\r\n",
    "\r\n",
    "train_xy = pd.read_csv('train.csv')\r\n",
    "train_path = train_xy['id'].values\r\n",
    "test_path = pd.read_csv('imagenames.csv')['id'].values\r\n",
    "\r\n",
    "for f in train_path:\r\n",
    "    i = cv2.imread('./train/' + f + '.jpg')\r\n",
    "    train_i.append(i)\r\n",
    "for f in test_path:\r\n",
    "    i = cv2.imread('./test/' + f + '.jpg')\r\n",
    "    test_i.append(i)"
   ],
   "outputs": [],
   "metadata": {}
  },
  {
   "cell_type": "code",
   "execution_count": 6,
   "source": [
    "sift = cv2.SIFT_create()\r\n",
    "\r\n",
    "# Compute SIFT keypoints and descriptors\r\n",
    "for i,img in tqdm.tqdm(enumerate(train_i)):\r\n",
    "    _, des = sift.detectAndCompute(img,None)\r\n",
    "    f = open(f'./train_kp/train_kp{train_path[i]}.pckl','wb')\r\n",
    "    pickle.dump(des,f)\r\n",
    "    f.close()\r\n",
    "\r\n",
    "for i,img in tqdm.tqdm(enumerate(test_i)):\r\n",
    "    _, des = sift.detectAndCompute(img,None)\r\n",
    "    f = open(f'./test_kp/test_kp{test_path[i]}.pckl','wb')\r\n",
    "    pickle.dump(des,f)\r\n",
    "    f.close()\r\n"
   ],
   "outputs": [
    {
     "output_type": "stream",
     "name": "stderr",
     "text": [
      "7500it [11:35, 10.78it/s]\n",
      "1200it [01:56, 10.31it/s]\n"
     ]
    }
   ],
   "metadata": {}
  },
  {
   "cell_type": "code",
   "execution_count": 24,
   "source": [
    "FLANN_INDEX_KDTREE = 1\r\n",
    "index_params = dict(algorithm = FLANN_INDEX_KDTREE, trees = 5)\r\n",
    "search_params = dict(checks=50)\r\n",
    "flann = cv2.FlannBasedMatcher(index_params,search_params)\r\n",
    "\r\n",
    "best_train = []\r\n",
    "second_best_train = []\r\n",
    "third_best_train = []\r\n",
    "for test in tqdm.tqdm(test_path):\r\n",
    "\r\n",
    "    f = open(f'./test_kp/test_kp{test}.pckl', 'rb')\r\n",
    "    des_test = pickle.load(f)\r\n",
    "    f.close()\r\n",
    "\r\n",
    "    goods = []\r\n",
    "    current_good = 0\r\n",
    "\r\n",
    "    if des_test is None or len(des_test) < 2:\r\n",
    "        best_train.append('')\r\n",
    "        second_best_train.append('')\r\n",
    "        third_best_train.append('')\r\n",
    "        continue\r\n",
    "\r\n",
    "    for train in train_path:\r\n",
    "        f = open(f'./train_kp/train_kp{train}.pckl', 'rb')\r\n",
    "        des_train = pickle.load(f)\r\n",
    "        f.close()\r\n",
    "\r\n",
    "        # Matching descriptor using KNN algorithm\r\n",
    "        if des_train is None or len(des_train) < 2:\r\n",
    "            goods.append(-1)\r\n",
    "            continue\r\n",
    "        matches = flann.knnMatch(des_test,des_train,k=2)\r\n",
    "\r\n",
    "        # Store all good matches as per Lowe's Ratio test.\r\n",
    "        good = len([m for m,n in matches if m.distance < 0.7*n.distance])\r\n",
    "        goods.append(good)\r\n",
    "        \r\n",
    "    best = [train_path[idx] for idx in np.argsort(goods)]\r\n",
    "    f = open(f'./best/best_sift_{test}.pckl','wb')\r\n",
    "    pickle.dump(best,f)\r\n",
    "    f.close()"
   ],
   "outputs": [
    {
     "output_type": "stream",
     "name": "stderr",
     "text": [
      "  0%|          | 1/1200 [04:04<81:33:39, 244.89s/it]"
     ]
    },
    {
     "output_type": "stream",
     "name": "stdout",
     "text": [
      "IMG3375_4 IMG3307_5 IMG2832_4\n",
      "['IMG3734_2', 'IMG3442_3', 'IMG3375_4']\n"
     ]
    },
    {
     "output_type": "stream",
     "name": "stderr",
     "text": [
      "  0%|          | 1/1200 [06:04<121:31:34, 364.88s/it]\n"
     ]
    },
    {
     "output_type": "error",
     "ename": "KeyboardInterrupt",
     "evalue": "",
     "traceback": [
      "\u001b[1;31m---------------------------------------------------------------------------\u001b[0m",
      "\u001b[1;31mKeyboardInterrupt\u001b[0m                         Traceback (most recent call last)",
      "\u001b[1;32m<ipython-input-24-d997b1e842cc>\u001b[0m in \u001b[0;36m<module>\u001b[1;34m\u001b[0m\n\u001b[0;32m     29\u001b[0m             \u001b[0mgoods\u001b[0m\u001b[1;33m.\u001b[0m\u001b[0mappend\u001b[0m\u001b[1;33m(\u001b[0m\u001b[1;33m-\u001b[0m\u001b[1;36m1\u001b[0m\u001b[1;33m)\u001b[0m\u001b[1;33m\u001b[0m\u001b[1;33m\u001b[0m\u001b[0m\n\u001b[0;32m     30\u001b[0m             \u001b[1;32mcontinue\u001b[0m\u001b[1;33m\u001b[0m\u001b[1;33m\u001b[0m\u001b[0m\n\u001b[1;32m---> 31\u001b[1;33m         \u001b[0mmatches\u001b[0m \u001b[1;33m=\u001b[0m \u001b[0mflann\u001b[0m\u001b[1;33m.\u001b[0m\u001b[0mknnMatch\u001b[0m\u001b[1;33m(\u001b[0m\u001b[0mdes_test\u001b[0m\u001b[1;33m,\u001b[0m\u001b[0mdes_train\u001b[0m\u001b[1;33m,\u001b[0m\u001b[0mk\u001b[0m\u001b[1;33m=\u001b[0m\u001b[1;36m2\u001b[0m\u001b[1;33m)\u001b[0m\u001b[1;33m\u001b[0m\u001b[1;33m\u001b[0m\u001b[0m\n\u001b[0m\u001b[0;32m     32\u001b[0m \u001b[1;33m\u001b[0m\u001b[0m\n\u001b[0;32m     33\u001b[0m         \u001b[1;31m# Store all good matches as per Lowe's Ratio test.\u001b[0m\u001b[1;33m\u001b[0m\u001b[1;33m\u001b[0m\u001b[1;33m\u001b[0m\u001b[0m\n",
      "\u001b[1;31mKeyboardInterrupt\u001b[0m: "
     ]
    }
   ],
   "metadata": {}
  }
 ],
 "metadata": {
  "orig_nbformat": 4,
  "language_info": {
   "name": "python",
   "version": "3.6.8",
   "mimetype": "text/x-python",
   "codemirror_mode": {
    "name": "ipython",
    "version": 3
   },
   "pygments_lexer": "ipython3",
   "nbconvert_exporter": "python",
   "file_extension": ".py"
  },
  "kernelspec": {
   "name": "python3",
   "display_name": "Python 3.6.8 64-bit"
  },
  "interpreter": {
   "hash": "4621005da5c26ac209901ca167bf25025457b064ec855aea9ba97365ac8d4984"
  }
 },
 "nbformat": 4,
 "nbformat_minor": 2
}