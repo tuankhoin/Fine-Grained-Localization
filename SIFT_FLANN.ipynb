{
 "cells": [
  {
   "cell_type": "code",
   "execution_count": 1,
   "metadata": {},
   "outputs": [],
   "source": [
    "import numpy as np\n",
    "import pandas as pd\n",
    "import cv2\n",
    "import tqdm\n",
    "from matplotlib import pyplot as plt\n",
    "import pickle"
   ]
  },
  {
   "cell_type": "code",
   "execution_count": 2,
   "metadata": {},
   "outputs": [],
   "source": [
    "train_i = []\n",
    "test_i = []\n",
    "\n",
    "train_xy = pd.read_csv('train.csv')\n",
    "train_path = train_xy['id'].values\n",
    "test_path = pd.read_csv('imagenames.csv')['id'].values\n",
    "\n",
    "for f in train_path:\n",
    "    i = cv2.imread('./train/' + f + '.jpg')\n",
    "    train_i.append(i)\n",
    "for f in test_path:\n",
    "    i = cv2.imread('./test/' + f + '.jpg')\n",
    "    test_i.append(i)"
   ]
  },
  {
   "cell_type": "code",
   "execution_count": 6,
   "metadata": {},
   "outputs": [
    {
     "name": "stderr",
     "output_type": "stream",
     "text": [
      "7500it [11:35, 10.78it/s]\n",
      "1200it [01:56, 10.31it/s]\n"
     ]
    }
   ],
   "source": [
    "sift = cv2.SIFT_create()\n",
    "\n",
    "# Compute SIFT keypoints and descriptors\n",
    "for i,img in tqdm.tqdm(enumerate(train_i)):\n",
    "    _, des = sift.detectAndCompute(img,None)\n",
    "    f = open(f'./train_kp/train_kp{train_path[i]}.pckl','wb')\n",
    "    pickle.dump(des,f)\n",
    "    f.close()\n",
    "\n",
    "for i,img in tqdm.tqdm(enumerate(test_i)):\n",
    "    _, des = sift.detectAndCompute(img,None)\n",
    "    f = open(f'./test_kp/test_kp{test_path[i]}.pckl','wb')\n",
    "    pickle.dump(des,f)\n",
    "    f.close()\n"
   ]
  },
  {
   "cell_type": "code",
   "execution_count": 24,
   "metadata": {},
   "outputs": [
    {
     "name": "stderr",
     "output_type": "stream",
     "text": [
      "  0%|          | 1/1200 [04:04<81:33:39, 244.89s/it]"
     ]
    },
    {
     "name": "stdout",
     "output_type": "stream",
     "text": [
      "IMG3375_4 IMG3307_5 IMG2832_4\n",
      "['IMG3734_2', 'IMG3442_3', 'IMG3375_4']\n"
     ]
    },
    {
     "name": "stderr",
     "output_type": "stream",
     "text": [
      "  0%|          | 1/1200 [06:04<121:31:34, 364.88s/it]\n"
     ]
    },
    {
     "ename": "KeyboardInterrupt",
     "evalue": "",
     "output_type": "error",
     "traceback": [
      "\u001b[1;31m---------------------------------------------------------------------------\u001b[0m",
      "\u001b[1;31mKeyboardInterrupt\u001b[0m                         Traceback (most recent call last)",
      "\u001b[1;32m<ipython-input-24-d997b1e842cc>\u001b[0m in \u001b[0;36m<module>\u001b[1;34m\u001b[0m\n\u001b[0;32m     29\u001b[0m             \u001b[0mgoods\u001b[0m\u001b[1;33m.\u001b[0m\u001b[0mappend\u001b[0m\u001b[1;33m(\u001b[0m\u001b[1;33m-\u001b[0m\u001b[1;36m1\u001b[0m\u001b[1;33m)\u001b[0m\u001b[1;33m\u001b[0m\u001b[1;33m\u001b[0m\u001b[0m\n\u001b[0;32m     30\u001b[0m             \u001b[1;32mcontinue\u001b[0m\u001b[1;33m\u001b[0m\u001b[1;33m\u001b[0m\u001b[0m\n\u001b[1;32m---> 31\u001b[1;33m         \u001b[0mmatches\u001b[0m \u001b[1;33m=\u001b[0m \u001b[0mflann\u001b[0m\u001b[1;33m.\u001b[0m\u001b[0mknnMatch\u001b[0m\u001b[1;33m(\u001b[0m\u001b[0mdes_test\u001b[0m\u001b[1;33m,\u001b[0m\u001b[0mdes_train\u001b[0m\u001b[1;33m,\u001b[0m\u001b[0mk\u001b[0m\u001b[1;33m=\u001b[0m\u001b[1;36m2\u001b[0m\u001b[1;33m)\u001b[0m\u001b[1;33m\u001b[0m\u001b[1;33m\u001b[0m\u001b[0m\n\u001b[0m\u001b[0;32m     32\u001b[0m \u001b[1;33m\u001b[0m\u001b[0m\n\u001b[0;32m     33\u001b[0m         \u001b[1;31m# Store all good matches as per Lowe's Ratio test.\u001b[0m\u001b[1;33m\u001b[0m\u001b[1;33m\u001b[0m\u001b[1;33m\u001b[0m\u001b[0m\n",
      "\u001b[1;31mKeyboardInterrupt\u001b[0m: "
     ]
    }
   ],
   "source": [
    "FLANN_INDEX_KDTREE = 1\n",
    "index_params = dict(algorithm = FLANN_INDEX_KDTREE, trees = 5)\n",
    "search_params = dict(checks=50)\n",
    "flann = cv2.FlannBasedMatcher(index_params,search_params)\n",
    "\n",
    "for test in tqdm.tqdm(test_path):\n",
    "\n",
    "    f = open(f'./test_kp/test_kp{test}.pckl', 'rb')\n",
    "    des_test = pickle.load(f)\n",
    "    f.close()\n",
    "\n",
    "    goods = []\n",
    "    current_good = 0\n",
    "\n",
    "    if des_test is None or len(des_test) < 2:\n",
    "        sorted_path = None\n",
    "        sorted_goods = None\n",
    "    else:\n",
    "        for train in train_path:\n",
    "            f = open(f'./train_kp/train_kp{train}.pckl', 'rb')\n",
    "            des_train = pickle.load(f)\n",
    "            f.close()\n",
    "\n",
    "            # Matching descriptor using KNN algorithm\n",
    "            if des_train is None or len(des_train) < 2:\n",
    "                goods.append(-1)\n",
    "                continue\n",
    "            matches = flann.knnMatch(des_test,des_train,k=2)\n",
    "\n",
    "            # Store all good matches as per Lowe's Ratio test.\n",
    "            good = len([m for m,n in matches if m.distance < 0.7*n.distance])\n",
    "            goods.append(good)\n",
    "        \n",
    "        sorted_idx = np.argsort(goods)\n",
    "        sorted_path = [train_path[idx] for idx in sorted_idx]\n",
    "        sorted_goods = [goods[idx] for idx in sorted_idx]\n",
    "        \n",
    "    f = open(f'./filename/sift_name_{test}.pckl','wb')\n",
    "    pickle.dump(sorted_path,f)\n",
    "    f.close()\n",
    "    f = open(f'./goodmatch/sift_good_n_{test}.pckl','wb')\n",
    "    pickle.dump(sorted_goods,f)\n",
    "    f.close()"
   ]
  }
 ],
 "metadata": {
  "interpreter": {
   "hash": "4621005da5c26ac209901ca167bf25025457b064ec855aea9ba97365ac8d4984"
  },
  "kernelspec": {
   "display_name": "Python 3.6.8 64-bit",
   "name": "python3"
  },
  "language_info": {
   "codemirror_mode": {
    "name": "ipython",
    "version": 3
   },
   "file_extension": ".py",
   "mimetype": "text/x-python",
   "name": "python",
   "nbconvert_exporter": "python",
   "pygments_lexer": "ipython3",
   "version": "3.6.8"
  },
  "orig_nbformat": 4
 },
 "nbformat": 4,
 "nbformat_minor": 2
}
